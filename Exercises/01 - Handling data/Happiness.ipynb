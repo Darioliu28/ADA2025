{
 "cells": [
  {
   "cell_type": "markdown",
   "metadata": {},
   "source": [
    "## Data from World Happiness Report\n",
    "\n",
    "The World Happiness Report is an annual publication of the United Nations Sustainable Development Solutions Network. It contains articles, and rankings of national happiness based on respondent ratings of their own lives, which the report also correlates with various life factors.\n",
    "\n",
    "In this notebook we will explore the happiness of different countries and the features associated.\n",
    "The datasets that we will use are available in *Data*: **happiness2020.pkl** and **countries_info.csv**.\n",
    "\n",
    "Although the features are self-explanatory, here a summary: \n",
    "\n",
    "**happiness2020.pkl**\n",
    "* country: *Name of the country*\n",
    "* happiness_score: *Happiness score*\n",
    "* social_support: *Social support (mitigation the effects of inequality)*\n",
    "* healthy_life_expectancy: *Healthy Life Expectancy*\n",
    "* freedom_of_choices: *Freedom to make life choices*\n",
    "* generosity: *Generosity (charity, volunteers)*\n",
    "* perception_of_corruption: *Corruption Perception*\n",
    "* world_region: *Area of the world of the country*\n",
    "\n",
    "**countries_info.csv**\n",
    "* country_name: *Name of the country*\n",
    "* area: *Area in sq mi*\n",
    "* population: *Number of people*\n",
    "* literacy: *Literacy percentage*"
   ]
  },
  {
   "cell_type": "code",
   "execution_count": 1,
   "metadata": {},
   "outputs": [
    {
     "name": "stdout",
     "output_type": "stream",
     "text": [
      "country_name,area,population,literacy\n",
      "afghanistan,647500,31056997,\"36,0\"\n",
      "albania,28748,3581655,\"86,5\"\n",
      "algeria,2381740,32930091,\"70,0\"\n",
      "argentina,2766890,39921833,\"97,1\"\n",
      "armenia,29800,2976372,\"98,6\"\n",
      "australia,7686850,20264082,\"100,0\"\n",
      "austria,83870,8192880,\"98,0\"\n",
      "azerbaijan,86600,7961619,\"97,0\"\n",
      "bahrain,665,698585,\"89,1\"\n"
     ]
    }
   ],
   "source": [
    "!head Data/countries_info.csv"
   ]
  },
  {
   "cell_type": "code",
   "execution_count": 58,
   "metadata": {},
   "outputs": [],
   "source": [
    "import pandas as pd\n",
    "%matplotlib inline\n",
    "\n",
    "DATA_FOLDER = 'Data/'\n",
    "\n",
    "HAPPINESS_DATASET = DATA_FOLDER+\"happiness2020.csv\"\n",
    "COUNTRIES_DATASET = DATA_FOLDER+\"countries_info.csv\""
   ]
  },
  {
   "cell_type": "markdown",
   "metadata": {},
   "source": [
    "## Task 1: Load the data\n",
    "\n",
    "Load the 2 datasets in Pandas dataframes (called *happiness* and *countries*), and show the first rows.\n",
    "\n",
    "\n",
    "**Hint**: Use the correct reader and verify the data has the expected format."
   ]
  },
  {
   "cell_type": "code",
   "execution_count": 59,
   "metadata": {},
   "outputs": [
    {
     "data": {
      "application/vnd.microsoft.datawrangler.viewer.v0+json": {
       "columns": [
        {
         "name": "index",
         "rawType": "int64",
         "type": "integer"
        },
        {
         "name": "country",
         "rawType": "object",
         "type": "string"
        },
        {
         "name": "happiness_score",
         "rawType": "float64",
         "type": "float"
        },
        {
         "name": "social_support",
         "rawType": "float64",
         "type": "float"
        },
        {
         "name": "healthy_life_expectancy",
         "rawType": "float64",
         "type": "float"
        },
        {
         "name": "freedom_of_choices",
         "rawType": "float64",
         "type": "float"
        },
        {
         "name": "generosity",
         "rawType": "float64",
         "type": "float"
        },
        {
         "name": "perception_of_corruption",
         "rawType": "float64",
         "type": "float"
        },
        {
         "name": "world_region",
         "rawType": "object",
         "type": "string"
        }
       ],
       "ref": "a4180670-6bae-4b27-b6c1-3ca174184064",
       "rows": [
        [
         "0",
         "Afghanistan",
         "2.566900015",
         "0.470366955",
         "52.59000015",
         "0.396573007",
         "-0.0964294",
         "0.933686554",
         "South Asia"
        ],
        [
         "1",
         "Albania",
         "4.882699966000001",
         "0.671070457",
         "68.70813751",
         "0.7819942240000001",
         "-0.042309489",
         "0.896303713",
         "Central and Eastern Europe"
        ],
        [
         "2",
         "Algeria",
         "5.005099773",
         "0.8033851390000001",
         "65.90517426",
         "0.4666109089999999",
         "-0.121105164",
         "0.7354851370000001",
         "Middle East and North Africa"
        ],
        [
         "3",
         "Argentina",
         "5.974699974",
         "0.900567949",
         "68.80380249",
         "0.831132412",
         "-0.194913864",
         "0.8420098420000001",
         "Latin America and Caribbean"
        ],
        [
         "4",
         "Armenia",
         "4.676799774",
         "0.7574794290000001",
         "66.75065613",
         "0.7120178340000001",
         "-0.13877961",
         "0.7735447879999999",
         "Commonwealth of Independent States"
        ]
       ],
       "shape": {
        "columns": 8,
        "rows": 5
       }
      },
      "text/html": [
       "<div>\n",
       "<style scoped>\n",
       "    .dataframe tbody tr th:only-of-type {\n",
       "        vertical-align: middle;\n",
       "    }\n",
       "\n",
       "    .dataframe tbody tr th {\n",
       "        vertical-align: top;\n",
       "    }\n",
       "\n",
       "    .dataframe thead th {\n",
       "        text-align: right;\n",
       "    }\n",
       "</style>\n",
       "<table border=\"1\" class=\"dataframe\">\n",
       "  <thead>\n",
       "    <tr style=\"text-align: right;\">\n",
       "      <th></th>\n",
       "      <th>country</th>\n",
       "      <th>happiness_score</th>\n",
       "      <th>social_support</th>\n",
       "      <th>healthy_life_expectancy</th>\n",
       "      <th>freedom_of_choices</th>\n",
       "      <th>generosity</th>\n",
       "      <th>perception_of_corruption</th>\n",
       "      <th>world_region</th>\n",
       "    </tr>\n",
       "  </thead>\n",
       "  <tbody>\n",
       "    <tr>\n",
       "      <th>0</th>\n",
       "      <td>Afghanistan</td>\n",
       "      <td>2.5669</td>\n",
       "      <td>0.470367</td>\n",
       "      <td>52.590000</td>\n",
       "      <td>0.396573</td>\n",
       "      <td>-0.096429</td>\n",
       "      <td>0.933687</td>\n",
       "      <td>South Asia</td>\n",
       "    </tr>\n",
       "    <tr>\n",
       "      <th>1</th>\n",
       "      <td>Albania</td>\n",
       "      <td>4.8827</td>\n",
       "      <td>0.671070</td>\n",
       "      <td>68.708138</td>\n",
       "      <td>0.781994</td>\n",
       "      <td>-0.042309</td>\n",
       "      <td>0.896304</td>\n",
       "      <td>Central and Eastern Europe</td>\n",
       "    </tr>\n",
       "    <tr>\n",
       "      <th>2</th>\n",
       "      <td>Algeria</td>\n",
       "      <td>5.0051</td>\n",
       "      <td>0.803385</td>\n",
       "      <td>65.905174</td>\n",
       "      <td>0.466611</td>\n",
       "      <td>-0.121105</td>\n",
       "      <td>0.735485</td>\n",
       "      <td>Middle East and North Africa</td>\n",
       "    </tr>\n",
       "    <tr>\n",
       "      <th>3</th>\n",
       "      <td>Argentina</td>\n",
       "      <td>5.9747</td>\n",
       "      <td>0.900568</td>\n",
       "      <td>68.803802</td>\n",
       "      <td>0.831132</td>\n",
       "      <td>-0.194914</td>\n",
       "      <td>0.842010</td>\n",
       "      <td>Latin America and Caribbean</td>\n",
       "    </tr>\n",
       "    <tr>\n",
       "      <th>4</th>\n",
       "      <td>Armenia</td>\n",
       "      <td>4.6768</td>\n",
       "      <td>0.757479</td>\n",
       "      <td>66.750656</td>\n",
       "      <td>0.712018</td>\n",
       "      <td>-0.138780</td>\n",
       "      <td>0.773545</td>\n",
       "      <td>Commonwealth of Independent States</td>\n",
       "    </tr>\n",
       "  </tbody>\n",
       "</table>\n",
       "</div>"
      ],
      "text/plain": [
       "       country  happiness_score  social_support  healthy_life_expectancy  \\\n",
       "0  Afghanistan           2.5669        0.470367                52.590000   \n",
       "1      Albania           4.8827        0.671070                68.708138   \n",
       "2      Algeria           5.0051        0.803385                65.905174   \n",
       "3    Argentina           5.9747        0.900568                68.803802   \n",
       "4      Armenia           4.6768        0.757479                66.750656   \n",
       "\n",
       "   freedom_of_choices  generosity  perception_of_corruption  \\\n",
       "0            0.396573   -0.096429                  0.933687   \n",
       "1            0.781994   -0.042309                  0.896304   \n",
       "2            0.466611   -0.121105                  0.735485   \n",
       "3            0.831132   -0.194914                  0.842010   \n",
       "4            0.712018   -0.138780                  0.773545   \n",
       "\n",
       "                         world_region  \n",
       "0                          South Asia  \n",
       "1          Central and Eastern Europe  \n",
       "2        Middle East and North Africa  \n",
       "3         Latin America and Caribbean  \n",
       "4  Commonwealth of Independent States  "
      ]
     },
     "execution_count": 59,
     "metadata": {},
     "output_type": "execute_result"
    }
   ],
   "source": [
    "happiness=pd.read_csv(HAPPINESS_DATASET)\n",
    "happiness.head()"
   ]
  },
  {
   "cell_type": "code",
   "execution_count": 60,
   "metadata": {},
   "outputs": [
    {
     "data": {
      "application/vnd.microsoft.datawrangler.viewer.v0+json": {
       "columns": [
        {
         "name": "index",
         "rawType": "int64",
         "type": "integer"
        },
        {
         "name": "country_name",
         "rawType": "object",
         "type": "string"
        },
        {
         "name": "area",
         "rawType": "int64",
         "type": "integer"
        },
        {
         "name": "population",
         "rawType": "int64",
         "type": "integer"
        },
        {
         "name": "literacy",
         "rawType": "object",
         "type": "string"
        }
       ],
       "ref": "bf017047-dc25-42f9-95a8-43d4f81bc99f",
       "rows": [
        [
         "0",
         "afghanistan",
         "647500",
         "31056997",
         "36,0"
        ],
        [
         "1",
         "albania",
         "28748",
         "3581655",
         "86,5"
        ],
        [
         "2",
         "algeria",
         "2381740",
         "32930091",
         "70,0"
        ],
        [
         "3",
         "argentina",
         "2766890",
         "39921833",
         "97,1"
        ],
        [
         "4",
         "armenia",
         "29800",
         "2976372",
         "98,6"
        ]
       ],
       "shape": {
        "columns": 4,
        "rows": 5
       }
      },
      "text/html": [
       "<div>\n",
       "<style scoped>\n",
       "    .dataframe tbody tr th:only-of-type {\n",
       "        vertical-align: middle;\n",
       "    }\n",
       "\n",
       "    .dataframe tbody tr th {\n",
       "        vertical-align: top;\n",
       "    }\n",
       "\n",
       "    .dataframe thead th {\n",
       "        text-align: right;\n",
       "    }\n",
       "</style>\n",
       "<table border=\"1\" class=\"dataframe\">\n",
       "  <thead>\n",
       "    <tr style=\"text-align: right;\">\n",
       "      <th></th>\n",
       "      <th>country_name</th>\n",
       "      <th>area</th>\n",
       "      <th>population</th>\n",
       "      <th>literacy</th>\n",
       "    </tr>\n",
       "  </thead>\n",
       "  <tbody>\n",
       "    <tr>\n",
       "      <th>0</th>\n",
       "      <td>afghanistan</td>\n",
       "      <td>647500</td>\n",
       "      <td>31056997</td>\n",
       "      <td>36,0</td>\n",
       "    </tr>\n",
       "    <tr>\n",
       "      <th>1</th>\n",
       "      <td>albania</td>\n",
       "      <td>28748</td>\n",
       "      <td>3581655</td>\n",
       "      <td>86,5</td>\n",
       "    </tr>\n",
       "    <tr>\n",
       "      <th>2</th>\n",
       "      <td>algeria</td>\n",
       "      <td>2381740</td>\n",
       "      <td>32930091</td>\n",
       "      <td>70,0</td>\n",
       "    </tr>\n",
       "    <tr>\n",
       "      <th>3</th>\n",
       "      <td>argentina</td>\n",
       "      <td>2766890</td>\n",
       "      <td>39921833</td>\n",
       "      <td>97,1</td>\n",
       "    </tr>\n",
       "    <tr>\n",
       "      <th>4</th>\n",
       "      <td>armenia</td>\n",
       "      <td>29800</td>\n",
       "      <td>2976372</td>\n",
       "      <td>98,6</td>\n",
       "    </tr>\n",
       "  </tbody>\n",
       "</table>\n",
       "</div>"
      ],
      "text/plain": [
       "  country_name     area  population literacy\n",
       "0  afghanistan   647500    31056997     36,0\n",
       "1      albania    28748     3581655     86,5\n",
       "2      algeria  2381740    32930091     70,0\n",
       "3    argentina  2766890    39921833     97,1\n",
       "4      armenia    29800     2976372     98,6"
      ]
     },
     "execution_count": 60,
     "metadata": {},
     "output_type": "execute_result"
    }
   ],
   "source": [
    "countries=pd.read_csv(COUNTRIES_DATASET)\n",
    "countries.head()"
   ]
  },
  {
   "cell_type": "markdown",
   "metadata": {},
   "source": [
    "## Task 2: Let's merge the data\n",
    "\n",
    "Create a dataframe called *country_features* by merging *happiness* and *countries*. A row of this dataframe must describe all the features that we have about a country.\n",
    "\n",
    "**Hint**: Verify that all the rows are in the final dataframe."
   ]
  },
  {
   "cell_type": "code",
   "execution_count": 61,
   "metadata": {},
   "outputs": [
    {
     "data": {
      "application/vnd.microsoft.datawrangler.viewer.v0+json": {
       "columns": [
        {
         "name": "index",
         "rawType": "int64",
         "type": "integer"
        },
        {
         "name": "country",
         "rawType": "object",
         "type": "string"
        },
        {
         "name": "happiness_score",
         "rawType": "float64",
         "type": "float"
        },
        {
         "name": "social_support",
         "rawType": "float64",
         "type": "float"
        },
        {
         "name": "healthy_life_expectancy",
         "rawType": "float64",
         "type": "float"
        },
        {
         "name": "freedom_of_choices",
         "rawType": "float64",
         "type": "float"
        },
        {
         "name": "generosity",
         "rawType": "float64",
         "type": "float"
        },
        {
         "name": "perception_of_corruption",
         "rawType": "float64",
         "type": "float"
        },
        {
         "name": "world_region",
         "rawType": "object",
         "type": "string"
        },
        {
         "name": "area",
         "rawType": "int64",
         "type": "integer"
        },
        {
         "name": "population",
         "rawType": "int64",
         "type": "integer"
        },
        {
         "name": "literacy",
         "rawType": "object",
         "type": "string"
        }
       ],
       "ref": "b6c819e5-c436-4373-8fa7-f39b5542ae03",
       "rows": [
        [
         "0",
         "Afghanistan",
         "2.566900015",
         "0.470366955",
         "52.59000015",
         "0.396573007",
         "-0.0964294",
         "0.933686554",
         "South Asia",
         "647500",
         "31056997",
         "36,0"
        ],
        [
         "1",
         "Albania",
         "4.882699966000001",
         "0.671070457",
         "68.70813751",
         "0.7819942240000001",
         "-0.042309489",
         "0.896303713",
         "Central and Eastern Europe",
         "28748",
         "3581655",
         "86,5"
        ],
        [
         "2",
         "Algeria",
         "5.005099773",
         "0.8033851390000001",
         "65.90517426",
         "0.4666109089999999",
         "-0.121105164",
         "0.7354851370000001",
         "Middle East and North Africa",
         "2381740",
         "32930091",
         "70,0"
        ],
        [
         "3",
         "Argentina",
         "5.974699974",
         "0.900567949",
         "68.80380249",
         "0.831132412",
         "-0.194913864",
         "0.8420098420000001",
         "Latin America and Caribbean",
         "2766890",
         "39921833",
         "97,1"
        ],
        [
         "4",
         "Armenia",
         "4.676799774",
         "0.7574794290000001",
         "66.75065613",
         "0.7120178340000001",
         "-0.13877961",
         "0.7735447879999999",
         "Commonwealth of Independent States",
         "29800",
         "2976372",
         "98,6"
        ]
       ],
       "shape": {
        "columns": 11,
        "rows": 5
       }
      },
      "text/html": [
       "<div>\n",
       "<style scoped>\n",
       "    .dataframe tbody tr th:only-of-type {\n",
       "        vertical-align: middle;\n",
       "    }\n",
       "\n",
       "    .dataframe tbody tr th {\n",
       "        vertical-align: top;\n",
       "    }\n",
       "\n",
       "    .dataframe thead th {\n",
       "        text-align: right;\n",
       "    }\n",
       "</style>\n",
       "<table border=\"1\" class=\"dataframe\">\n",
       "  <thead>\n",
       "    <tr style=\"text-align: right;\">\n",
       "      <th></th>\n",
       "      <th>country</th>\n",
       "      <th>happiness_score</th>\n",
       "      <th>social_support</th>\n",
       "      <th>healthy_life_expectancy</th>\n",
       "      <th>freedom_of_choices</th>\n",
       "      <th>generosity</th>\n",
       "      <th>perception_of_corruption</th>\n",
       "      <th>world_region</th>\n",
       "      <th>area</th>\n",
       "      <th>population</th>\n",
       "      <th>literacy</th>\n",
       "    </tr>\n",
       "  </thead>\n",
       "  <tbody>\n",
       "    <tr>\n",
       "      <th>0</th>\n",
       "      <td>Afghanistan</td>\n",
       "      <td>2.5669</td>\n",
       "      <td>0.470367</td>\n",
       "      <td>52.590000</td>\n",
       "      <td>0.396573</td>\n",
       "      <td>-0.096429</td>\n",
       "      <td>0.933687</td>\n",
       "      <td>South Asia</td>\n",
       "      <td>647500</td>\n",
       "      <td>31056997</td>\n",
       "      <td>36,0</td>\n",
       "    </tr>\n",
       "    <tr>\n",
       "      <th>1</th>\n",
       "      <td>Albania</td>\n",
       "      <td>4.8827</td>\n",
       "      <td>0.671070</td>\n",
       "      <td>68.708138</td>\n",
       "      <td>0.781994</td>\n",
       "      <td>-0.042309</td>\n",
       "      <td>0.896304</td>\n",
       "      <td>Central and Eastern Europe</td>\n",
       "      <td>28748</td>\n",
       "      <td>3581655</td>\n",
       "      <td>86,5</td>\n",
       "    </tr>\n",
       "    <tr>\n",
       "      <th>2</th>\n",
       "      <td>Algeria</td>\n",
       "      <td>5.0051</td>\n",
       "      <td>0.803385</td>\n",
       "      <td>65.905174</td>\n",
       "      <td>0.466611</td>\n",
       "      <td>-0.121105</td>\n",
       "      <td>0.735485</td>\n",
       "      <td>Middle East and North Africa</td>\n",
       "      <td>2381740</td>\n",
       "      <td>32930091</td>\n",
       "      <td>70,0</td>\n",
       "    </tr>\n",
       "    <tr>\n",
       "      <th>3</th>\n",
       "      <td>Argentina</td>\n",
       "      <td>5.9747</td>\n",
       "      <td>0.900568</td>\n",
       "      <td>68.803802</td>\n",
       "      <td>0.831132</td>\n",
       "      <td>-0.194914</td>\n",
       "      <td>0.842010</td>\n",
       "      <td>Latin America and Caribbean</td>\n",
       "      <td>2766890</td>\n",
       "      <td>39921833</td>\n",
       "      <td>97,1</td>\n",
       "    </tr>\n",
       "    <tr>\n",
       "      <th>4</th>\n",
       "      <td>Armenia</td>\n",
       "      <td>4.6768</td>\n",
       "      <td>0.757479</td>\n",
       "      <td>66.750656</td>\n",
       "      <td>0.712018</td>\n",
       "      <td>-0.138780</td>\n",
       "      <td>0.773545</td>\n",
       "      <td>Commonwealth of Independent States</td>\n",
       "      <td>29800</td>\n",
       "      <td>2976372</td>\n",
       "      <td>98,6</td>\n",
       "    </tr>\n",
       "  </tbody>\n",
       "</table>\n",
       "</div>"
      ],
      "text/plain": [
       "       country  happiness_score  social_support  healthy_life_expectancy  \\\n",
       "0  Afghanistan           2.5669        0.470367                52.590000   \n",
       "1      Albania           4.8827        0.671070                68.708138   \n",
       "2      Algeria           5.0051        0.803385                65.905174   \n",
       "3    Argentina           5.9747        0.900568                68.803802   \n",
       "4      Armenia           4.6768        0.757479                66.750656   \n",
       "\n",
       "   freedom_of_choices  generosity  perception_of_corruption  \\\n",
       "0            0.396573   -0.096429                  0.933687   \n",
       "1            0.781994   -0.042309                  0.896304   \n",
       "2            0.466611   -0.121105                  0.735485   \n",
       "3            0.831132   -0.194914                  0.842010   \n",
       "4            0.712018   -0.138780                  0.773545   \n",
       "\n",
       "                         world_region     area  population literacy  \n",
       "0                          South Asia   647500    31056997     36,0  \n",
       "1          Central and Eastern Europe    28748     3581655     86,5  \n",
       "2        Middle East and North Africa  2381740    32930091     70,0  \n",
       "3         Latin America and Caribbean  2766890    39921833     97,1  \n",
       "4  Commonwealth of Independent States    29800     2976372     98,6  "
      ]
     },
     "execution_count": 61,
     "metadata": {},
     "output_type": "execute_result"
    }
   ],
   "source": [
    "happiness['country'] = happiness['country'].str.capitalize()\n",
    "countries['country_name'] = countries['country_name'].str.capitalize()\n",
    "\n",
    "country_features=pd.merge(happiness,countries, left_on=\"country\", right_on=\"country_name\", how=\"outer\")\n",
    "country_features = country_features.drop(columns=['country_name'])\n",
    "country_features.head()"
   ]
  },
  {
   "cell_type": "markdown",
   "metadata": {},
   "source": [
    "## Task 3: Where are people happier?\n",
    "\n",
    "Print the top 10 countries based on their happiness score (higher is better)."
   ]
  },
  {
   "cell_type": "code",
   "execution_count": 62,
   "metadata": {},
   "outputs": [
    {
     "data": {
      "application/vnd.microsoft.datawrangler.viewer.v0+json": {
       "columns": [
        {
         "name": "index",
         "rawType": "int64",
         "type": "integer"
        },
        {
         "name": "country",
         "rawType": "object",
         "type": "string"
        },
        {
         "name": "happiness_score",
         "rawType": "float64",
         "type": "float"
        }
       ],
       "ref": "3b909b70-fa42-4b40-ae20-32251ce1432a",
       "rows": [
        [
         "38",
         "Finland",
         "7.808700085"
        ],
        [
         "31",
         "Denmark",
         "7.645599842"
        ],
        [
         "115",
         "Switzerland",
         "7.559899807000001"
        ],
        [
         "50",
         "Iceland",
         "7.504499912000001"
        ],
        [
         "92",
         "Norway",
         "7.487999916000001"
        ],
        [
         "87",
         "Netherlands",
         "7.448900223"
        ],
        [
         "114",
         "Sweden",
         "7.353499889"
        ],
        [
         "88",
         "New zealand",
         "7.299600124"
        ],
        [
         "6",
         "Austria",
         "7.294199944"
        ],
        [
         "72",
         "Luxembourg",
         "7.237500191"
        ]
       ],
       "shape": {
        "columns": 2,
        "rows": 10
       }
      },
      "text/html": [
       "<div>\n",
       "<style scoped>\n",
       "    .dataframe tbody tr th:only-of-type {\n",
       "        vertical-align: middle;\n",
       "    }\n",
       "\n",
       "    .dataframe tbody tr th {\n",
       "        vertical-align: top;\n",
       "    }\n",
       "\n",
       "    .dataframe thead th {\n",
       "        text-align: right;\n",
       "    }\n",
       "</style>\n",
       "<table border=\"1\" class=\"dataframe\">\n",
       "  <thead>\n",
       "    <tr style=\"text-align: right;\">\n",
       "      <th></th>\n",
       "      <th>country</th>\n",
       "      <th>happiness_score</th>\n",
       "    </tr>\n",
       "  </thead>\n",
       "  <tbody>\n",
       "    <tr>\n",
       "      <th>38</th>\n",
       "      <td>Finland</td>\n",
       "      <td>7.8087</td>\n",
       "    </tr>\n",
       "    <tr>\n",
       "      <th>31</th>\n",
       "      <td>Denmark</td>\n",
       "      <td>7.6456</td>\n",
       "    </tr>\n",
       "    <tr>\n",
       "      <th>115</th>\n",
       "      <td>Switzerland</td>\n",
       "      <td>7.5599</td>\n",
       "    </tr>\n",
       "    <tr>\n",
       "      <th>50</th>\n",
       "      <td>Iceland</td>\n",
       "      <td>7.5045</td>\n",
       "    </tr>\n",
       "    <tr>\n",
       "      <th>92</th>\n",
       "      <td>Norway</td>\n",
       "      <td>7.4880</td>\n",
       "    </tr>\n",
       "    <tr>\n",
       "      <th>87</th>\n",
       "      <td>Netherlands</td>\n",
       "      <td>7.4489</td>\n",
       "    </tr>\n",
       "    <tr>\n",
       "      <th>114</th>\n",
       "      <td>Sweden</td>\n",
       "      <td>7.3535</td>\n",
       "    </tr>\n",
       "    <tr>\n",
       "      <th>88</th>\n",
       "      <td>New zealand</td>\n",
       "      <td>7.2996</td>\n",
       "    </tr>\n",
       "    <tr>\n",
       "      <th>6</th>\n",
       "      <td>Austria</td>\n",
       "      <td>7.2942</td>\n",
       "    </tr>\n",
       "    <tr>\n",
       "      <th>72</th>\n",
       "      <td>Luxembourg</td>\n",
       "      <td>7.2375</td>\n",
       "    </tr>\n",
       "  </tbody>\n",
       "</table>\n",
       "</div>"
      ],
      "text/plain": [
       "         country  happiness_score\n",
       "38       Finland           7.8087\n",
       "31       Denmark           7.6456\n",
       "115  Switzerland           7.5599\n",
       "50       Iceland           7.5045\n",
       "92        Norway           7.4880\n",
       "87   Netherlands           7.4489\n",
       "114       Sweden           7.3535\n",
       "88   New zealand           7.2996\n",
       "6        Austria           7.2942\n",
       "72    Luxembourg           7.2375"
      ]
     },
     "execution_count": 62,
     "metadata": {},
     "output_type": "execute_result"
    }
   ],
   "source": [
    "country_features[[\"country\", \"happiness_score\"]].sort_values(ascending=False,by=\"happiness_score\").head(10)"
   ]
  },
  {
   "cell_type": "markdown",
   "metadata": {},
   "source": [
    "We are interested to know in what world region people are happier. \n",
    "\n",
    "Create and print a dataframe with the (1) average happiness score and (2) the number of contries for each world region.\n",
    "Sort the result to show the happiness ranking."
   ]
  },
  {
   "cell_type": "code",
   "execution_count": 63,
   "metadata": {},
   "outputs": [
    {
     "data": {
      "application/vnd.microsoft.datawrangler.viewer.v0+json": {
       "columns": [
        {
         "name": "index",
         "rawType": "int64",
         "type": "integer"
        },
        {
         "name": "world_region",
         "rawType": "object",
         "type": "string"
        },
        {
         "name": "happiness_score",
         "rawType": "float64",
         "type": "float"
        },
        {
         "name": "number_of_countries",
         "rawType": "int64",
         "type": "integer"
        }
       ],
       "ref": "2ac03f5a-e6ac-4757-a677-32b9ac843b58",
       "rows": [
        [
         "5",
         "North America and ANZ",
         "7.17352497575",
         "4"
        ],
        [
         "9",
         "Western Europe",
         "6.96740498545",
         "20"
        ],
        [
         "3",
         "Latin America and Caribbean",
         "5.9712800025999995",
         "20"
        ],
        [
         "0",
         "Central and Eastern Europe",
         "5.891392878071429",
         "14"
        ],
        [
         "7",
         "Southeast Asia",
         "5.517787516125001",
         "8"
        ],
        [
         "2",
         "East Asia",
         "5.483633359333333",
         "3"
        ],
        [
         "1",
         "Commonwealth of Independent States",
         "5.358341614416666",
         "12"
        ],
        [
         "4",
         "Middle East and North Africa",
         "5.2693062723125",
         "16"
        ],
        [
         "8",
         "Sub-Saharan Africa",
         "4.3938562423125",
         "32"
        ],
        [
         "6",
         "South Asia",
         "4.355083266833334",
         "6"
        ]
       ],
       "shape": {
        "columns": 3,
        "rows": 10
       }
      },
      "text/html": [
       "<div>\n",
       "<style scoped>\n",
       "    .dataframe tbody tr th:only-of-type {\n",
       "        vertical-align: middle;\n",
       "    }\n",
       "\n",
       "    .dataframe tbody tr th {\n",
       "        vertical-align: top;\n",
       "    }\n",
       "\n",
       "    .dataframe thead th {\n",
       "        text-align: right;\n",
       "    }\n",
       "</style>\n",
       "<table border=\"1\" class=\"dataframe\">\n",
       "  <thead>\n",
       "    <tr style=\"text-align: right;\">\n",
       "      <th></th>\n",
       "      <th>world_region</th>\n",
       "      <th>happiness_score</th>\n",
       "      <th>number_of_countries</th>\n",
       "    </tr>\n",
       "  </thead>\n",
       "  <tbody>\n",
       "    <tr>\n",
       "      <th>5</th>\n",
       "      <td>North America and ANZ</td>\n",
       "      <td>7.173525</td>\n",
       "      <td>4</td>\n",
       "    </tr>\n",
       "    <tr>\n",
       "      <th>9</th>\n",
       "      <td>Western Europe</td>\n",
       "      <td>6.967405</td>\n",
       "      <td>20</td>\n",
       "    </tr>\n",
       "    <tr>\n",
       "      <th>3</th>\n",
       "      <td>Latin America and Caribbean</td>\n",
       "      <td>5.971280</td>\n",
       "      <td>20</td>\n",
       "    </tr>\n",
       "    <tr>\n",
       "      <th>0</th>\n",
       "      <td>Central and Eastern Europe</td>\n",
       "      <td>5.891393</td>\n",
       "      <td>14</td>\n",
       "    </tr>\n",
       "    <tr>\n",
       "      <th>7</th>\n",
       "      <td>Southeast Asia</td>\n",
       "      <td>5.517788</td>\n",
       "      <td>8</td>\n",
       "    </tr>\n",
       "    <tr>\n",
       "      <th>2</th>\n",
       "      <td>East Asia</td>\n",
       "      <td>5.483633</td>\n",
       "      <td>3</td>\n",
       "    </tr>\n",
       "    <tr>\n",
       "      <th>1</th>\n",
       "      <td>Commonwealth of Independent States</td>\n",
       "      <td>5.358342</td>\n",
       "      <td>12</td>\n",
       "    </tr>\n",
       "    <tr>\n",
       "      <th>4</th>\n",
       "      <td>Middle East and North Africa</td>\n",
       "      <td>5.269306</td>\n",
       "      <td>16</td>\n",
       "    </tr>\n",
       "    <tr>\n",
       "      <th>8</th>\n",
       "      <td>Sub-Saharan Africa</td>\n",
       "      <td>4.393856</td>\n",
       "      <td>32</td>\n",
       "    </tr>\n",
       "    <tr>\n",
       "      <th>6</th>\n",
       "      <td>South Asia</td>\n",
       "      <td>4.355083</td>\n",
       "      <td>6</td>\n",
       "    </tr>\n",
       "  </tbody>\n",
       "</table>\n",
       "</div>"
      ],
      "text/plain": [
       "                         world_region  happiness_score  number_of_countries\n",
       "5               North America and ANZ         7.173525                    4\n",
       "9                      Western Europe         6.967405                   20\n",
       "3         Latin America and Caribbean         5.971280                   20\n",
       "0          Central and Eastern Europe         5.891393                   14\n",
       "7                      Southeast Asia         5.517788                    8\n",
       "2                           East Asia         5.483633                    3\n",
       "1  Commonwealth of Independent States         5.358342                   12\n",
       "4        Middle East and North Africa         5.269306                   16\n",
       "8                  Sub-Saharan Africa         4.393856                   32\n",
       "6                          South Asia         4.355083                    6"
      ]
     },
     "execution_count": 63,
     "metadata": {},
     "output_type": "execute_result"
    }
   ],
   "source": [
    "region_happiness =country_features.groupby(\"world_region\", as_index=False).agg(happiness_score=(\"happiness_score\", \"mean\"),number_of_countries=(\"country\", \"count\"))\n",
    "region_happiness.sort_values(by=\"happiness_score\", ascending=False)"
   ]
  },
  {
   "cell_type": "markdown",
   "metadata": {},
   "source": [
    "The first region has only a few countries! What are them and what is their score?"
   ]
  },
  {
   "cell_type": "code",
   "execution_count": 64,
   "metadata": {},
   "outputs": [
    {
     "data": {
      "application/vnd.microsoft.datawrangler.viewer.v0+json": {
       "columns": [
        {
         "name": "index",
         "rawType": "int64",
         "type": "integer"
        },
        {
         "name": "country",
         "rawType": "object",
         "type": "string"
        },
        {
         "name": "happiness_score",
         "rawType": "float64",
         "type": "float"
        }
       ],
       "ref": "60662ef2-14eb-453d-b7df-f5eb312d9154",
       "rows": [
        [
         "5",
         "Australia",
         "7.222799778"
        ],
        [
         "21",
         "Canada",
         "7.23210001"
        ],
        [
         "88",
         "New zealand",
         "7.299600124"
        ],
        [
         "127",
         "United states",
         "6.939599991000001"
        ]
       ],
       "shape": {
        "columns": 2,
        "rows": 4
       }
      },
      "text/html": [
       "<div>\n",
       "<style scoped>\n",
       "    .dataframe tbody tr th:only-of-type {\n",
       "        vertical-align: middle;\n",
       "    }\n",
       "\n",
       "    .dataframe tbody tr th {\n",
       "        vertical-align: top;\n",
       "    }\n",
       "\n",
       "    .dataframe thead th {\n",
       "        text-align: right;\n",
       "    }\n",
       "</style>\n",
       "<table border=\"1\" class=\"dataframe\">\n",
       "  <thead>\n",
       "    <tr style=\"text-align: right;\">\n",
       "      <th></th>\n",
       "      <th>country</th>\n",
       "      <th>happiness_score</th>\n",
       "    </tr>\n",
       "  </thead>\n",
       "  <tbody>\n",
       "    <tr>\n",
       "      <th>5</th>\n",
       "      <td>Australia</td>\n",
       "      <td>7.2228</td>\n",
       "    </tr>\n",
       "    <tr>\n",
       "      <th>21</th>\n",
       "      <td>Canada</td>\n",
       "      <td>7.2321</td>\n",
       "    </tr>\n",
       "    <tr>\n",
       "      <th>88</th>\n",
       "      <td>New zealand</td>\n",
       "      <td>7.2996</td>\n",
       "    </tr>\n",
       "    <tr>\n",
       "      <th>127</th>\n",
       "      <td>United states</td>\n",
       "      <td>6.9396</td>\n",
       "    </tr>\n",
       "  </tbody>\n",
       "</table>\n",
       "</div>"
      ],
      "text/plain": [
       "           country  happiness_score\n",
       "5        Australia           7.2228\n",
       "21          Canada           7.2321\n",
       "88     New zealand           7.2996\n",
       "127  United states           6.9396"
      ]
     },
     "execution_count": 64,
     "metadata": {},
     "output_type": "execute_result"
    }
   ],
   "source": [
    "country_features[country_features.world_region.isin([\"North America and ANZ\"])][[\"country\", \"happiness_score\"]]"
   ]
  },
  {
   "cell_type": "markdown",
   "metadata": {},
   "source": [
    "## Task 4: How literate is the world?\n",
    "\n",
    "Print the names of the countries with a level of literacy of 100%. \n",
    "\n",
    "For each country, print the name and the world region in the format: *{region name} - {country name} ({happiness score})*"
   ]
  },
  {
   "cell_type": "code",
   "execution_count": null,
   "metadata": {},
   "outputs": [
    {
     "data": {
      "application/vnd.microsoft.datawrangler.viewer.v0+json": {
       "columns": [
        {
         "name": "index",
         "rawType": "int64",
         "type": "integer"
        },
        {
         "name": "country",
         "rawType": "object",
         "type": "string"
        },
        {
         "name": "happiness_score",
         "rawType": "float64",
         "type": "float"
        },
        {
         "name": "social_support",
         "rawType": "float64",
         "type": "float"
        },
        {
         "name": "healthy_life_expectancy",
         "rawType": "float64",
         "type": "float"
        },
        {
         "name": "freedom_of_choices",
         "rawType": "float64",
         "type": "float"
        },
        {
         "name": "generosity",
         "rawType": "float64",
         "type": "float"
        },
        {
         "name": "perception_of_corruption",
         "rawType": "float64",
         "type": "float"
        },
        {
         "name": "world_region",
         "rawType": "object",
         "type": "string"
        },
        {
         "name": "area",
         "rawType": "int64",
         "type": "integer"
        },
        {
         "name": "population",
         "rawType": "int64",
         "type": "integer"
        },
        {
         "name": "literacy",
         "rawType": "float64",
         "type": "float"
        }
       ],
       "ref": "69847add-10d0-4e51-9aff-c50c28cb6e0a",
       "rows": [
        [
         "5",
         "Australia",
         "7.222799778",
         "0.944854617",
         "73.60453796",
         "0.915431738",
         "0.19046016",
         "0.41516912",
         "North America and ANZ",
         "7686850",
         "20264082",
         "100.0"
        ],
        [
         "31",
         "Denmark",
         "7.645599842",
         "0.955990791",
         "72.40250397",
         "0.951444268",
         "0.0662017759999999",
         "0.168489456",
         "Western Europe",
         "43094",
         "5450661",
         "100.0"
        ],
        [
         "38",
         "Finland",
         "7.808700085",
         "0.954329729",
         "71.9008255",
         "0.949172199",
         "-0.059482019",
         "0.1954445839999999",
         "Western Europe",
         "338145",
         "5231372",
         "100.0"
        ],
        [
         "72",
         "Luxembourg",
         "7.237500191",
         "0.906912208",
         "72.59999847",
         "0.90563643",
         "-0.004620588",
         "0.367084295",
         "Western Europe",
         "2586",
         "474413",
         "100.0"
        ],
        [
         "92",
         "Norway",
         "7.487999916000001",
         "0.952486575",
         "73.20078278",
         "0.955750287",
         "0.13453263",
         "0.2632181939999999",
         "Western Europe",
         "323802",
         "4610820",
         "100.0"
        ]
       ],
       "shape": {
        "columns": 11,
        "rows": 5
       }
      },
      "text/html": [
       "<div>\n",
       "<style scoped>\n",
       "    .dataframe tbody tr th:only-of-type {\n",
       "        vertical-align: middle;\n",
       "    }\n",
       "\n",
       "    .dataframe tbody tr th {\n",
       "        vertical-align: top;\n",
       "    }\n",
       "\n",
       "    .dataframe thead th {\n",
       "        text-align: right;\n",
       "    }\n",
       "</style>\n",
       "<table border=\"1\" class=\"dataframe\">\n",
       "  <thead>\n",
       "    <tr style=\"text-align: right;\">\n",
       "      <th></th>\n",
       "      <th>country</th>\n",
       "      <th>happiness_score</th>\n",
       "      <th>social_support</th>\n",
       "      <th>healthy_life_expectancy</th>\n",
       "      <th>freedom_of_choices</th>\n",
       "      <th>generosity</th>\n",
       "      <th>perception_of_corruption</th>\n",
       "      <th>world_region</th>\n",
       "      <th>area</th>\n",
       "      <th>population</th>\n",
       "      <th>literacy</th>\n",
       "    </tr>\n",
       "  </thead>\n",
       "  <tbody>\n",
       "    <tr>\n",
       "      <th>5</th>\n",
       "      <td>Australia</td>\n",
       "      <td>7.2228</td>\n",
       "      <td>0.944855</td>\n",
       "      <td>73.604538</td>\n",
       "      <td>0.915432</td>\n",
       "      <td>0.190460</td>\n",
       "      <td>0.415169</td>\n",
       "      <td>North America and ANZ</td>\n",
       "      <td>7686850</td>\n",
       "      <td>20264082</td>\n",
       "      <td>100.0</td>\n",
       "    </tr>\n",
       "    <tr>\n",
       "      <th>31</th>\n",
       "      <td>Denmark</td>\n",
       "      <td>7.6456</td>\n",
       "      <td>0.955991</td>\n",
       "      <td>72.402504</td>\n",
       "      <td>0.951444</td>\n",
       "      <td>0.066202</td>\n",
       "      <td>0.168489</td>\n",
       "      <td>Western Europe</td>\n",
       "      <td>43094</td>\n",
       "      <td>5450661</td>\n",
       "      <td>100.0</td>\n",
       "    </tr>\n",
       "    <tr>\n",
       "      <th>38</th>\n",
       "      <td>Finland</td>\n",
       "      <td>7.8087</td>\n",
       "      <td>0.954330</td>\n",
       "      <td>71.900825</td>\n",
       "      <td>0.949172</td>\n",
       "      <td>-0.059482</td>\n",
       "      <td>0.195445</td>\n",
       "      <td>Western Europe</td>\n",
       "      <td>338145</td>\n",
       "      <td>5231372</td>\n",
       "      <td>100.0</td>\n",
       "    </tr>\n",
       "    <tr>\n",
       "      <th>72</th>\n",
       "      <td>Luxembourg</td>\n",
       "      <td>7.2375</td>\n",
       "      <td>0.906912</td>\n",
       "      <td>72.599998</td>\n",
       "      <td>0.905636</td>\n",
       "      <td>-0.004621</td>\n",
       "      <td>0.367084</td>\n",
       "      <td>Western Europe</td>\n",
       "      <td>2586</td>\n",
       "      <td>474413</td>\n",
       "      <td>100.0</td>\n",
       "    </tr>\n",
       "    <tr>\n",
       "      <th>92</th>\n",
       "      <td>Norway</td>\n",
       "      <td>7.4880</td>\n",
       "      <td>0.952487</td>\n",
       "      <td>73.200783</td>\n",
       "      <td>0.955750</td>\n",
       "      <td>0.134533</td>\n",
       "      <td>0.263218</td>\n",
       "      <td>Western Europe</td>\n",
       "      <td>323802</td>\n",
       "      <td>4610820</td>\n",
       "      <td>100.0</td>\n",
       "    </tr>\n",
       "  </tbody>\n",
       "</table>\n",
       "</div>"
      ],
      "text/plain": [
       "       country  happiness_score  social_support  healthy_life_expectancy  \\\n",
       "5    Australia           7.2228        0.944855                73.604538   \n",
       "31     Denmark           7.6456        0.955991                72.402504   \n",
       "38     Finland           7.8087        0.954330                71.900825   \n",
       "72  Luxembourg           7.2375        0.906912                72.599998   \n",
       "92      Norway           7.4880        0.952487                73.200783   \n",
       "\n",
       "    freedom_of_choices  generosity  perception_of_corruption  \\\n",
       "5             0.915432    0.190460                  0.415169   \n",
       "31            0.951444    0.066202                  0.168489   \n",
       "38            0.949172   -0.059482                  0.195445   \n",
       "72            0.905636   -0.004621                  0.367084   \n",
       "92            0.955750    0.134533                  0.263218   \n",
       "\n",
       "             world_region     area  population  literacy  \n",
       "5   North America and ANZ  7686850    20264082     100.0  \n",
       "31         Western Europe    43094     5450661     100.0  \n",
       "38         Western Europe   338145     5231372     100.0  \n",
       "72         Western Europe     2586      474413     100.0  \n",
       "92         Western Europe   323802     4610820     100.0  "
      ]
     },
     "execution_count": 65,
     "metadata": {},
     "output_type": "execute_result"
    }
   ],
   "source": [
    "country_features[\"literacy\"] = country_features[\"literacy\"].str.replace(\",\", \".\", regex=False).astype(float)"
   ]
  },
  {
   "cell_type": "code",
   "execution_count": 71,
   "metadata": {},
   "outputs": [
    {
     "name": "stdout",
     "output_type": "stream",
     "text": [
      "North America and ANZ - Australia (7.222799778)\n",
      "Western Europe - Denmark (7.645599842)\n",
      "Western Europe - Finland (7.808700085)\n",
      "Western Europe - Luxembourg (7.237500191)\n",
      "Western Europe - Norway (7.487999916000001)\n"
     ]
    }
   ],
   "source": [
    "literacy_100=country_features[country_features[\"literacy\"]==100.0]\n",
    "for row in literacy_100.itertuples(index=False):\n",
    "    print(f\"{row.world_region} - {row.country} ({row.happiness_score})\")"
   ]
  },
  {
   "cell_type": "markdown",
   "metadata": {},
   "source": [
    "What is the global average?"
   ]
  },
  {
   "cell_type": "code",
   "execution_count": 73,
   "metadata": {},
   "outputs": [
    {
     "name": "stdout",
     "output_type": "stream",
     "text": [
      "81.85112781954888\n"
     ]
    }
   ],
   "source": [
    "print(country_features[\"literacy\"].mean())"
   ]
  },
  {
   "cell_type": "markdown",
   "metadata": {},
   "source": [
    "Calculate the proportion of countries with a literacy level below 50%. Print the value in percentage, formatted with 2 decimals."
   ]
  },
  {
   "cell_type": "code",
   "execution_count": 102,
   "metadata": {},
   "outputs": [
    {
     "name": "stdout",
     "output_type": "stream",
     "text": [
      "13.33%\n"
     ]
    }
   ],
   "source": [
    "total_countries=country_features.shape[0]\n",
    "country_features.fillna({\"literacy\":0}, inplace=True)\n",
    "literacy_under_50=country_features[country_features[\"literacy\"]<50][\"country\"].count()\n",
    "print(f\"{100*literacy_under_50/total_countries:.2f}%\")"
   ]
  },
  {
   "cell_type": "markdown",
   "metadata": {},
   "source": [
    "Print the raw number and the percentage of world population that is illiterate."
   ]
  },
  {
   "cell_type": "code",
   "execution_count": 129,
   "metadata": {},
   "outputs": [
    {
     "name": "stdout",
     "output_type": "stream",
     "text": [
      "Raw number: 1256862990\n",
      "Percentage: 20.45%\n"
     ]
    }
   ],
   "source": [
    "raw_illiterate=(country_features[\"population\"]*(100-country_features[\"literacy\"])/100).sum()\n",
    "total_population=country_features[\"population\"].sum()\n",
    "print(f\"Raw number: {int(raw_illiterate)}\")\n",
    "print(f\"Percentage: {100*raw_illiterate/total_population:.2f}%\")\n"
   ]
  },
  {
   "cell_type": "markdown",
   "metadata": {},
   "source": [
    "## Task 5: Population density\n",
    "\n",
    "Add to the dataframe a new field called *population_density* computed by dividing *population* by *area*."
   ]
  },
  {
   "cell_type": "code",
   "execution_count": 122,
   "metadata": {},
   "outputs": [
    {
     "data": {
      "application/vnd.microsoft.datawrangler.viewer.v0+json": {
       "columns": [
        {
         "name": "index",
         "rawType": "int64",
         "type": "integer"
        },
        {
         "name": "country",
         "rawType": "object",
         "type": "string"
        },
        {
         "name": "happiness_score",
         "rawType": "float64",
         "type": "float"
        },
        {
         "name": "social_support",
         "rawType": "float64",
         "type": "float"
        },
        {
         "name": "healthy_life_expectancy",
         "rawType": "float64",
         "type": "float"
        },
        {
         "name": "freedom_of_choices",
         "rawType": "float64",
         "type": "float"
        },
        {
         "name": "generosity",
         "rawType": "float64",
         "type": "float"
        },
        {
         "name": "perception_of_corruption",
         "rawType": "float64",
         "type": "float"
        },
        {
         "name": "world_region",
         "rawType": "object",
         "type": "string"
        },
        {
         "name": "area",
         "rawType": "int64",
         "type": "integer"
        },
        {
         "name": "population",
         "rawType": "int64",
         "type": "integer"
        },
        {
         "name": "literacy",
         "rawType": "float64",
         "type": "float"
        },
        {
         "name": "population_density",
         "rawType": "float64",
         "type": "float"
        }
       ],
       "ref": "035f1c3c-ea02-41ef-88a5-49ba952784e9",
       "rows": [
        [
         "0",
         "Afghanistan",
         "2.566900015",
         "0.470366955",
         "52.59000015",
         "0.396573007",
         "-0.0964294",
         "0.933686554",
         "South Asia",
         "647500",
         "31056997",
         "36.0",
         "47.96447413127413"
        ],
        [
         "1",
         "Albania",
         "4.882699966000001",
         "0.671070457",
         "68.70813751",
         "0.7819942240000001",
         "-0.042309489",
         "0.896303713",
         "Central and Eastern Europe",
         "28748",
         "3581655",
         "86.5",
         "124.5879713371365"
        ],
        [
         "2",
         "Algeria",
         "5.005099773",
         "0.8033851390000001",
         "65.90517426",
         "0.4666109089999999",
         "-0.121105164",
         "0.7354851370000001",
         "Middle East and North Africa",
         "2381740",
         "32930091",
         "70.0",
         "13.826064557844266"
        ],
        [
         "3",
         "Argentina",
         "5.974699974",
         "0.900567949",
         "68.80380249",
         "0.831132412",
         "-0.194913864",
         "0.8420098420000001",
         "Latin America and Caribbean",
         "2766890",
         "39921833",
         "97.1",
         "14.428413489513497"
        ],
        [
         "4",
         "Armenia",
         "4.676799774",
         "0.7574794290000001",
         "66.75065613",
         "0.7120178340000001",
         "-0.13877961",
         "0.7735447879999999",
         "Commonwealth of Independent States",
         "29800",
         "2976372",
         "98.6",
         "99.87825503355705"
        ],
        [
         "5",
         "Australia",
         "7.222799778",
         "0.944854617",
         "73.60453796",
         "0.915431738",
         "0.19046016",
         "0.41516912",
         "North America and ANZ",
         "7686850",
         "20264082",
         "100.0",
         "2.6362010446411728"
        ],
        [
         "6",
         "Austria",
         "7.294199944",
         "0.928045869",
         "73.00250244",
         "0.899989486",
         "0.085429221",
         "0.4999548789999999",
         "Western Europe",
         "83870",
         "8192880",
         "98.0",
         "97.68546560152618"
        ],
        [
         "7",
         "Azerbaijan",
         "5.164800167",
         "0.819308281",
         "65.50839996",
         "0.786824107",
         "-0.240255281",
         "0.55253756",
         "Commonwealth of Independent States",
         "86600",
         "7961619",
         "97.0",
         "91.93555427251732"
        ],
        [
         "8",
         "Bahrain",
         "6.227300167",
         "0.876342118",
         "68.5",
         "0.905855775",
         "0.13372919",
         "0.7393470999999999",
         "Middle East and North Africa",
         "665",
         "698585",
         "89.1",
         "1050.5037593984962"
        ],
        [
         "9",
         "Bangladesh",
         "4.832799911",
         "0.687292993",
         "64.50306702",
         "0.90062499",
         "-0.033664726",
         "0.661843538",
         "South Asia",
         "144000",
         "147365352",
         "43.1",
         "1023.3705"
        ],
        [
         "10",
         "Belarus",
         "5.539899826",
         "0.90674746",
         "66.10433197",
         "0.6391630770000001",
         "-0.164926544",
         "0.63571167",
         "Commonwealth of Independent States",
         "207600",
         "10293011",
         "99.6",
         "49.580977842003854"
        ],
        [
         "11",
         "Belgium",
         "6.863500117999999",
         "0.911632538",
         "72.00164795",
         "0.813582063",
         "-0.078691199",
         "0.612297952",
         "Western Europe",
         "30528",
         "10379067",
         "98.0",
         "339.98516116352204"
        ],
        [
         "12",
         "Benin",
         "5.21600008",
         "0.4686711429999999",
         "54.31246567",
         "0.735182583",
         "-0.003537213",
         "0.7405325770000001",
         "Sub-Saharan Africa",
         "112620",
         "7862944",
         "40.9",
         "69.81836263541112"
        ],
        [
         "13",
         "Bolivia",
         "5.747499942999999",
         "0.803108692",
         "63.6004715",
         "0.875873327",
         "-0.09168113",
         "0.8226062059999999",
         "Latin America and Caribbean",
         "1098580",
         "8989046",
         "87.2",
         "8.182422763931621"
        ],
        [
         "14",
         "Botswana",
         "3.478899956",
         "0.7791217570000001",
         "58.92445374",
         "0.8213281040000001",
         "-0.250394493",
         "0.777930915",
         "Sub-Saharan Africa",
         "600370",
         "1639833",
         "79.8",
         "2.7313706547628964"
        ],
        [
         "15",
         "Brazil",
         "6.375599861",
         "0.896723807",
         "66.48016357",
         "0.799804807",
         "-0.1018123919999999",
         "0.7706012729999999",
         "Latin America and Caribbean",
         "8511965",
         "188078227",
         "86.4",
         "22.095747221704976"
        ],
        [
         "16",
         "Bulgaria",
         "5.101500034",
         "0.937840343",
         "66.80397797",
         "0.745178163",
         "-0.143908441",
         "0.935585141",
         "Central and Eastern Europe",
         "110910",
         "7385367",
         "98.6",
         "66.58882878009197"
        ],
        [
         "17",
         "Burkina faso",
         "4.768700123",
         "0.7129436140000001",
         "53.88945389",
         "0.665563583",
         "-0.019080516",
         "0.739795029",
         "Sub-Saharan Africa",
         "274200",
         "13902972",
         "26.6",
         "50.703763676148796"
        ],
        [
         "18",
         "Burundi",
         "3.775300026",
         "0.490325719",
         "53.40000153",
         "0.626350224",
         "-0.017551597",
         "0.606934547",
         "Sub-Saharan Africa",
         "27830",
         "8090068",
         "51.6",
         "290.69593963348905"
        ],
        [
         "19",
         "Cambodia",
         "4.8484001160000005",
         "0.773080647",
         "61.52996826",
         "0.959704638",
         "0.051911179",
         "0.8227690459999999",
         "Southeast Asia",
         "181040",
         "13881427",
         "69.4",
         "76.67602187361909"
        ],
        [
         "20",
         "Cameroon",
         "5.084899902",
         "0.700386405",
         "52.7049408",
         "0.7630518079999999",
         "-0.00149645",
         "0.8513365979999999",
         "Sub-Saharan Africa",
         "475440",
         "17340702",
         "79.0",
         "36.472955577990916"
        ],
        [
         "21",
         "Canada",
         "7.23210001",
         "0.927176654",
         "73.60160065",
         "0.933913231",
         "0.124770768",
         "0.390843362",
         "North America and ANZ",
         "9984670",
         "33098932",
         "97.0",
         "3.314975056762016"
        ],
        [
         "22",
         "Chad",
         "4.422699928",
         "0.632388055",
         "48.22053909",
         "0.587305248",
         "0.017834719",
         "0.8027608390000001",
         "Sub-Saharan Africa",
         "1284000",
         "9944201",
         "47.5",
         "7.744704828660436"
        ],
        [
         "23",
         "Chile",
         "6.228499889",
         "0.879713595",
         "69.90061951",
         "0.7448962929999999",
         "-0.065668367",
         "0.838239431",
         "Latin America and Caribbean",
         "756950",
         "16134219",
         "96.2",
         "21.314775084219566"
        ],
        [
         "24",
         "China",
         "5.123899937",
         "0.798760593",
         "69.2891922",
         "0.898517907",
         "-0.18142575",
         "0.7539710999999999",
         "East Asia",
         "9596960",
         "1313973713",
         "90.9",
         "136.91561838332137"
        ],
        [
         "25",
         "Colombia",
         "6.163400172999999",
         "0.884440243",
         "67.69958496",
         "0.8361799120000001",
         "-0.161235645",
         "0.86457181",
         "Latin America and Caribbean",
         "1138910",
         "43593035",
         "92.5",
         "38.27610171128535"
        ],
        [
         "26",
         "Comoros",
         "4.288599968",
         "0.625662446",
         "57.34901047",
         "0.547612607",
         "0.090008408",
         "0.780622602",
         "Sub-Saharan Africa",
         "2170",
         "690948",
         "56.5",
         "318.4092165898617"
        ],
        [
         "27",
         "Costa rica",
         "7.121399879",
         "0.901545942",
         "71.29985046",
         "0.934738934",
         "-0.10242971",
         "0.7863324279999999",
         "Latin America and Caribbean",
         "51100",
         "4075261",
         "96.0",
         "79.75070450097847"
        ],
        [
         "28",
         "Croatia",
         "5.504700184",
         "0.874623716",
         "70.21490479",
         "0.714838803",
         "-0.128538325",
         "0.916495264",
         "Central and Eastern Europe",
         "56542",
         "4494749",
         "98.5",
         "79.49398677089597"
        ],
        [
         "29",
         "Cyprus",
         "6.15899992",
         "0.8059962390000001",
         "73.70222473",
         "0.7798582909999999",
         "0.0437314959999999",
         "0.8562717440000001",
         "Western Europe",
         "9250",
         "784301",
         "97.6",
         "84.7892972972973"
        ],
        [
         "30",
         "Czech republic",
         "6.9109001160000005",
         "0.914430678",
         "70.04793549",
         "0.818537354",
         "-0.230861515",
         "0.85844624",
         "Central and Eastern Europe",
         "78866",
         "10235455",
         "99.9",
         "129.78285953389295"
        ],
        [
         "31",
         "Denmark",
         "7.645599842",
         "0.955990791",
         "72.40250397",
         "0.951444268",
         "0.0662017759999999",
         "0.168489456",
         "Western Europe",
         "43094",
         "5450661",
         "100.0",
         "126.48306028681488"
        ],
        [
         "32",
         "Dominican republic",
         "5.6891999239999995",
         "0.882085383",
         "65.80748749",
         "0.8662027720000001",
         "-0.131263286",
         "0.755999923",
         "Latin America and Caribbean",
         "48730",
         "9183984",
         "84.7",
         "188.46673507079828"
        ],
        [
         "33",
         "Ecuador",
         "5.925199986",
         "0.836418986",
         "68.50003815",
         "0.8598289490000001",
         "-0.127014965",
         "0.8012151120000001",
         "Latin America and Caribbean",
         "283560",
         "13547510",
         "92.5",
         "47.776519960502185"
        ],
        [
         "34",
         "Egypt",
         "4.151400089",
         "0.7354478240000001",
         "61.78015137",
         "0.708354175",
         "-0.196878314",
         "0.787726879",
         "Middle East and North Africa",
         "1001450",
         "78887007",
         "57.7",
         "78.77278645963354"
        ],
        [
         "35",
         "El salvador",
         "6.34829998",
         "0.8060922620000001",
         "66.10826111",
         "0.833805263",
         "-0.121072978",
         "0.754319906",
         "Latin America and Caribbean",
         "21040",
         "6822378",
         "80.2",
         "324.2575095057034"
        ],
        [
         "36",
         "Estonia",
         "6.0218000410000005",
         "0.934729993",
         "68.60495758",
         "0.87770915",
         "-0.111697771",
         "0.623073816",
         "Central and Eastern Europe",
         "45226",
         "1324333",
         "99.8",
         "29.282558705169592"
        ],
        [
         "37",
         "Ethiopia",
         "4.186200142",
         "0.743307352",
         "58.63959122",
         "0.740795195",
         "0.043377332",
         "0.7536900040000001",
         "Sub-Saharan Africa",
         "1127127",
         "74777981",
         "42.7",
         "66.34388227768477"
        ],
        [
         "38",
         "Finland",
         "7.808700085",
         "0.954329729",
         "71.9008255",
         "0.949172199",
         "-0.059482019",
         "0.1954445839999999",
         "Western Europe",
         "338145",
         "5231372",
         "100.0",
         "15.47079507311952"
        ],
        [
         "39",
         "France",
         "6.663799762999999",
         "0.937103748",
         "73.80193329",
         "0.8254676459999999",
         "-0.130641967",
         "0.583521128",
         "Western Europe",
         "547030",
         "60876136",
         "99.0",
         "111.2848216734"
        ],
        [
         "40",
         "Gabon",
         "4.829299927",
         "0.787886858",
         "59.71533966",
         "0.7048292159999999",
         "-0.222261623",
         "0.8491509559999999",
         "Sub-Saharan Africa",
         "267667",
         "1424906",
         "63.2",
         "5.3234279907497"
        ],
        [
         "41",
         "Georgia",
         "4.672599792",
         "0.629033029",
         "64.49520874",
         "0.8016415240000001",
         "-0.22892037",
         "0.665944695",
         "Commonwealth of Independent States",
         "69700",
         "4661473",
         "99.0",
         "66.87909612625538"
        ],
        [
         "42",
         "Germany",
         "7.075799942000001",
         "0.898874462",
         "72.20201874",
         "0.867371082",
         "0.0801793859999999",
         "0.456422031",
         "Western Europe",
         "357021",
         "82422299",
         "99.0",
         "230.86120704384336"
        ],
        [
         "43",
         "Ghana",
         "5.1479997630000005",
         "0.728601098",
         "57.20398712",
         "0.794796526",
         "0.094170853",
         "0.8479647640000001",
         "Sub-Saharan Africa",
         "239460",
         "22409572",
         "74.8",
         "93.58378017205379"
        ],
        [
         "44",
         "Greece",
         "5.514999866",
         "0.8143803479999999",
         "72.40525818",
         "0.5413451189999999",
         "-0.300907373",
         "0.8599314090000001",
         "Western Europe",
         "131940",
         "10688058",
         "97.5",
         "81.00695770804911"
        ],
        [
         "45",
         "Guatemala",
         "6.398900032",
         "0.8166214820000001",
         "64.8089447",
         "0.908147573",
         "-0.042938665",
         "0.783237457",
         "Latin America and Caribbean",
         "108890",
         "12293545",
         "70.6",
         "112.89875103315272"
        ],
        [
         "46",
         "Guinea",
         "4.949299812",
         "0.637573481",
         "54.46780014",
         "0.7068467740000001",
         "0.076328471",
         "0.761794448",
         "Sub-Saharan Africa",
         "245857",
         "9690222",
         "35.9",
         "39.41405776528632"
        ],
        [
         "47",
         "Haiti",
         "3.720799923",
         "0.593247831",
         "55.59862518",
         "0.537825167",
         "0.40053457",
         "0.6847672459999999",
         "Latin America and Caribbean",
         "27750",
         "8308504",
         "52.9",
         "299.40554954954956"
        ],
        [
         "48",
         "Honduras",
         "5.953199862999999",
         "0.821870148",
         "67.19876862",
         "0.870603263",
         "0.086969115",
         "0.801131904",
         "Latin America and Caribbean",
         "112090",
         "7326496",
         "76.2",
         "65.3626193237577"
        ],
        [
         "49",
         "Hungary",
         "6.000400066",
         "0.921934128",
         "67.60997009",
         "0.718964577",
         "-0.194323018",
         "0.892916501",
         "Central and Eastern Europe",
         "93030",
         "9981334",
         "99.4",
         "107.29156186176502"
        ]
       ],
       "shape": {
        "columns": 12,
        "rows": 135
       }
      },
      "text/html": [
       "<div>\n",
       "<style scoped>\n",
       "    .dataframe tbody tr th:only-of-type {\n",
       "        vertical-align: middle;\n",
       "    }\n",
       "\n",
       "    .dataframe tbody tr th {\n",
       "        vertical-align: top;\n",
       "    }\n",
       "\n",
       "    .dataframe thead th {\n",
       "        text-align: right;\n",
       "    }\n",
       "</style>\n",
       "<table border=\"1\" class=\"dataframe\">\n",
       "  <thead>\n",
       "    <tr style=\"text-align: right;\">\n",
       "      <th></th>\n",
       "      <th>country</th>\n",
       "      <th>happiness_score</th>\n",
       "      <th>social_support</th>\n",
       "      <th>healthy_life_expectancy</th>\n",
       "      <th>freedom_of_choices</th>\n",
       "      <th>generosity</th>\n",
       "      <th>perception_of_corruption</th>\n",
       "      <th>world_region</th>\n",
       "      <th>area</th>\n",
       "      <th>population</th>\n",
       "      <th>literacy</th>\n",
       "      <th>population_density</th>\n",
       "    </tr>\n",
       "  </thead>\n",
       "  <tbody>\n",
       "    <tr>\n",
       "      <th>0</th>\n",
       "      <td>Afghanistan</td>\n",
       "      <td>2.5669</td>\n",
       "      <td>0.470367</td>\n",
       "      <td>52.590000</td>\n",
       "      <td>0.396573</td>\n",
       "      <td>-0.096429</td>\n",
       "      <td>0.933687</td>\n",
       "      <td>South Asia</td>\n",
       "      <td>647500</td>\n",
       "      <td>31056997</td>\n",
       "      <td>36.0</td>\n",
       "      <td>47.964474</td>\n",
       "    </tr>\n",
       "    <tr>\n",
       "      <th>1</th>\n",
       "      <td>Albania</td>\n",
       "      <td>4.8827</td>\n",
       "      <td>0.671070</td>\n",
       "      <td>68.708138</td>\n",
       "      <td>0.781994</td>\n",
       "      <td>-0.042309</td>\n",
       "      <td>0.896304</td>\n",
       "      <td>Central and Eastern Europe</td>\n",
       "      <td>28748</td>\n",
       "      <td>3581655</td>\n",
       "      <td>86.5</td>\n",
       "      <td>124.587971</td>\n",
       "    </tr>\n",
       "    <tr>\n",
       "      <th>2</th>\n",
       "      <td>Algeria</td>\n",
       "      <td>5.0051</td>\n",
       "      <td>0.803385</td>\n",
       "      <td>65.905174</td>\n",
       "      <td>0.466611</td>\n",
       "      <td>-0.121105</td>\n",
       "      <td>0.735485</td>\n",
       "      <td>Middle East and North Africa</td>\n",
       "      <td>2381740</td>\n",
       "      <td>32930091</td>\n",
       "      <td>70.0</td>\n",
       "      <td>13.826065</td>\n",
       "    </tr>\n",
       "    <tr>\n",
       "      <th>3</th>\n",
       "      <td>Argentina</td>\n",
       "      <td>5.9747</td>\n",
       "      <td>0.900568</td>\n",
       "      <td>68.803802</td>\n",
       "      <td>0.831132</td>\n",
       "      <td>-0.194914</td>\n",
       "      <td>0.842010</td>\n",
       "      <td>Latin America and Caribbean</td>\n",
       "      <td>2766890</td>\n",
       "      <td>39921833</td>\n",
       "      <td>97.1</td>\n",
       "      <td>14.428413</td>\n",
       "    </tr>\n",
       "    <tr>\n",
       "      <th>4</th>\n",
       "      <td>Armenia</td>\n",
       "      <td>4.6768</td>\n",
       "      <td>0.757479</td>\n",
       "      <td>66.750656</td>\n",
       "      <td>0.712018</td>\n",
       "      <td>-0.138780</td>\n",
       "      <td>0.773545</td>\n",
       "      <td>Commonwealth of Independent States</td>\n",
       "      <td>29800</td>\n",
       "      <td>2976372</td>\n",
       "      <td>98.6</td>\n",
       "      <td>99.878255</td>\n",
       "    </tr>\n",
       "    <tr>\n",
       "      <th>...</th>\n",
       "      <td>...</td>\n",
       "      <td>...</td>\n",
       "      <td>...</td>\n",
       "      <td>...</td>\n",
       "      <td>...</td>\n",
       "      <td>...</td>\n",
       "      <td>...</td>\n",
       "      <td>...</td>\n",
       "      <td>...</td>\n",
       "      <td>...</td>\n",
       "      <td>...</td>\n",
       "      <td>...</td>\n",
       "    </tr>\n",
       "    <tr>\n",
       "      <th>130</th>\n",
       "      <td>Venezuela</td>\n",
       "      <td>5.0532</td>\n",
       "      <td>0.890408</td>\n",
       "      <td>66.505341</td>\n",
       "      <td>0.623278</td>\n",
       "      <td>-0.169091</td>\n",
       "      <td>0.837038</td>\n",
       "      <td>Latin America and Caribbean</td>\n",
       "      <td>912050</td>\n",
       "      <td>25730435</td>\n",
       "      <td>93.4</td>\n",
       "      <td>28.211650</td>\n",
       "    </tr>\n",
       "    <tr>\n",
       "      <th>131</th>\n",
       "      <td>Vietnam</td>\n",
       "      <td>5.3535</td>\n",
       "      <td>0.849987</td>\n",
       "      <td>67.952736</td>\n",
       "      <td>0.939593</td>\n",
       "      <td>-0.094533</td>\n",
       "      <td>0.796421</td>\n",
       "      <td>Southeast Asia</td>\n",
       "      <td>329560</td>\n",
       "      <td>84402966</td>\n",
       "      <td>90.3</td>\n",
       "      <td>256.108041</td>\n",
       "    </tr>\n",
       "    <tr>\n",
       "      <th>132</th>\n",
       "      <td>Yemen</td>\n",
       "      <td>3.5274</td>\n",
       "      <td>0.817981</td>\n",
       "      <td>56.727283</td>\n",
       "      <td>0.599920</td>\n",
       "      <td>-0.157735</td>\n",
       "      <td>0.800288</td>\n",
       "      <td>Middle East and North Africa</td>\n",
       "      <td>527970</td>\n",
       "      <td>21456188</td>\n",
       "      <td>50.2</td>\n",
       "      <td>40.639029</td>\n",
       "    </tr>\n",
       "    <tr>\n",
       "      <th>133</th>\n",
       "      <td>Zambia</td>\n",
       "      <td>3.7594</td>\n",
       "      <td>0.698824</td>\n",
       "      <td>55.299377</td>\n",
       "      <td>0.806500</td>\n",
       "      <td>0.078037</td>\n",
       "      <td>0.801290</td>\n",
       "      <td>Sub-Saharan Africa</td>\n",
       "      <td>752614</td>\n",
       "      <td>11502010</td>\n",
       "      <td>80.6</td>\n",
       "      <td>15.282748</td>\n",
       "    </tr>\n",
       "    <tr>\n",
       "      <th>134</th>\n",
       "      <td>Zimbabwe</td>\n",
       "      <td>3.2992</td>\n",
       "      <td>0.763093</td>\n",
       "      <td>55.617260</td>\n",
       "      <td>0.711458</td>\n",
       "      <td>-0.072064</td>\n",
       "      <td>0.810237</td>\n",
       "      <td>Sub-Saharan Africa</td>\n",
       "      <td>390580</td>\n",
       "      <td>12236805</td>\n",
       "      <td>90.7</td>\n",
       "      <td>31.329830</td>\n",
       "    </tr>\n",
       "  </tbody>\n",
       "</table>\n",
       "<p>135 rows × 12 columns</p>\n",
       "</div>"
      ],
      "text/plain": [
       "         country  happiness_score  social_support  healthy_life_expectancy  \\\n",
       "0    Afghanistan           2.5669        0.470367                52.590000   \n",
       "1        Albania           4.8827        0.671070                68.708138   \n",
       "2        Algeria           5.0051        0.803385                65.905174   \n",
       "3      Argentina           5.9747        0.900568                68.803802   \n",
       "4        Armenia           4.6768        0.757479                66.750656   \n",
       "..           ...              ...             ...                      ...   \n",
       "130    Venezuela           5.0532        0.890408                66.505341   \n",
       "131      Vietnam           5.3535        0.849987                67.952736   \n",
       "132        Yemen           3.5274        0.817981                56.727283   \n",
       "133       Zambia           3.7594        0.698824                55.299377   \n",
       "134     Zimbabwe           3.2992        0.763093                55.617260   \n",
       "\n",
       "     freedom_of_choices  generosity  perception_of_corruption  \\\n",
       "0              0.396573   -0.096429                  0.933687   \n",
       "1              0.781994   -0.042309                  0.896304   \n",
       "2              0.466611   -0.121105                  0.735485   \n",
       "3              0.831132   -0.194914                  0.842010   \n",
       "4              0.712018   -0.138780                  0.773545   \n",
       "..                  ...         ...                       ...   \n",
       "130            0.623278   -0.169091                  0.837038   \n",
       "131            0.939593   -0.094533                  0.796421   \n",
       "132            0.599920   -0.157735                  0.800288   \n",
       "133            0.806500    0.078037                  0.801290   \n",
       "134            0.711458   -0.072064                  0.810237   \n",
       "\n",
       "                           world_region     area  population  literacy  \\\n",
       "0                            South Asia   647500    31056997      36.0   \n",
       "1            Central and Eastern Europe    28748     3581655      86.5   \n",
       "2          Middle East and North Africa  2381740    32930091      70.0   \n",
       "3           Latin America and Caribbean  2766890    39921833      97.1   \n",
       "4    Commonwealth of Independent States    29800     2976372      98.6   \n",
       "..                                  ...      ...         ...       ...   \n",
       "130         Latin America and Caribbean   912050    25730435      93.4   \n",
       "131                      Southeast Asia   329560    84402966      90.3   \n",
       "132        Middle East and North Africa   527970    21456188      50.2   \n",
       "133                  Sub-Saharan Africa   752614    11502010      80.6   \n",
       "134                  Sub-Saharan Africa   390580    12236805      90.7   \n",
       "\n",
       "     population_density  \n",
       "0             47.964474  \n",
       "1            124.587971  \n",
       "2             13.826065  \n",
       "3             14.428413  \n",
       "4             99.878255  \n",
       "..                  ...  \n",
       "130           28.211650  \n",
       "131          256.108041  \n",
       "132           40.639029  \n",
       "133           15.282748  \n",
       "134           31.329830  \n",
       "\n",
       "[135 rows x 12 columns]"
      ]
     },
     "execution_count": 122,
     "metadata": {},
     "output_type": "execute_result"
    }
   ],
   "source": [
    "country_features[\"population_density\"]=country_features[\"population\"]/country_features[\"area\"]\n",
    "country_features"
   ]
  },
  {
   "cell_type": "markdown",
   "metadata": {},
   "source": [
    "What is the happiness score of the 3 countries with the lowest population density?"
   ]
  },
  {
   "cell_type": "code",
   "execution_count": 123,
   "metadata": {},
   "outputs": [
    {
     "data": {
      "application/vnd.microsoft.datawrangler.viewer.v0+json": {
       "columns": [
        {
         "name": "index",
         "rawType": "int64",
         "type": "integer"
        },
        {
         "name": "country",
         "rawType": "object",
         "type": "string"
        },
        {
         "name": "population_density",
         "rawType": "float64",
         "type": "float"
        },
        {
         "name": "happiness_score",
         "rawType": "float64",
         "type": "float"
        }
       ],
       "ref": "ba8d4971-fcda-4605-b00a-b26910050c8e",
       "rows": [
        [
         "83",
         "Mongolia",
         "1.810750609289848",
         "5.4562001229999995"
        ],
        [
         "5",
         "Australia",
         "2.6362010446411728",
         "7.222799778"
        ],
        [
         "14",
         "Botswana",
         "2.7313706547628964",
         "3.478899956"
        ]
       ],
       "shape": {
        "columns": 3,
        "rows": 3
       }
      },
      "text/html": [
       "<div>\n",
       "<style scoped>\n",
       "    .dataframe tbody tr th:only-of-type {\n",
       "        vertical-align: middle;\n",
       "    }\n",
       "\n",
       "    .dataframe tbody tr th {\n",
       "        vertical-align: top;\n",
       "    }\n",
       "\n",
       "    .dataframe thead th {\n",
       "        text-align: right;\n",
       "    }\n",
       "</style>\n",
       "<table border=\"1\" class=\"dataframe\">\n",
       "  <thead>\n",
       "    <tr style=\"text-align: right;\">\n",
       "      <th></th>\n",
       "      <th>country</th>\n",
       "      <th>population_density</th>\n",
       "      <th>happiness_score</th>\n",
       "    </tr>\n",
       "  </thead>\n",
       "  <tbody>\n",
       "    <tr>\n",
       "      <th>83</th>\n",
       "      <td>Mongolia</td>\n",
       "      <td>1.810751</td>\n",
       "      <td>5.4562</td>\n",
       "    </tr>\n",
       "    <tr>\n",
       "      <th>5</th>\n",
       "      <td>Australia</td>\n",
       "      <td>2.636201</td>\n",
       "      <td>7.2228</td>\n",
       "    </tr>\n",
       "    <tr>\n",
       "      <th>14</th>\n",
       "      <td>Botswana</td>\n",
       "      <td>2.731371</td>\n",
       "      <td>3.4789</td>\n",
       "    </tr>\n",
       "  </tbody>\n",
       "</table>\n",
       "</div>"
      ],
      "text/plain": [
       "      country  population_density  happiness_score\n",
       "83   Mongolia            1.810751           5.4562\n",
       "5   Australia            2.636201           7.2228\n",
       "14   Botswana            2.731371           3.4789"
      ]
     },
     "execution_count": 123,
     "metadata": {},
     "output_type": "execute_result"
    }
   ],
   "source": [
    "country_features[[\"country\", \"population_density\", \"happiness_score\"]].sort_values(by=\"population_density\").head(3)"
   ]
  },
  {
   "cell_type": "markdown",
   "metadata": {},
   "source": [
    "## Task 6: Healty and happy?\n",
    "\n",
    "Plot in a scatter plot the happiness score (x) and healty life expectancy (y)."
   ]
  },
  {
   "cell_type": "code",
   "execution_count": 128,
   "metadata": {},
   "outputs": [
    {
     "data": {
      "image/png": "[encoded data removed]",
      "text/plain": [
       "<Figure size 640x480 with 1 Axes>"
      ]
     },
     "metadata": {},
     "output_type": "display_data"
    }
   ],
   "source": [
    "%matplotlib inline\n",
    "import matplotlib.pyplot as plt\n",
    "\n",
    "country_features.plot.scatter(x=\"happiness_score\", y=\"healthy_life_expectancy\")\n",
    "plt.show()  "
   ]
  },
  {
   "cell_type": "markdown",
   "metadata": {},
   "source": [
    "Feel free to continue the exploration of the dataset! We'll release the solutions next week.\n",
    "\n",
    "----\n",
    "Enjoy EPFL and be happy, next year Switzerland must be #1."
   ]
  }
 ],
 "metadata": {
  "kernelspec": {
   "display_name": "ada",
   "language": "python",
   "name": "python3"
  },
  "language_info": {
   "codemirror_mode": {
    "name": "ipython",
    "version": 3
   },
   "file_extension": ".py",
   "mimetype": "text/x-python",
   "name": "python",
   "nbconvert_exporter": "python",
   "pygments_lexer": "ipython3",
   "version": "3.13.7"
  }
 },
 "nbformat": 4,
 "nbformat_minor": 4
}
