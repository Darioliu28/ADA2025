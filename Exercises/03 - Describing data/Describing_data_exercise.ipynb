{
 "cells": [
  {
   "cell_type": "markdown",
   "metadata": {},
   "source": [
    "# Describing Data\n",
    "\n",
    "### What do you find in this notebook?\n",
    "\n",
    "In this exercise, first, you will familiarize yourself with the Python libraries 'statsmodels' and 'SciPy' that let you do statistical analysis: calculate descriptive statistics, sample datapoints, study relationships between variables, and perform hypothesis testing. Then, second, you will work on a set of exercises that will let you practice your skills.\n",
    "\n",
    "Here we show a couple of examples of how to do common analyses, but there are many more useful probability distributions and statistical tests. In the linked documentation, you will find complete information, and a lot more details compared to what is outlined in this notebook:\n",
    "- [statsmodels](https://www.statsmodels.org/stable/examples/index.html), [more complete documentation](https://www.statsmodels.org/stable/stats.html)\n",
    "- [SciPy](https://docs.scipy.org/doc/scipy/reference/stats.html)"
   ]
  },
  {
   "cell_type": "markdown",
   "metadata": {},
   "source": [
    "# Tutorial: How to use the libraries\n",
    "\n",
    "- You will be working with the full US 2015 census dataset (acs2015_county_data.csv, available at https://www.kaggle.com/muonneutrino/us-census-demographic-data#acs2015_county_data.csv). Here we load it. Take some time to familiarize yourself with the contents. One row represents one county."
   ]
  },
  {
   "cell_type": "code",
   "execution_count": 75,
   "metadata": {
    "tags": []
   },
   "outputs": [],
   "source": [
    "import pandas as pd\n",
    "import pandas as pd\n",
    "import numpy as np\n",
    "import matplotlib.pyplot as plt\n",
    "%matplotlib inline\n",
    "import seaborn as sns\n",
    "import math\n",
    "\n",
    "#load the statistical libraries\n",
    "from statsmodels.stats import diagnostic\n",
    "from scipy import stats"
   ]
  },
  {
   "cell_type": "code",
   "execution_count": 3,
   "metadata": {
    "tags": []
   },
   "outputs": [],
   "source": [
    "data_folder = './data/'\n",
    "df = pd.read_csv(data_folder + 'acs2015_county_data.csv')"
   ]
  },
  {
   "cell_type": "code",
   "execution_count": 4,
   "metadata": {},
   "outputs": [
    {
     "data": {
      "text/plain": [
       "Index(['CensusId', 'State', 'County', 'TotalPop', 'Men', 'Women', 'Hispanic',\n",
       "       'White', 'Black', 'Native', 'Asian', 'Pacific', 'Citizen', 'Income',\n",
       "       'IncomeErr', 'IncomePerCap', 'IncomePerCapErr', 'Poverty',\n",
       "       'ChildPoverty', 'Professional', 'Service', 'Office', 'Construction',\n",
       "       'Production', 'Drive', 'Carpool', 'Transit', 'Walk', 'OtherTransp',\n",
       "       'WorkAtHome', 'MeanCommute', 'Employed', 'PrivateWork', 'PublicWork',\n",
       "       'SelfEmployed', 'FamilyWork', 'Unemployment'],\n",
       "      dtype='object')"
      ]
     },
     "execution_count": 4,
     "metadata": {},
     "output_type": "execute_result"
    }
   ],
   "source": [
    "df.columns"
   ]
  },
  {
   "cell_type": "code",
   "execution_count": 5,
   "metadata": {},
   "outputs": [
    {
     "data": {
      "application/vnd.microsoft.datawrangler.viewer.v0+json": {
       "columns": [
        {
         "name": "index",
         "rawType": "int64",
         "type": "integer"
        },
        {
         "name": "CensusId",
         "rawType": "int64",
         "type": "integer"
        },
        {
         "name": "State",
         "rawType": "object",
         "type": "string"
        },
        {
         "name": "County",
         "rawType": "object",
         "type": "string"
        },
        {
         "name": "TotalPop",
         "rawType": "int64",
         "type": "integer"
        },
        {
         "name": "Men",
         "rawType": "int64",
         "type": "integer"
        },
        {
         "name": "Women",
         "rawType": "int64",
         "type": "integer"
        },
        {
         "name": "Hispanic",
         "rawType": "float64",
         "type": "float"
        },
        {
         "name": "White",
         "rawType": "float64",
         "type": "float"
        },
        {
         "name": "Black",
         "rawType": "float64",
         "type": "float"
        },
        {
         "name": "Native",
         "rawType": "float64",
         "type": "float"
        },
        {
         "name": "Asian",
         "rawType": "float64",
         "type": "float"
        },
        {
         "name": "Pacific",
         "rawType": "float64",
         "type": "float"
        },
        {
         "name": "Citizen",
         "rawType": "int64",
         "type": "integer"
        },
        {
         "name": "Income",
         "rawType": "float64",
         "type": "float"
        },
        {
         "name": "IncomeErr",
         "rawType": "float64",
         "type": "float"
        },
        {
         "name": "IncomePerCap",
         "rawType": "int64",
         "type": "integer"
        },
        {
         "name": "IncomePerCapErr",
         "rawType": "int64",
         "type": "integer"
        },
        {
         "name": "Poverty",
         "rawType": "float64",
         "type": "float"
        },
        {
         "name": "ChildPoverty",
         "rawType": "float64",
         "type": "float"
        },
        {
         "name": "Professional",
         "rawType": "float64",
         "type": "float"
        },
        {
         "name": "Service",
         "rawType": "float64",
         "type": "float"
        },
        {
         "name": "Office",
         "rawType": "float64",
         "type": "float"
        },
        {
         "name": "Construction",
         "rawType": "float64",
         "type": "float"
        },
        {
         "name": "Production",
         "rawType": "float64",
         "type": "float"
        },
        {
         "name": "Drive",
         "rawType": "float64",
         "type": "float"
        },
        {
         "name": "Carpool",
         "rawType": "float64",
         "type": "float"
        },
        {
         "name": "Transit",
         "rawType": "float64",
         "type": "float"
        },
        {
         "name": "Walk",
         "rawType": "float64",
         "type": "float"
        },
        {
         "name": "OtherTransp",
         "rawType": "float64",
         "type": "float"
        },
        {
         "name": "WorkAtHome",
         "rawType": "float64",
         "type": "float"
        },
        {
         "name": "MeanCommute",
         "rawType": "float64",
         "type": "float"
        },
        {
         "name": "Employed",
         "rawType": "int64",
         "type": "integer"
        },
        {
         "name": "PrivateWork",
         "rawType": "float64",
         "type": "float"
        },
        {
         "name": "PublicWork",
         "rawType": "float64",
         "type": "float"
        },
        {
         "name": "SelfEmployed",
         "rawType": "float64",
         "type": "float"
        },
        {
         "name": "FamilyWork",
         "rawType": "float64",
         "type": "float"
        },
        {
         "name": "Unemployment",
         "rawType": "float64",
         "type": "float"
        }
       ],
       "ref": "dea2934b-d26c-4049-ab29-add6e970118f",
       "rows": [
        [
         "300",
         "8111",
         "Colorado",
         "San Juan",
         "606",
         "327",
         "279",
         "19.3",
         "76.7",
         "0.0",
         "1.5",
         "0.0",
         "0.0",
         "532",
         "36324.0",
         "2185.0",
         "23143",
         "3943",
         "16.5",
         "16.9",
         "28.8",
         "18.1",
         "27.9",
         "18.7",
         "6.5",
         "31.2",
         "13.1",
         "1.8",
         "29.4",
         "19.9",
         "4.7",
         "11.8",
         "337",
         "80.1",
         "11.3",
         "8.0",
         "0.6",
         "13.8"
        ],
        [
         "902",
         "20029",
         "Kansas",
         "Cloud",
         "9339",
         "4650",
         "4689",
         "3.3",
         "93.6",
         "0.4",
         "0.2",
         "0.8",
         "0.0",
         "7255",
         "39282.0",
         "2669.0",
         "22441",
         "1814",
         "13.5",
         "15.1",
         "27.7",
         "21.2",
         "22.4",
         "10.8",
         "17.8",
         "78.7",
         "9.6",
         "0.0",
         "3.8",
         "2.5",
         "5.4",
         "15.4",
         "4514",
         "75.5",
         "15.3",
         "9.0",
         "0.3",
         "6.8"
        ],
        [
         "502",
         "13235",
         "Georgia",
         "Pulaski",
         "11590",
         "4866",
         "6724",
         "4.7",
         "59.1",
         "33.6",
         "0.0",
         "0.1",
         "0.0",
         "9226",
         "38750.0",
         "6998.0",
         "17656",
         "1823",
         "19.2",
         "34.6",
         "32.6",
         "22.8",
         "17.1",
         "13.0",
         "14.4",
         "85.4",
         "7.4",
         "0.0",
         "5.1",
         "0.2",
         "1.9",
         "21.3",
         "3949",
         "69.3",
         "24.1",
         "6.5",
         "0.1",
         "7.4"
        ],
        [
         "21",
         "1043",
         "Alabama",
         "Cullman",
         "80965",
         "40081",
         "40884",
         "4.3",
         "92.2",
         "1.1",
         "0.4",
         "0.6",
         "0.0",
         "61222",
         "38971.0",
         "1526.0",
         "20881",
         "727",
         "18.5",
         "25.0",
         "28.5",
         "15.6",
         "23.9",
         "13.9",
         "18.1",
         "84.9",
         "10.0",
         "0.1",
         "1.5",
         "1.0",
         "2.6",
         "26.4",
         "32282",
         "81.6",
         "12.2",
         "5.8",
         "0.4",
         "7.3"
        ],
        [
         "275",
         "8061",
         "Colorado",
         "Kiowa",
         "1463",
         "666",
         "797",
         "7.2",
         "87.0",
         "0.8",
         "0.3",
         "0.1",
         "0.0",
         "1071",
         "40304.0",
         "3948.0",
         "22731",
         "2560",
         "13.2",
         "14.9",
         "40.5",
         "19.6",
         "16.9",
         "14.5",
         "8.4",
         "76.8",
         "4.5",
         "0.4",
         "7.0",
         "2.4",
         "8.8",
         "15.1",
         "723",
         "50.9",
         "35.3",
         "13.8",
         "0.0",
         "2.0"
        ],
        [
         "3",
         "1007",
         "Alabama",
         "Bibb",
         "22604",
         "12073",
         "10531",
         "2.2",
         "74.5",
         "21.4",
         "0.4",
         "0.1",
         "0.0",
         "17495",
         "38678.0",
         "3995.0",
         "18431",
         "1618",
         "16.8",
         "27.9",
         "21.5",
         "17.9",
         "17.8",
         "19.0",
         "23.7",
         "83.2",
         "13.5",
         "0.5",
         "0.6",
         "1.5",
         "0.7",
         "28.8",
         "8294",
         "76.8",
         "16.1",
         "6.7",
         "0.4",
         "8.3"
        ],
        [
         "3189",
         "72093",
         "Puerto Rico",
         "Maricao",
         "6315",
         "3144",
         "3171",
         "99.9",
         "0.0",
         "0.1",
         "0.0",
         "0.0",
         "0.0",
         "4834",
         "12606.0",
         "2893.0",
         "5878",
         "709",
         "64.2",
         "81.6",
         "23.4",
         "27.7",
         "13.5",
         "18.7",
         "16.7",
         "71.9",
         "5.6",
         "0.0",
         "18.6",
         "1.3",
         "2.6",
         "22.1",
         "1500",
         "62.5",
         "29.1",
         "8.3",
         "0.0",
         "10.7"
        ],
        [
         "2579",
         "48113",
         "Texas",
         "Dallas",
         "2485003",
         "1225722",
         "1259281",
         "39.0",
         "31.5",
         "21.8",
         "0.2",
         "5.6",
         "0.0",
         "1432702",
         "50270.0",
         "333.0",
         "27605",
         "246",
         "19.3",
         "29.3",
         "33.3",
         "18.2",
         "24.5",
         "11.2",
         "12.9",
         "78.2",
         "11.2",
         "2.9",
         "1.5",
         "2.1",
         "4.1",
         "26.5",
         "1191958",
         "83.9",
         "9.5",
         "6.4",
         "0.1",
         "7.6"
        ],
        [
         "2048",
         "39011",
         "Ohio",
         "Auglaize",
         "45873",
         "22745",
         "23128",
         "1.4",
         "96.5",
         "0.5",
         "0.2",
         "0.5",
         "0.0",
         "34442",
         "54274.0",
         "2595.0",
         "25727",
         "776",
         "8.9",
         "11.7",
         "29.4",
         "15.6",
         "19.5",
         "9.8",
         "25.7",
         "87.4",
         "6.2",
         "0.2",
         "1.8",
         "1.8",
         "2.6",
         "19.6",
         "22719",
         "84.3",
         "10.6",
         "4.9",
         "0.1",
         "5.0"
        ],
        [
         "1321",
         "27015",
         "Minnesota",
         "Brown",
         "25391",
         "12620",
         "12771",
         "3.7",
         "94.5",
         "0.4",
         "0.1",
         "0.4",
         "0.1",
         "19712",
         "52598.0",
         "2042.0",
         "28018",
         "1126",
         "7.8",
         "8.1",
         "31.3",
         "17.1",
         "21.9",
         "11.5",
         "18.2",
         "78.0",
         "7.6",
         "0.6",
         "5.2",
         "1.3",
         "7.3",
         "14.3",
         "13583",
         "81.1",
         "9.9",
         "8.8",
         "0.2",
         "3.2"
        ]
       ],
       "shape": {
        "columns": 37,
        "rows": 10
       }
      },
      "text/html": [
       "<div>\n",
       "<style scoped>\n",
       "    .dataframe tbody tr th:only-of-type {\n",
       "        vertical-align: middle;\n",
       "    }\n",
       "\n",
       "    .dataframe tbody tr th {\n",
       "        vertical-align: top;\n",
       "    }\n",
       "\n",
       "    .dataframe thead th {\n",
       "        text-align: right;\n",
       "    }\n",
       "</style>\n",
       "<table border=\"1\" class=\"dataframe\">\n",
       "  <thead>\n",
       "    <tr style=\"text-align: right;\">\n",
       "      <th></th>\n",
       "      <th>CensusId</th>\n",
       "      <th>State</th>\n",
       "      <th>County</th>\n",
       "      <th>TotalPop</th>\n",
       "      <th>Men</th>\n",
       "      <th>Women</th>\n",
       "      <th>Hispanic</th>\n",
       "      <th>White</th>\n",
       "      <th>Black</th>\n",
       "      <th>Native</th>\n",
       "      <th>...</th>\n",
       "      <th>Walk</th>\n",
       "      <th>OtherTransp</th>\n",
       "      <th>WorkAtHome</th>\n",
       "      <th>MeanCommute</th>\n",
       "      <th>Employed</th>\n",
       "      <th>PrivateWork</th>\n",
       "      <th>PublicWork</th>\n",
       "      <th>SelfEmployed</th>\n",
       "      <th>FamilyWork</th>\n",
       "      <th>Unemployment</th>\n",
       "    </tr>\n",
       "  </thead>\n",
       "  <tbody>\n",
       "    <tr>\n",
       "      <th>300</th>\n",
       "      <td>8111</td>\n",
       "      <td>Colorado</td>\n",
       "      <td>San Juan</td>\n",
       "      <td>606</td>\n",
       "      <td>327</td>\n",
       "      <td>279</td>\n",
       "      <td>19.3</td>\n",
       "      <td>76.7</td>\n",
       "      <td>0.0</td>\n",
       "      <td>1.5</td>\n",
       "      <td>...</td>\n",
       "      <td>29.4</td>\n",
       "      <td>19.9</td>\n",
       "      <td>4.7</td>\n",
       "      <td>11.8</td>\n",
       "      <td>337</td>\n",
       "      <td>80.1</td>\n",
       "      <td>11.3</td>\n",
       "      <td>8.0</td>\n",
       "      <td>0.6</td>\n",
       "      <td>13.8</td>\n",
       "    </tr>\n",
       "    <tr>\n",
       "      <th>902</th>\n",
       "      <td>20029</td>\n",
       "      <td>Kansas</td>\n",
       "      <td>Cloud</td>\n",
       "      <td>9339</td>\n",
       "      <td>4650</td>\n",
       "      <td>4689</td>\n",
       "      <td>3.3</td>\n",
       "      <td>93.6</td>\n",
       "      <td>0.4</td>\n",
       "      <td>0.2</td>\n",
       "      <td>...</td>\n",
       "      <td>3.8</td>\n",
       "      <td>2.5</td>\n",
       "      <td>5.4</td>\n",
       "      <td>15.4</td>\n",
       "      <td>4514</td>\n",
       "      <td>75.5</td>\n",
       "      <td>15.3</td>\n",
       "      <td>9.0</td>\n",
       "      <td>0.3</td>\n",
       "      <td>6.8</td>\n",
       "    </tr>\n",
       "    <tr>\n",
       "      <th>502</th>\n",
       "      <td>13235</td>\n",
       "      <td>Georgia</td>\n",
       "      <td>Pulaski</td>\n",
       "      <td>11590</td>\n",
       "      <td>4866</td>\n",
       "      <td>6724</td>\n",
       "      <td>4.7</td>\n",
       "      <td>59.1</td>\n",
       "      <td>33.6</td>\n",
       "      <td>0.0</td>\n",
       "      <td>...</td>\n",
       "      <td>5.1</td>\n",
       "      <td>0.2</td>\n",
       "      <td>1.9</td>\n",
       "      <td>21.3</td>\n",
       "      <td>3949</td>\n",
       "      <td>69.3</td>\n",
       "      <td>24.1</td>\n",
       "      <td>6.5</td>\n",
       "      <td>0.1</td>\n",
       "      <td>7.4</td>\n",
       "    </tr>\n",
       "    <tr>\n",
       "      <th>21</th>\n",
       "      <td>1043</td>\n",
       "      <td>Alabama</td>\n",
       "      <td>Cullman</td>\n",
       "      <td>80965</td>\n",
       "      <td>40081</td>\n",
       "      <td>40884</td>\n",
       "      <td>4.3</td>\n",
       "      <td>92.2</td>\n",
       "      <td>1.1</td>\n",
       "      <td>0.4</td>\n",
       "      <td>...</td>\n",
       "      <td>1.5</td>\n",
       "      <td>1.0</td>\n",
       "      <td>2.6</td>\n",
       "      <td>26.4</td>\n",
       "      <td>32282</td>\n",
       "      <td>81.6</td>\n",
       "      <td>12.2</td>\n",
       "      <td>5.8</td>\n",
       "      <td>0.4</td>\n",
       "      <td>7.3</td>\n",
       "    </tr>\n",
       "    <tr>\n",
       "      <th>275</th>\n",
       "      <td>8061</td>\n",
       "      <td>Colorado</td>\n",
       "      <td>Kiowa</td>\n",
       "      <td>1463</td>\n",
       "      <td>666</td>\n",
       "      <td>797</td>\n",
       "      <td>7.2</td>\n",
       "      <td>87.0</td>\n",
       "      <td>0.8</td>\n",
       "      <td>0.3</td>\n",
       "      <td>...</td>\n",
       "      <td>7.0</td>\n",
       "      <td>2.4</td>\n",
       "      <td>8.8</td>\n",
       "      <td>15.1</td>\n",
       "      <td>723</td>\n",
       "      <td>50.9</td>\n",
       "      <td>35.3</td>\n",
       "      <td>13.8</td>\n",
       "      <td>0.0</td>\n",
       "      <td>2.0</td>\n",
       "    </tr>\n",
       "    <tr>\n",
       "      <th>3</th>\n",
       "      <td>1007</td>\n",
       "      <td>Alabama</td>\n",
       "      <td>Bibb</td>\n",
       "      <td>22604</td>\n",
       "      <td>12073</td>\n",
       "      <td>10531</td>\n",
       "      <td>2.2</td>\n",
       "      <td>74.5</td>\n",
       "      <td>21.4</td>\n",
       "      <td>0.4</td>\n",
       "      <td>...</td>\n",
       "      <td>0.6</td>\n",
       "      <td>1.5</td>\n",
       "      <td>0.7</td>\n",
       "      <td>28.8</td>\n",
       "      <td>8294</td>\n",
       "      <td>76.8</td>\n",
       "      <td>16.1</td>\n",
       "      <td>6.7</td>\n",
       "      <td>0.4</td>\n",
       "      <td>8.3</td>\n",
       "    </tr>\n",
       "    <tr>\n",
       "      <th>3189</th>\n",
       "      <td>72093</td>\n",
       "      <td>Puerto Rico</td>\n",
       "      <td>Maricao</td>\n",
       "      <td>6315</td>\n",
       "      <td>3144</td>\n",
       "      <td>3171</td>\n",
       "      <td>99.9</td>\n",
       "      <td>0.0</td>\n",
       "      <td>0.1</td>\n",
       "      <td>0.0</td>\n",
       "      <td>...</td>\n",
       "      <td>18.6</td>\n",
       "      <td>1.3</td>\n",
       "      <td>2.6</td>\n",
       "      <td>22.1</td>\n",
       "      <td>1500</td>\n",
       "      <td>62.5</td>\n",
       "      <td>29.1</td>\n",
       "      <td>8.3</td>\n",
       "      <td>0.0</td>\n",
       "      <td>10.7</td>\n",
       "    </tr>\n",
       "    <tr>\n",
       "      <th>2579</th>\n",
       "      <td>48113</td>\n",
       "      <td>Texas</td>\n",
       "      <td>Dallas</td>\n",
       "      <td>2485003</td>\n",
       "      <td>1225722</td>\n",
       "      <td>1259281</td>\n",
       "      <td>39.0</td>\n",
       "      <td>31.5</td>\n",
       "      <td>21.8</td>\n",
       "      <td>0.2</td>\n",
       "      <td>...</td>\n",
       "      <td>1.5</td>\n",
       "      <td>2.1</td>\n",
       "      <td>4.1</td>\n",
       "      <td>26.5</td>\n",
       "      <td>1191958</td>\n",
       "      <td>83.9</td>\n",
       "      <td>9.5</td>\n",
       "      <td>6.4</td>\n",
       "      <td>0.1</td>\n",
       "      <td>7.6</td>\n",
       "    </tr>\n",
       "    <tr>\n",
       "      <th>2048</th>\n",
       "      <td>39011</td>\n",
       "      <td>Ohio</td>\n",
       "      <td>Auglaize</td>\n",
       "      <td>45873</td>\n",
       "      <td>22745</td>\n",
       "      <td>23128</td>\n",
       "      <td>1.4</td>\n",
       "      <td>96.5</td>\n",
       "      <td>0.5</td>\n",
       "      <td>0.2</td>\n",
       "      <td>...</td>\n",
       "      <td>1.8</td>\n",
       "      <td>1.8</td>\n",
       "      <td>2.6</td>\n",
       "      <td>19.6</td>\n",
       "      <td>22719</td>\n",
       "      <td>84.3</td>\n",
       "      <td>10.6</td>\n",
       "      <td>4.9</td>\n",
       "      <td>0.1</td>\n",
       "      <td>5.0</td>\n",
       "    </tr>\n",
       "    <tr>\n",
       "      <th>1321</th>\n",
       "      <td>27015</td>\n",
       "      <td>Minnesota</td>\n",
       "      <td>Brown</td>\n",
       "      <td>25391</td>\n",
       "      <td>12620</td>\n",
       "      <td>12771</td>\n",
       "      <td>3.7</td>\n",
       "      <td>94.5</td>\n",
       "      <td>0.4</td>\n",
       "      <td>0.1</td>\n",
       "      <td>...</td>\n",
       "      <td>5.2</td>\n",
       "      <td>1.3</td>\n",
       "      <td>7.3</td>\n",
       "      <td>14.3</td>\n",
       "      <td>13583</td>\n",
       "      <td>81.1</td>\n",
       "      <td>9.9</td>\n",
       "      <td>8.8</td>\n",
       "      <td>0.2</td>\n",
       "      <td>3.2</td>\n",
       "    </tr>\n",
       "  </tbody>\n",
       "</table>\n",
       "<p>10 rows × 37 columns</p>\n",
       "</div>"
      ],
      "text/plain": [
       "      CensusId        State    County  TotalPop      Men    Women  Hispanic  \\\n",
       "300       8111     Colorado  San Juan       606      327      279      19.3   \n",
       "902      20029       Kansas     Cloud      9339     4650     4689       3.3   \n",
       "502      13235      Georgia   Pulaski     11590     4866     6724       4.7   \n",
       "21        1043      Alabama   Cullman     80965    40081    40884       4.3   \n",
       "275       8061     Colorado     Kiowa      1463      666      797       7.2   \n",
       "3         1007      Alabama      Bibb     22604    12073    10531       2.2   \n",
       "3189     72093  Puerto Rico   Maricao      6315     3144     3171      99.9   \n",
       "2579     48113        Texas    Dallas   2485003  1225722  1259281      39.0   \n",
       "2048     39011         Ohio  Auglaize     45873    22745    23128       1.4   \n",
       "1321     27015    Minnesota     Brown     25391    12620    12771       3.7   \n",
       "\n",
       "      White  Black  Native  ...  Walk  OtherTransp  WorkAtHome  MeanCommute  \\\n",
       "300    76.7    0.0     1.5  ...  29.4         19.9         4.7         11.8   \n",
       "902    93.6    0.4     0.2  ...   3.8          2.5         5.4         15.4   \n",
       "502    59.1   33.6     0.0  ...   5.1          0.2         1.9         21.3   \n",
       "21     92.2    1.1     0.4  ...   1.5          1.0         2.6         26.4   \n",
       "275    87.0    0.8     0.3  ...   7.0          2.4         8.8         15.1   \n",
       "3      74.5   21.4     0.4  ...   0.6          1.5         0.7         28.8   \n",
       "3189    0.0    0.1     0.0  ...  18.6          1.3         2.6         22.1   \n",
       "2579   31.5   21.8     0.2  ...   1.5          2.1         4.1         26.5   \n",
       "2048   96.5    0.5     0.2  ...   1.8          1.8         2.6         19.6   \n",
       "1321   94.5    0.4     0.1  ...   5.2          1.3         7.3         14.3   \n",
       "\n",
       "      Employed  PrivateWork  PublicWork  SelfEmployed  FamilyWork  \\\n",
       "300        337         80.1        11.3           8.0         0.6   \n",
       "902       4514         75.5        15.3           9.0         0.3   \n",
       "502       3949         69.3        24.1           6.5         0.1   \n",
       "21       32282         81.6        12.2           5.8         0.4   \n",
       "275        723         50.9        35.3          13.8         0.0   \n",
       "3         8294         76.8        16.1           6.7         0.4   \n",
       "3189      1500         62.5        29.1           8.3         0.0   \n",
       "2579   1191958         83.9         9.5           6.4         0.1   \n",
       "2048     22719         84.3        10.6           4.9         0.1   \n",
       "1321     13583         81.1         9.9           8.8         0.2   \n",
       "\n",
       "      Unemployment  \n",
       "300           13.8  \n",
       "902            6.8  \n",
       "502            7.4  \n",
       "21             7.3  \n",
       "275            2.0  \n",
       "3              8.3  \n",
       "3189          10.7  \n",
       "2579           7.6  \n",
       "2048           5.0  \n",
       "1321           3.2  \n",
       "\n",
       "[10 rows x 37 columns]"
      ]
     },
     "execution_count": 5,
     "metadata": {},
     "output_type": "execute_result"
    }
   ],
   "source": [
    "df.sample(10)"
   ]
  },
  {
   "cell_type": "markdown",
   "metadata": {},
   "source": [
    "- We will focus first on income per capita across counties."
   ]
  },
  {
   "cell_type": "code",
   "execution_count": 9,
   "metadata": {},
   "outputs": [
    {
     "data": {
      "image/png": "[encoded data removed]",
      "text/plain": [
       "<Figure size 640x480 with 1 Axes>"
      ]
     },
     "metadata": {},
     "output_type": "display_data"
    }
   ],
   "source": [
    "df['IncomePerCap'].hist(bins = 50, color=\"blue\")\n",
    "plt.show()"
   ]
  },
  {
   "cell_type": "markdown",
   "metadata": {},
   "source": [
    "### 1. Calculating descriptive statisctics\n",
    "\n",
    "- Let's calculate basic descriptive statistics of the income per capita."
   ]
  },
  {
   "cell_type": "code",
   "execution_count": 10,
   "metadata": {},
   "outputs": [
    {
     "data": {
      "application/vnd.microsoft.datawrangler.viewer.v0+json": {
       "columns": [
        {
         "name": "index",
         "rawType": "object",
         "type": "string"
        },
        {
         "name": "IncomePerCap",
         "rawType": "float64",
         "type": "float"
        }
       ],
       "ref": "a4f0ca16-7c07-446a-a8dc-970b8caf8d9f",
       "rows": [
        [
         "count",
         "3220.0"
        ],
        [
         "mean",
         "23981.771739130436"
        ],
        [
         "std",
         "6204.339960129512"
        ],
        [
         "min",
         "5878.0"
        ],
        [
         "25%",
         "20238.5"
        ],
        [
         "50%",
         "23460.0"
        ],
        [
         "75%",
         "27053.25"
        ],
        [
         "max",
         "65600.0"
        ]
       ],
       "shape": {
        "columns": 1,
        "rows": 8
       }
      },
      "text/plain": [
       "count     3220.000000\n",
       "mean     23981.771739\n",
       "std       6204.339960\n",
       "min       5878.000000\n",
       "25%      20238.500000\n",
       "50%      23460.000000\n",
       "75%      27053.250000\n",
       "max      65600.000000\n",
       "Name: IncomePerCap, dtype: float64"
      ]
     },
     "execution_count": 10,
     "metadata": {},
     "output_type": "execute_result"
    }
   ],
   "source": [
    "df['IncomePerCap'].describe()"
   ]
  },
  {
   "cell_type": "markdown",
   "metadata": {},
   "source": [
    "- What distribution does the data come from? Here is how we can test the goodness of the fit."
   ]
  },
  {
   "cell_type": "code",
   "execution_count": 11,
   "metadata": {},
   "outputs": [
    {
     "data": {
      "text/plain": [
       "(np.float64(0.0637621121184162), np.float64(0.0009999999999998899))"
      ]
     },
     "execution_count": 11,
     "metadata": {},
     "output_type": "execute_result"
    }
   ],
   "source": [
    "# does the data come from a normal distrbution?\n",
    "diagnostic.kstest_normal(df['IncomePerCap'].values, dist = 'norm')"
   ]
  },
  {
   "cell_type": "markdown",
   "metadata": {},
   "source": [
    "- p_value < 0.05 -> we can reject the null hypothesis that the data comes from a normal distribution!"
   ]
  },
  {
   "cell_type": "code",
   "execution_count": 12,
   "metadata": {},
   "outputs": [
    {
     "data": {
      "text/plain": [
       "(np.float64(0.433243770582646), np.float64(0.0009999999999998899))"
      ]
     },
     "execution_count": 12,
     "metadata": {},
     "output_type": "execute_result"
    }
   ],
   "source": [
    "#how about exponential?\n",
    "diagnostic.kstest_normal(df['IncomePerCap'].values, dist = 'exp')"
   ]
  },
  {
   "cell_type": "markdown",
   "metadata": {},
   "source": [
    "- p < 0.05 -> not exponential either!"
   ]
  },
  {
   "cell_type": "markdown",
   "metadata": {},
   "source": [
    "### 2. How to sample the data"
   ]
  },
  {
   "cell_type": "markdown",
   "metadata": {},
   "source": [
    "- Often we need to find random samples from the dataset. We can do so conveniently with pandas wrappers."
   ]
  },
  {
   "cell_type": "code",
   "execution_count": 13,
   "metadata": {},
   "outputs": [],
   "source": [
    "#make 10 samples with replacement\n",
    "sample1_counties = df.sample(n = 10, replace = True)\n",
    "\n",
    "#make 10 samples without replacement\n",
    "sample1_counties = df.sample(n = 10, replace = False)\n",
    "\n",
    "#sometimes we want to sample in an ublanaced way, so that we upsample datapoints of certain characteristic,\n",
    "#and downsample the others. this can be acieved with weights parameter\n",
    "#here we sample by upsampling counties with large population\n",
    "sample2_counties = df.sample(n = 10, replace = False, weights = df['TotalPop'])"
   ]
  },
  {
   "cell_type": "code",
   "execution_count": 14,
   "metadata": {},
   "outputs": [
    {
     "name": "stdout",
     "output_type": "stream",
     "text": [
      "48357.6\n",
      "1159033.8\n"
     ]
    }
   ],
   "source": [
    "#on avergage, the samples in the sample produce with reveighting now have higher population, as we wanted!\n",
    "print(sample1_counties['TotalPop'].mean())\n",
    "print(sample2_counties['TotalPop'].mean())"
   ]
  },
  {
   "cell_type": "markdown",
   "metadata": {},
   "source": [
    "### 3. Examining relationship between two variables"
   ]
  },
  {
   "cell_type": "markdown",
   "metadata": {},
   "source": [
    "- Is income per capita of a county correlated with the unemployment?"
   ]
  },
  {
   "cell_type": "code",
   "execution_count": 15,
   "metadata": {},
   "outputs": [
    {
     "data": {
      "text/plain": [
       "PearsonRResult(statistic=np.float64(0.26461363203944865), pvalue=np.float64(9.942215354243078e-53))"
      ]
     },
     "execution_count": 15,
     "metadata": {},
     "output_type": "execute_result"
    }
   ],
   "source": [
    "stats.pearsonr(df['IncomePerCap'],df['Employed'])"
   ]
  },
  {
   "cell_type": "markdown",
   "metadata": {},
   "source": [
    "- There is a small (0.26), but significant (p < 0.05) positive correlation."
   ]
  },
  {
   "cell_type": "code",
   "execution_count": 16,
   "metadata": {},
   "outputs": [
    {
     "data": {
      "text/plain": [
       "SignificanceResult(statistic=np.float64(0.30770631560595474), pvalue=np.float64(1.415296431173735e-71))"
      ]
     },
     "execution_count": 16,
     "metadata": {},
     "output_type": "execute_result"
    }
   ],
   "source": [
    "stats.spearmanr(df['IncomePerCap'],df['Employed'])"
   ]
  },
  {
   "cell_type": "markdown",
   "metadata": {},
   "source": [
    "- Spearman rank coorrelation is also significant."
   ]
  },
  {
   "cell_type": "markdown",
   "metadata": {},
   "source": [
    "### 4. Hypothesis testing"
   ]
  },
  {
   "cell_type": "markdown",
   "metadata": {},
   "source": [
    "- Is income per capita higher in New York counties compared to California counties?"
   ]
  },
  {
   "cell_type": "code",
   "execution_count": 17,
   "metadata": {},
   "outputs": [
    {
     "data": {
      "text/plain": [
       "np.float64(28189.75806451613)"
      ]
     },
     "execution_count": 17,
     "metadata": {},
     "output_type": "execute_result"
    }
   ],
   "source": [
    "df.loc[df['State'] == 'New York']['IncomePerCap'].mean()"
   ]
  },
  {
   "cell_type": "code",
   "execution_count": 18,
   "metadata": {},
   "outputs": [
    {
     "data": {
      "text/plain": [
       "np.float64(27902.603448275862)"
      ]
     },
     "execution_count": 18,
     "metadata": {},
     "output_type": "execute_result"
    }
   ],
   "source": [
    "df.loc[df['State'] == 'California']['IncomePerCap'].mean()"
   ]
  },
  {
   "cell_type": "markdown",
   "metadata": {},
   "source": [
    "- We see that there is a ~300$ gap. Quite a lot!\n",
    "- But is it significantly higher? Let's use a t-test. This is a two-sided test for the null hypothesis that the two independent samples have identical average (expected) values. "
   ]
  },
  {
   "cell_type": "code",
   "execution_count": 19,
   "metadata": {},
   "outputs": [
    {
     "data": {
      "text/plain": [
       "TtestResult(statistic=np.float64(0.19788117232375713), pvalue=np.float64(0.8434785239169611), df=np.float64(118.0))"
      ]
     },
     "execution_count": 19,
     "metadata": {},
     "output_type": "execute_result"
    }
   ],
   "source": [
    "stats.ttest_ind(df.loc[df['State'] == 'New York']['IncomePerCap'], df.loc[df['State'] == 'California']['IncomePerCap'])"
   ]
  },
  {
   "cell_type": "markdown",
   "metadata": {},
   "source": [
    "- p is not smaller than 0.05 -> we cannot reject the null hypothesis that the income is the same -> there is no significant difference"
   ]
  },
  {
   "cell_type": "markdown",
   "metadata": {},
   "source": [
    "### 5. How to measure uncertainty\n",
    "- Now we see the importance of mesuring uncertainty and indicating it on data visualizations.\n",
    "- Visual inspection of 95% confidence intervals lets us see that the difference is not significant (the errorbars are overlapping)."
   ]
  },
  {
   "cell_type": "code",
   "execution_count": 27,
   "metadata": {},
   "outputs": [
    {
     "data": {
      "image/png": "[encoded data removed]",
      "text/plain": [
       "<Figure size 640x480 with 1 Axes>"
      ]
     },
     "metadata": {},
     "output_type": "display_data"
    }
   ],
   "source": [
    "sns.barplot(x=\"State\", y=\"IncomePerCap\", data=df.loc[df['State'].isin(['New York','California'])], hue=\"State\")\n",
    "plt.ylim([25000,32000])\n",
    "plt.show()"
   ]
  },
  {
   "cell_type": "markdown",
   "metadata": {},
   "source": [
    "# Exercise 1: Boosting the economy by incentivizing self-employment\n",
    "\n",
    "Assume the biggest priority of the local government in 2018 is to increase per-capita income. To do so, the officials plan to adopt a strategy for incentivizing self-employment through a series of campaigns, educational programs, and dedicated funds.\n",
    "\n",
    "Since it is unethical and impossible in this setting to run a controlled experiment involving citizens (e.g., fire employees and force them to self-employ), the officials have asked you, the data scientist, to establish the effect of self-employment on the economy, relying on observational data.\n",
    "\n",
    "**A)** Using suitable methods, determine and quantify the dependency between the percentage of self-employed citizens and per capita income across all 3,212 US counties. Do citizens in counties that have a higher percentage of self-employed people earn more per capita?"
   ]
  },
  {
   "cell_type": "code",
   "execution_count": 28,
   "metadata": {},
   "outputs": [
    {
     "data": {
      "application/vnd.microsoft.datawrangler.viewer.v0+json": {
       "columns": [
        {
         "name": "index",
         "rawType": "int64",
         "type": "integer"
        },
        {
         "name": "CensusId",
         "rawType": "int64",
         "type": "integer"
        },
        {
         "name": "State",
         "rawType": "object",
         "type": "string"
        },
        {
         "name": "County",
         "rawType": "object",
         "type": "string"
        },
        {
         "name": "TotalPop",
         "rawType": "int64",
         "type": "integer"
        },
        {
         "name": "Men",
         "rawType": "int64",
         "type": "integer"
        },
        {
         "name": "Women",
         "rawType": "int64",
         "type": "integer"
        },
        {
         "name": "Hispanic",
         "rawType": "float64",
         "type": "float"
        },
        {
         "name": "White",
         "rawType": "float64",
         "type": "float"
        },
        {
         "name": "Black",
         "rawType": "float64",
         "type": "float"
        },
        {
         "name": "Native",
         "rawType": "float64",
         "type": "float"
        },
        {
         "name": "Asian",
         "rawType": "float64",
         "type": "float"
        },
        {
         "name": "Pacific",
         "rawType": "float64",
         "type": "float"
        },
        {
         "name": "Citizen",
         "rawType": "int64",
         "type": "integer"
        },
        {
         "name": "Income",
         "rawType": "float64",
         "type": "float"
        },
        {
         "name": "IncomeErr",
         "rawType": "float64",
         "type": "float"
        },
        {
         "name": "IncomePerCap",
         "rawType": "int64",
         "type": "integer"
        },
        {
         "name": "IncomePerCapErr",
         "rawType": "int64",
         "type": "integer"
        },
        {
         "name": "Poverty",
         "rawType": "float64",
         "type": "float"
        },
        {
         "name": "ChildPoverty",
         "rawType": "float64",
         "type": "float"
        },
        {
         "name": "Professional",
         "rawType": "float64",
         "type": "float"
        },
        {
         "name": "Service",
         "rawType": "float64",
         "type": "float"
        },
        {
         "name": "Office",
         "rawType": "float64",
         "type": "float"
        },
        {
         "name": "Construction",
         "rawType": "float64",
         "type": "float"
        },
        {
         "name": "Production",
         "rawType": "float64",
         "type": "float"
        },
        {
         "name": "Drive",
         "rawType": "float64",
         "type": "float"
        },
        {
         "name": "Carpool",
         "rawType": "float64",
         "type": "float"
        },
        {
         "name": "Transit",
         "rawType": "float64",
         "type": "float"
        },
        {
         "name": "Walk",
         "rawType": "float64",
         "type": "float"
        },
        {
         "name": "OtherTransp",
         "rawType": "float64",
         "type": "float"
        },
        {
         "name": "WorkAtHome",
         "rawType": "float64",
         "type": "float"
        },
        {
         "name": "MeanCommute",
         "rawType": "float64",
         "type": "float"
        },
        {
         "name": "Employed",
         "rawType": "int64",
         "type": "integer"
        },
        {
         "name": "PrivateWork",
         "rawType": "float64",
         "type": "float"
        },
        {
         "name": "PublicWork",
         "rawType": "float64",
         "type": "float"
        },
        {
         "name": "SelfEmployed",
         "rawType": "float64",
         "type": "float"
        },
        {
         "name": "FamilyWork",
         "rawType": "float64",
         "type": "float"
        },
        {
         "name": "Unemployment",
         "rawType": "float64",
         "type": "float"
        }
       ],
       "ref": "a9338829-04ef-4e83-8086-75772cc41187",
       "rows": [
        [
         "0",
         "1001",
         "Alabama",
         "Autauga",
         "55221",
         "26745",
         "28476",
         "2.6",
         "75.8",
         "18.5",
         "0.4",
         "1.0",
         "0.0",
         "40725",
         "51281.0",
         "2391.0",
         "24974",
         "1080",
         "12.9",
         "18.6",
         "33.2",
         "17.0",
         "24.2",
         "8.6",
         "17.1",
         "87.5",
         "8.8",
         "0.1",
         "0.5",
         "1.3",
         "1.8",
         "26.5",
         "23986",
         "73.6",
         "20.9",
         "5.5",
         "0.0",
         "7.6"
        ],
        [
         "1",
         "1003",
         "Alabama",
         "Baldwin",
         "195121",
         "95314",
         "99807",
         "4.5",
         "83.1",
         "9.5",
         "0.6",
         "0.7",
         "0.0",
         "147695",
         "50254.0",
         "1263.0",
         "27317",
         "711",
         "13.4",
         "19.2",
         "33.1",
         "17.7",
         "27.1",
         "10.8",
         "11.2",
         "84.7",
         "8.8",
         "0.1",
         "1.0",
         "1.4",
         "3.9",
         "26.4",
         "85953",
         "81.5",
         "12.3",
         "5.8",
         "0.4",
         "7.5"
        ],
        [
         "2",
         "1005",
         "Alabama",
         "Barbour",
         "26932",
         "14497",
         "12435",
         "4.6",
         "46.2",
         "46.7",
         "0.2",
         "0.4",
         "0.0",
         "20714",
         "32964.0",
         "2973.0",
         "16824",
         "798",
         "26.7",
         "45.3",
         "26.8",
         "16.1",
         "23.1",
         "10.8",
         "23.1",
         "83.8",
         "10.9",
         "0.4",
         "1.8",
         "1.5",
         "1.6",
         "24.1",
         "8597",
         "71.8",
         "20.8",
         "7.3",
         "0.1",
         "17.6"
        ],
        [
         "3",
         "1007",
         "Alabama",
         "Bibb",
         "22604",
         "12073",
         "10531",
         "2.2",
         "74.5",
         "21.4",
         "0.4",
         "0.1",
         "0.0",
         "17495",
         "38678.0",
         "3995.0",
         "18431",
         "1618",
         "16.8",
         "27.9",
         "21.5",
         "17.9",
         "17.8",
         "19.0",
         "23.7",
         "83.2",
         "13.5",
         "0.5",
         "0.6",
         "1.5",
         "0.7",
         "28.8",
         "8294",
         "76.8",
         "16.1",
         "6.7",
         "0.4",
         "8.3"
        ],
        [
         "4",
         "1009",
         "Alabama",
         "Blount",
         "57710",
         "28512",
         "29198",
         "8.6",
         "87.9",
         "1.5",
         "0.3",
         "0.1",
         "0.0",
         "42345",
         "45813.0",
         "3141.0",
         "20532",
         "708",
         "16.7",
         "27.2",
         "28.5",
         "14.1",
         "23.9",
         "13.5",
         "19.9",
         "84.9",
         "11.2",
         "0.4",
         "0.9",
         "0.4",
         "2.3",
         "34.9",
         "22189",
         "82.0",
         "13.5",
         "4.2",
         "0.4",
         "7.7"
        ]
       ],
       "shape": {
        "columns": 37,
        "rows": 5
       }
      },
      "text/html": [
       "<div>\n",
       "<style scoped>\n",
       "    .dataframe tbody tr th:only-of-type {\n",
       "        vertical-align: middle;\n",
       "    }\n",
       "\n",
       "    .dataframe tbody tr th {\n",
       "        vertical-align: top;\n",
       "    }\n",
       "\n",
       "    .dataframe thead th {\n",
       "        text-align: right;\n",
       "    }\n",
       "</style>\n",
       "<table border=\"1\" class=\"dataframe\">\n",
       "  <thead>\n",
       "    <tr style=\"text-align: right;\">\n",
       "      <th></th>\n",
       "      <th>CensusId</th>\n",
       "      <th>State</th>\n",
       "      <th>County</th>\n",
       "      <th>TotalPop</th>\n",
       "      <th>Men</th>\n",
       "      <th>Women</th>\n",
       "      <th>Hispanic</th>\n",
       "      <th>White</th>\n",
       "      <th>Black</th>\n",
       "      <th>Native</th>\n",
       "      <th>...</th>\n",
       "      <th>Walk</th>\n",
       "      <th>OtherTransp</th>\n",
       "      <th>WorkAtHome</th>\n",
       "      <th>MeanCommute</th>\n",
       "      <th>Employed</th>\n",
       "      <th>PrivateWork</th>\n",
       "      <th>PublicWork</th>\n",
       "      <th>SelfEmployed</th>\n",
       "      <th>FamilyWork</th>\n",
       "      <th>Unemployment</th>\n",
       "    </tr>\n",
       "  </thead>\n",
       "  <tbody>\n",
       "    <tr>\n",
       "      <th>0</th>\n",
       "      <td>1001</td>\n",
       "      <td>Alabama</td>\n",
       "      <td>Autauga</td>\n",
       "      <td>55221</td>\n",
       "      <td>26745</td>\n",
       "      <td>28476</td>\n",
       "      <td>2.6</td>\n",
       "      <td>75.8</td>\n",
       "      <td>18.5</td>\n",
       "      <td>0.4</td>\n",
       "      <td>...</td>\n",
       "      <td>0.5</td>\n",
       "      <td>1.3</td>\n",
       "      <td>1.8</td>\n",
       "      <td>26.5</td>\n",
       "      <td>23986</td>\n",
       "      <td>73.6</td>\n",
       "      <td>20.9</td>\n",
       "      <td>5.5</td>\n",
       "      <td>0.0</td>\n",
       "      <td>7.6</td>\n",
       "    </tr>\n",
       "    <tr>\n",
       "      <th>1</th>\n",
       "      <td>1003</td>\n",
       "      <td>Alabama</td>\n",
       "      <td>Baldwin</td>\n",
       "      <td>195121</td>\n",
       "      <td>95314</td>\n",
       "      <td>99807</td>\n",
       "      <td>4.5</td>\n",
       "      <td>83.1</td>\n",
       "      <td>9.5</td>\n",
       "      <td>0.6</td>\n",
       "      <td>...</td>\n",
       "      <td>1.0</td>\n",
       "      <td>1.4</td>\n",
       "      <td>3.9</td>\n",
       "      <td>26.4</td>\n",
       "      <td>85953</td>\n",
       "      <td>81.5</td>\n",
       "      <td>12.3</td>\n",
       "      <td>5.8</td>\n",
       "      <td>0.4</td>\n",
       "      <td>7.5</td>\n",
       "    </tr>\n",
       "    <tr>\n",
       "      <th>2</th>\n",
       "      <td>1005</td>\n",
       "      <td>Alabama</td>\n",
       "      <td>Barbour</td>\n",
       "      <td>26932</td>\n",
       "      <td>14497</td>\n",
       "      <td>12435</td>\n",
       "      <td>4.6</td>\n",
       "      <td>46.2</td>\n",
       "      <td>46.7</td>\n",
       "      <td>0.2</td>\n",
       "      <td>...</td>\n",
       "      <td>1.8</td>\n",
       "      <td>1.5</td>\n",
       "      <td>1.6</td>\n",
       "      <td>24.1</td>\n",
       "      <td>8597</td>\n",
       "      <td>71.8</td>\n",
       "      <td>20.8</td>\n",
       "      <td>7.3</td>\n",
       "      <td>0.1</td>\n",
       "      <td>17.6</td>\n",
       "    </tr>\n",
       "    <tr>\n",
       "      <th>3</th>\n",
       "      <td>1007</td>\n",
       "      <td>Alabama</td>\n",
       "      <td>Bibb</td>\n",
       "      <td>22604</td>\n",
       "      <td>12073</td>\n",
       "      <td>10531</td>\n",
       "      <td>2.2</td>\n",
       "      <td>74.5</td>\n",
       "      <td>21.4</td>\n",
       "      <td>0.4</td>\n",
       "      <td>...</td>\n",
       "      <td>0.6</td>\n",
       "      <td>1.5</td>\n",
       "      <td>0.7</td>\n",
       "      <td>28.8</td>\n",
       "      <td>8294</td>\n",
       "      <td>76.8</td>\n",
       "      <td>16.1</td>\n",
       "      <td>6.7</td>\n",
       "      <td>0.4</td>\n",
       "      <td>8.3</td>\n",
       "    </tr>\n",
       "    <tr>\n",
       "      <th>4</th>\n",
       "      <td>1009</td>\n",
       "      <td>Alabama</td>\n",
       "      <td>Blount</td>\n",
       "      <td>57710</td>\n",
       "      <td>28512</td>\n",
       "      <td>29198</td>\n",
       "      <td>8.6</td>\n",
       "      <td>87.9</td>\n",
       "      <td>1.5</td>\n",
       "      <td>0.3</td>\n",
       "      <td>...</td>\n",
       "      <td>0.9</td>\n",
       "      <td>0.4</td>\n",
       "      <td>2.3</td>\n",
       "      <td>34.9</td>\n",
       "      <td>22189</td>\n",
       "      <td>82.0</td>\n",
       "      <td>13.5</td>\n",
       "      <td>4.2</td>\n",
       "      <td>0.4</td>\n",
       "      <td>7.7</td>\n",
       "    </tr>\n",
       "  </tbody>\n",
       "</table>\n",
       "<p>5 rows × 37 columns</p>\n",
       "</div>"
      ],
      "text/plain": [
       "   CensusId    State   County  TotalPop    Men  Women  Hispanic  White  Black  \\\n",
       "0      1001  Alabama  Autauga     55221  26745  28476       2.6   75.8   18.5   \n",
       "1      1003  Alabama  Baldwin    195121  95314  99807       4.5   83.1    9.5   \n",
       "2      1005  Alabama  Barbour     26932  14497  12435       4.6   46.2   46.7   \n",
       "3      1007  Alabama     Bibb     22604  12073  10531       2.2   74.5   21.4   \n",
       "4      1009  Alabama   Blount     57710  28512  29198       8.6   87.9    1.5   \n",
       "\n",
       "   Native  ...  Walk  OtherTransp  WorkAtHome  MeanCommute  Employed  \\\n",
       "0     0.4  ...   0.5          1.3         1.8         26.5     23986   \n",
       "1     0.6  ...   1.0          1.4         3.9         26.4     85953   \n",
       "2     0.2  ...   1.8          1.5         1.6         24.1      8597   \n",
       "3     0.4  ...   0.6          1.5         0.7         28.8      8294   \n",
       "4     0.3  ...   0.9          0.4         2.3         34.9     22189   \n",
       "\n",
       "   PrivateWork  PublicWork  SelfEmployed  FamilyWork  Unemployment  \n",
       "0         73.6        20.9           5.5         0.0           7.6  \n",
       "1         81.5        12.3           5.8         0.4           7.5  \n",
       "2         71.8        20.8           7.3         0.1          17.6  \n",
       "3         76.8        16.1           6.7         0.4           8.3  \n",
       "4         82.0        13.5           4.2         0.4           7.7  \n",
       "\n",
       "[5 rows x 37 columns]"
      ]
     },
     "execution_count": 28,
     "metadata": {},
     "output_type": "execute_result"
    }
   ],
   "source": [
    "df.head()"
   ]
  },
  {
   "cell_type": "code",
   "execution_count": 33,
   "metadata": {},
   "outputs": [
    {
     "data": {
      "text/plain": [
       "PearsonRResult(statistic=np.float64(0.08727386609551786), pvalue=np.float64(7.052861196524449e-07))"
      ]
     },
     "execution_count": 33,
     "metadata": {},
     "output_type": "execute_result"
    }
   ],
   "source": [
    "stats.pearsonr(x=df[\"IncomePerCap\"], y=df[\"SelfEmployed\"])"
   ]
  },
  {
   "cell_type": "markdown",
   "metadata": {},
   "source": [
    "The Pearson correlation coefficient is very low ($r \\approx 0.087$), so the linear relationship between the variables is minimal.\n",
    "The p-value is very small, meaning that we can reject the null hypothesis $H_0: r = 0$.\n",
    "However, despite being statistically significant, the correlation is practically negligible."
   ]
  },
  {
   "cell_type": "code",
   "execution_count": 31,
   "metadata": {},
   "outputs": [
    {
     "data": {
      "text/plain": [
       "SignificanceResult(statistic=np.float64(0.056413673053189874), pvalue=np.float64(0.0013623847564714511))"
      ]
     },
     "execution_count": 31,
     "metadata": {},
     "output_type": "execute_result"
    }
   ],
   "source": [
    "stats.spearmanr(df['IncomePerCap'],df['SelfEmployed'])"
   ]
  },
  {
   "cell_type": "markdown",
   "metadata": {},
   "source": [
    "Same for Spearman test"
   ]
  },
  {
   "cell_type": "markdown",
   "metadata": {},
   "source": [
    "**B)** The pilot program will involve all counties within a limited set of three US states. Set A includes Wisconsin, Tennessee, and  Minnesota. Quantify the dependency of per-capita income on self-employment rates across all the counties in set A."
   ]
  },
  {
   "cell_type": "code",
   "execution_count": 38,
   "metadata": {},
   "outputs": [],
   "source": [
    "SetA=df.loc[df[\"State\"].isin([\"Wisconsin\", \"Tennessee\", \"Minnesota\"])]"
   ]
  },
  {
   "cell_type": "code",
   "execution_count": 40,
   "metadata": {},
   "outputs": [
    {
     "name": "stdout",
     "output_type": "stream",
     "text": [
      "PearsonRResult(statistic=np.float64(-0.202293507365215), pvalue=np.float64(0.0011881639322138583))\n",
      "SignificanceResult(statistic=np.float64(-0.23669790001033852), pvalue=np.float64(0.00014010090313655097))\n"
     ]
    }
   ],
   "source": [
    "print(stats.pearsonr(x=SetA[\"IncomePerCap\"], y=SetA[\"SelfEmployed\"]))\n",
    "print(stats.spearmanr(SetA['IncomePerCap'],SetA['SelfEmployed']))"
   ]
  },
  {
   "cell_type": "markdown",
   "metadata": {},
   "source": [
    "Here the result is that the statistic is not negligible anymore and the coefficents are negative indicating a negative correlation between Self employment and Income per capita. The p-value in both cases is small enough to let us refuse the null hypothesis"
   ]
  },
  {
   "cell_type": "markdown",
   "metadata": {},
   "source": [
    "**C)** In which state within set A is the observed effect of self-employment on per-capita income the strongest?"
   ]
  },
  {
   "cell_type": "code",
   "execution_count": null,
   "metadata": {},
   "outputs": [
    {
     "name": "stdout",
     "output_type": "stream",
     "text": [
      "Values for: Wisconsin\n",
      "\n",
      "PearsonRResult(statistic=-0.32905300016378525, pvalue=0.004768134887745218)\n",
      "SignificanceResult(statistic=-0.4635129104404941, pvalue=4.124859155565995e-05)\n",
      "\n",
      "Values for: Tennessee\n",
      "\n",
      "PearsonRResult(statistic=-0.23836048684913147, pvalue=0.020011631955528124)\n",
      "SignificanceResult(statistic=-0.316991392780988, pvalue=0.0017487582457931406)\n",
      "\n",
      "Values for: Minnesota\n",
      "\n",
      "PearsonRResult(statistic=-0.25385519216540625, pvalue=0.017665199300911913)\n",
      "SignificanceResult(statistic=-0.21107460598245847, pvalue=0.04970805582462063)\n",
      "\n"
     ]
    }
   ],
   "source": [
    "states=[\"Wisconsin\", \"Tennessee\", \"Minnesota\"]\n",
    "\n",
    "for state in states:\n",
    "    curr_state=SetA.loc[SetA[\"State\"]==state]\n",
    "    print(f\"Values for: {state}\\n\")\n",
    "    Pears_stat,Pears_pval=stats.pearsonr(x=curr_state[\"IncomePerCap\"], y=curr_state[\"SelfEmployed\"])\n",
    "    Spear_stat,Spear_pval=stats.spearmanr(curr_state[\"IncomePerCap\"], curr_state[\"SelfEmployed\"])\n",
    "    print(f\"PearsonRResult(statistic={Pears_stat}, pvalue={Pears_pval})\")\n",
    "    print(f\"SignificanceResult(statistic={Spear_stat}, pvalue={Spear_pval})\\n\")\n",
    "\n"
   ]
  },
  {
   "cell_type": "markdown",
   "metadata": {},
   "source": [
    "The effect is the strongest in Wisconsin"
   ]
  },
  {
   "cell_type": "markdown",
   "metadata": {},
   "source": [
    "**D)** Set B includes New Jersey, Kansas, and Rhode Island. Repeat the analysis from steps B and C above, but now for set B. In which of the two sets A and B (if any) would you recommend incentivizing self-employment? Explain your reasoning. Hint: It is useful to add a notion of confidence to your results and explore the data visually."
   ]
  },
  {
   "cell_type": "code",
   "execution_count": null,
   "metadata": {},
   "outputs": [
    {
     "name": "stdout",
     "output_type": "stream",
     "text": [
      "PearsonRResult(statistic=-0.2322214134608569, pvalue=0.007607493042857338)\n",
      "SignificanceResult(statistic=-0.16010624610827853, pvalue=0.06773890774775307)\n",
      "\n",
      "Values for: New Jersey\n",
      "\n",
      "PearsonRResult(statistic=0.4804478471336282, pvalue=0.027488944757806208)\n",
      "SignificanceResult(statistic=0.4040346017736601, pvalue=0.06929493068926951)\n",
      "\n",
      "Values for: Kansas\n",
      "\n",
      "PearsonRResult(statistic=0.2581029971443692, pvalue=0.007853351846832467)\n",
      "SignificanceResult(statistic=0.28392575483491556, pvalue=0.0033332825399419903)\n",
      "\n",
      "Values for: Rhode Island\n",
      "\n",
      "PearsonRResult(statistic=0.9021788382149805, pvalue=0.03618310201575915)\n",
      "SignificanceResult(statistic=0.9999999999999999, pvalue=1.4042654220543672e-24)\n",
      "\n"
     ]
    }
   ],
   "source": [
    "states=[\"New Jersey\", \"Kansas\", \"Rhode Island\"]\n",
    "SetB=df.loc[df[\"State\"].isin(states)]\n",
    "\n",
    "Pears_stat,Pears_pval=stats.pearsonr(x=SetB[\"IncomePerCap\"], y=SetB[\"SelfEmployed\"])\n",
    "Spear_stat,Spear_pval=stats.spearmanr(SetB[\"IncomePerCap\"], SetB[\"SelfEmployed\"])\n",
    "\n",
    "print(f\"PearsonRResult(statistic={Pears_stat}, pvalue={Pears_pval})\")\n",
    "print(f\"SignificanceResult(statistic={Spear_stat}, pvalue={Spear_pval})\\n\")\n",
    "\n",
    "for state in states:\n",
    "    curr_state=SetB.loc[SetB[\"State\"]==state]\n",
    "    print(f\"Values for: {state}\\n\")\n",
    "    Pears_stat,Pears_pval=stats.pearsonr(x=curr_state[\"IncomePerCap\"], y=curr_state[\"SelfEmployed\"])\n",
    "    Spear_stat,Spear_pval=stats.spearmanr(curr_state[\"IncomePerCap\"], curr_state[\"SelfEmployed\"])\n",
    "    print(f\"PearsonRResult(statistic={Pears_stat}, pvalue={Pears_pval})\")\n",
    "    print(f\"SignificanceResult(statistic={Spear_stat}, pvalue={Spear_pval})\\n\")"
   ]
  },
  {
   "cell_type": "markdown",
   "metadata": {},
   "source": [
    "The correlation between IncomePerCap and SelfEmployed varies across the three states considered. \n",
    "Aggregating all states, the linear correlation is weakly negative but statistically significant (Pearson $r \\approx -0.232$, $p \\approx 0.0076$), while the monotonic correlation is not significant (Spearman $\\rho \\approx -0.160$, $p \\approx 0.068$). \n",
    "Analyzing states individually, New Jersey shows a moderate positive linear correlation (Pearson $r \\approx 0.480$, $p \\approx 0.027$) with a non-significant monotonic correlation (Spearman $\\rho \\approx 0.404$, $p \\approx 0.069$), Kansas exhibits a weak but significant correlation (Pearson $r \\approx 0.258$, $p \\approx 0.008$; Spearman $\\rho \\approx 0.284$, $p \\approx 0.0033$), and Rhode Island demonstrates a very strong and highly significant correlation both linearly (Pearson $r \\approx 0.902$, $p \\approx 0.036$) and monotonically (Spearman $\\rho \\approx 1.0$, $p \\approx 1.4\\cdot10^{-24}$). \n",
    "This highlights that aggregating heterogeneous populations can obscure strong relationships present in individual subgroups."
   ]
  },
  {
   "cell_type": "code",
   "execution_count": 71,
   "metadata": {},
   "outputs": [
    {
     "data": {
      "image/png": "[encoded data removed]",
      "text/plain": [
       "<Figure size 640x480 with 1 Axes>"
      ]
     },
     "metadata": {},
     "output_type": "display_data"
    },
    {
     "data": {
      "image/png": "[encoded data removed]",
      "text/plain": [
       "<Figure size 640x480 with 1 Axes>"
      ]
     },
     "metadata": {},
     "output_type": "display_data"
    }
   ],
   "source": [
    "sns.scatterplot(y=\"IncomePerCap\", x=\"SelfEmployed\", data=SetA)\n",
    "plt.title(\"Self-Employment vs IncomePerCap (Set A)\")\n",
    "plt.grid()\n",
    "plt.show()\n",
    "\n",
    "sns.scatterplot(y=\"IncomePerCap\", x=\"SelfEmployed\", data=SetB)\n",
    "plt.title(\"Self-Employment vs IncomePerCap (Set B)\")\n",
    "plt.grid()\n",
    "plt.show()"
   ]
  },
  {
   "cell_type": "code",
   "execution_count": 70,
   "metadata": {},
   "outputs": [
    {
     "data": {
      "image/png": "[encoded data removed]",
      "text/plain": [
       "<Figure size 640x480 with 1 Axes>"
      ]
     },
     "metadata": {},
     "output_type": "display_data"
    },
    {
     "data": {
      "image/png": "[encoded data removed]",
      "text/plain": [
       "<Figure size 640x480 with 1 Axes>"
      ]
     },
     "metadata": {},
     "output_type": "display_data"
    },
    {
     "data": {
      "image/png": "[encoded data removed]",
      "text/plain": [
       "<Figure size 640x480 with 1 Axes>"
      ]
     },
     "metadata": {},
     "output_type": "display_data"
    }
   ],
   "source": [
    "sns.scatterplot(y=\"IncomePerCap\", x=\"SelfEmployed\", data=SetB.loc[SetB[\"State\"]==\"Kansas\"])\n",
    "plt.title(\"Self-Employment vs IncomePerCap (Kansas)\")\n",
    "plt.grid()\n",
    "plt.show()\n",
    "\n",
    "sns.scatterplot(y=\"IncomePerCap\", x=\"SelfEmployed\", data=SetB.loc[SetB[\"State\"]==\"New Jersey\"])\n",
    "plt.title(\"Self-Employment vs IncomePerCap (New Jersey)\")\n",
    "plt.grid()\n",
    "plt.show()\n",
    "\n",
    "sns.scatterplot(y=\"IncomePerCap\", x=\"SelfEmployed\", data=SetB.loc[SetB[\"State\"]==\"Rhode Island\"])\n",
    "plt.title(\"Self-Employment vs IncomePerCap (Rhode Island)\")\n",
    "plt.grid()\n",
    "plt.show()"
   ]
  },
  {
   "cell_type": "markdown",
   "metadata": {},
   "source": [
    "I would suggest the incentiving campain in none of the state of set A. Regarding the set B i'd definetely incentivate it in Kansas and New Jersey. Rhode island seems to show a positive correlation but we have a low number of communes"
   ]
  },
  {
   "cell_type": "markdown",
   "metadata": {},
   "source": [
    "# Exercise 2. Data visualization and read the stats comprehension and interpretation questions.\n",
    "\n",
    "- As part of the quizes, two homeworks and the final exam, you will be at times asked to interpret your result based on the understanding of underlying concepts. The questions below can help you practice and get a sense of how well you understand the concepts covered in the class so far. Can you answer these questions confidently?"
   ]
  },
  {
   "cell_type": "markdown",
   "metadata": {},
   "source": [
    "### Question 1. The yearly salaries (in thousands of CHF) of 7000 people are summarized in the following box plot. If the 20th percentile of the salaries is 110,000, how many people earn between 110,000 and 114,000?\n",
    "\n",
    "- a) 2100\n",
    "- b) 700\n",
    "- c) 350\n",
    "- d) 70"
   ]
  },
  {
   "cell_type": "markdown",
   "metadata": {},
   "source": [
    "<img src=\"boxplot.png\" style=\"width: 400px;\" align=\"left\"/>"
   ]
  },
  {
   "cell_type": "markdown",
   "metadata": {},
   "source": [
    "c (114000 CHF is the 25th percentile so if 110000 CHF is the 20th percentile it means that between 110000 and 114000 there is the 5% of 7000 people whiche means 350 ppl)"
   ]
  },
  {
   "cell_type": "markdown",
   "metadata": {},
   "source": [
    "### Question 2. What visualizations are suitable for getting insights about the distribution of a single continuous variable?\n",
    "\n",
    "- a) Barplot and histogram\n",
    "- b) Boxplot and histogram\n",
    "- c) Scatterplot and boxplot\n",
    "- d) Barplot, boxplot, and histogram"
   ]
  },
  {
   "cell_type": "markdown",
   "metadata": {},
   "source": [
    "b (Barplot is useful when we have a categorical variable and a continous one. Scatterplot when we have two continous. Boxplot is useful or percentiles and outliers of a single continous variable. Histogram is useful to approximate the density of a coninous variable)"
   ]
  },
  {
   "cell_type": "markdown",
   "metadata": {},
   "source": [
    "### Question 3. In a new groundbreaking study, 28 out of 100 patients reported improvements after taking a new medicine. It is known that, when given a placebo, 20% of the patients report feeling better. What is the p-value assuming the null hypothesis that the probability of successful treatment in this groundbreaking study is the same as the probability of reporting feeling better under placebo, according to a one-sided binomial test? Hint: you may use the statsmodels.stats.proportion.binom_test function.\n",
    "\n",
    "- a) 0.00034\n",
    "- b) 0.0034\n",
    "- c) 0.034\n",
    "- d) 0.34"
   ]
  },
  {
   "cell_type": "code",
   "execution_count": 82,
   "metadata": {},
   "outputs": [
    {
     "data": {
      "text/plain": [
       "BinomTestResult(k=28, n=100, alternative='greater', statistic=0.28, pvalue=0.03415162963907483)"
      ]
     },
     "execution_count": 82,
     "metadata": {},
     "output_type": "execute_result"
    }
   ],
   "source": [
    "stats.binomtest(28,100,0.2,alternative='greater')"
   ]
  },
  {
   "cell_type": "markdown",
   "metadata": {},
   "source": [
    "c"
   ]
  },
  {
   "cell_type": "markdown",
   "metadata": {},
   "source": [
    "### Question 4. The 95% confidence interval of the average height of 1000 people using bootstrap resampling with 10000 bootstrap samples is calculated by:\n",
    "\n",
    "- a) Sampling 1000 height values with replacement and computing the mean. This is repeated 10000 times to create a sorted list of the 10000 means. The CI is defined by the 500th and the 9500th value in sorted order.\n",
    "- b) Sampling 10000 height values without replacement and computing the mean. This is repeated 1000 times to create a sorted list of the 1000 means. The CI is defined by the 25th and the 975th value in sorted order.\n",
    "- c) Sampling 1000 height values with replacement and computing the mean. This is repeated 10000 times to create a sorted list of the 10000 means. The CI is defined by the 250th and the 9750th value in sorted order.\n",
    "- d) Sampling 1000 height values without replacement and computing the mean. This is repeated 10000 times to create a sorted list of the 10000 means. The CI is defined by the 500th and the 9500th value in sorted order.\n",
    "\n",
    "### Implement your bootstrapping function that you will use in the rest of the course. It should take an array and the number of iterations as inputs, and output 95% confidence intervals of the mean."
   ]
  },
  {
   "cell_type": "markdown",
   "metadata": {},
   "source": [
    "c"
   ]
  },
  {
   "cell_type": "code",
   "execution_count": 88,
   "metadata": {},
   "outputs": [],
   "source": [
    "def bootstrap(data,iterations=10000, confidence_level=0.95):\n",
    "\n",
    "    means=[]\n",
    "    n=len(data)\n",
    "\n",
    "    for _ in range(iterations):\n",
    "        sampled = np.random.choice(data, size=n, replace=True)\n",
    "        means.append(np.mean(sampled))\n",
    "\n",
    "    left_edge=np.percentile(means, 100*(1-confidence_level)/2)\n",
    "    right_edge=np.percentile(means, 100*(1+confidence_level)/2)\n",
    "\n",
    "    return left_edge, right_edge"
   ]
  },
  {
   "cell_type": "markdown",
   "metadata": {},
   "source": [
    "### Question 5. A study conducted at EPFL revealed a negative Spearman’s correlation between GPA and entry-level job salary. Which of the following statements is true?\n",
    "\n",
    "- a) There could be a positive Spearman’s correlation between GPA and entry-level job salary in every single department of EPFL.\n",
    "- b) Spearman correlation between GPA and entry-level job salary in every single department has to be positive.\n",
    "- c) Across all levels, as opposed to entry-level only, higher GPA scores are associated with higher job salaries.\n",
    "- d) We can infer that finishing EPFL with a higher GPA causes you to have a lower entry-level job salary."
   ]
  },
  {
   "cell_type": "markdown",
   "metadata": {},
   "source": [
    "a"
   ]
  },
  {
   "cell_type": "markdown",
   "metadata": {},
   "source": [
    "### Question 6. The average number of requests per page during a day on a large website is 200, while the median is 15. \n",
    "\n",
    "- a) You can assume that the distribution is heavy-tailed.\n",
    "- b) You are dealing with a left-skewed distribution.\n",
    "- c) Half of the pages get more than 200 requests.\n",
    "- d) None of the above."
   ]
  },
  {
   "cell_type": "markdown",
   "metadata": {},
   "source": [
    "a"
   ]
  },
  {
   "cell_type": "code",
   "execution_count": null,
   "metadata": {},
   "outputs": [],
   "source": []
  }
 ],
 "metadata": {
  "kernelspec": {
   "display_name": "ada",
   "language": "python",
   "name": "python3"
  },
  "language_info": {
   "codemirror_mode": {
    "name": "ipython",
    "version": 3
   },
   "file_extension": ".py",
   "mimetype": "text/x-python",
   "name": "python",
   "nbconvert_exporter": "python",
   "pygments_lexer": "ipython3",
   "version": "3.13.7"
  },
  "varInspector": {
   "cols": {
    "lenName": 16,
    "lenType": 16,
    "lenVar": 40
   },
   "kernels_config": {
    "python": {
     "delete_cmd_postfix": "",
     "delete_cmd_prefix": "del ",
     "library": "var_list.py",
     "varRefreshCmd": "print(var_dic_list())"
    },
    "r": {
     "delete_cmd_postfix": ") ",
     "delete_cmd_prefix": "rm(",
     "library": "var_list.r",
     "varRefreshCmd": "cat(var_dic_list()) "
    }
   },
   "types_to_exclude": [
    "module",
    "function",
    "builtin_function_or_method",
    "instance",
    "_Feature"
   ],
   "window_display": false
  }
 },
 "nbformat": 4,
 "nbformat_minor": 4
}
