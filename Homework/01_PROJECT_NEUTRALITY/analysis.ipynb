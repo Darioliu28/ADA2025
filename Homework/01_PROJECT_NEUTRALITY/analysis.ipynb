{
 "cells": [
  {
   "cell_type": "markdown",
   "id": "579b567a-2b80-4bf1-8cc1-c514da76ca50",
   "metadata": {},
   "source": [
    "# (ADA) Homework 1: Scoring the Language Model Olympics\n",
    "\n",
    "---\n",
    "\n",
    "By the end of this homework, we expect you to be able to:\n",
    "\n",
    "- Load data and handle data using pandas;\n",
    "- Navigate the documentation of Python packages by yourself;\n",
    "- Filter and tidy up noisy real-world datasets;\n",
    "- Aggregate your data in different (and hopefully helpful) ways;\n",
    "- Create meaningful visualizations to analyze the data;\n",
    "- Communicate your findings in a clear and concise manner\n",
    "\n",
    "---\n",
    "\n",
    "**Some rules**\n",
    "\n",
    "- You are allowed to use any built-in Python library that comes with Anaconda. If you want to use an external library, you may do so, but must justify your choice.\n",
    "- Make sure you use the data folder provided in the repository in read-only mode. (Or alternatively, be sure you don’t change any of the files.)\n",
    "- For questions containing the /Discuss:/ prefix, answer not with code, but with a textual explanation (in markdown).\n",
    "- Back up any hypotheses and claims with data, since this is an important aspect of the course.\n",
    "- Please write all your comments in English, and use meaningful variable names in your code.\n",
    "---"
   ]
  },
  {
   "cell_type": "markdown",
   "id": "4f85896e-c0ae-4ae3-af41-46149faa2278",
   "metadata": {},
   "source": [
    "## Context\n",
    "\n",
    "Context\n",
    "AI is booming! Newspapers, influencers, and your relatives all agree that AI is important. But while almost everyone agrees that AI is the future, much is unclear about what that future looks like…\n",
    "\n",
    "Freshly graduated from the EPFL, you are hired by the Swiss government to advise on a large-scale “AI integration” initiative code-named **\"NEUTRALITY\"** (Navigating Efficient Upgrades Through Robust Artificial Learning Integration Techniques Yearly). Convinced by the stunning progress in language modeling, the government would like to battle the growing shortages in the education sector by using LMs. Your job description: investigate which LMs might be best suited!\n",
    "\n",
    "You are given the results of three LMs on the [“Massive Multitask Language Understanding (MMLU)”](https://arxiv.org/abs/2009.03300) dataset to compare. This famous dataset consists of 57 subjects with multiple-choice questions, covering diverse subjects like mathematics, computer science, history, and law. Most providers of state-of-the-art LMs use this dataset to showcase the versatility of their latest models. Unfortunately, Horta-Ribeiro, the intern responsible for collecting the results, didn’t take EPFL’s famous ADA course. As a result, the collected datasets are slightly corrupted.\n",
    "\n",
    "### A very brief primer on Language Models\n",
    "Language models (LMs) are sophisticated statistical models designed to understand and generate human-like text. At their core, LMs are trained to predict the most likely continuation of a given input text. For example, given the input \"The cat sat on the,\" an LM might predict \"mat\" as a likely continuation.\n",
    "LMs are trained on vast text samples from various sources, including books, websites, and social media. This extensive training allows them to capture patterns and relationships in language, enabling them to generate coherent and contextually appropriate text across a wide range of topics and styles.\n",
    "\n",
    "While LMs can produce text that appears to be written by intelligent humans, it's important to note that their capabilities can diverge from human intelligence in unexpected ways. They may sometimes generate factually incorrect information or struggle with complex reasoning tasks.\n",
    "\n",
    "Two key concepts in understanding LMs are:\n",
    "1. **Tokens**: LMs process text using \"tokens\" rather than individual characters. Tokens can be words, parts of words, or punctuation marks. For example, the sentence \"I love AI!\" might be tokenized as [\"I\", \"love\", \"AI\", \"!\"]. Tokenization is the first step in both training and using an LM.\n",
    "2. **Context**: The input text provided to an LM is called the \"context.\" This context informs the model's predictions or generations. A longer or more specific context often leads to more accurate and relevant outputs.\n",
    "\n",
    "[See: Wikipedia entry on language models](https://en.wikipedia.org/wiki/Large_language_model)\n",
    "\n",
    "###  Files for this assignment\n",
    "This assignment is divided into three tasks, each of which should bring you a step closer to providing a recommendation toward project NEUTRALITY’s objectives:\n",
    "\n",
    "- **Task 1**: Inspecting the results and getting your first model ranking\n",
    "- **Task 2**: Inspecting the underlying data used to generate the results for possible biases\n",
    "- **Task 3**: Learning about tokens and providing a final recommendation\n",
    "\n",
    "\n",
    "```\n",
    "📁 PROJECT_NEUTRALITY\n",
    "│\n",
    "├── 📄 analysis.ipynb (the file you're currently reading!)\n",
    "├── 📄 requirements.txt (install into your environment)\n",
    "│\n",
    "├── 📁 task_1\n",
    "├── 📁 task_2\n",
    "└── 📁 task_2.5\n",
    "```   \n",
    " "
   ]
  },
  {
   "cell_type": "code",
   "execution_count": 226,
   "id": "95ce4c12-9681-401e-9489-aa0765b19d5d",
   "metadata": {},
   "outputs": [],
   "source": [
    "# please make sure you install the packages listed in the requirements.txt file in your environment!\n",
    "# using pip\n",
    "# pip install -r requirements.txt\n",
    "#\n",
    "# using Conda:\n",
    "# conda create --name <env_name> --file requirements.txt\n",
    "#\n",
    "# some basic imports\n",
    "import os\n",
    "import pandas as pd\n",
    "import numpy as np\n",
    "import matplotlib.pyplot as plt\n",
    "import warnings\n",
    "import scipy.stats as sci\n",
    "import seaborn as sns"
   ]
  },
  {
   "cell_type": "markdown",
   "id": "e62594ad-4f5f-4a46-80bc-deacf66b62e9",
   "metadata": {},
   "source": [
    "## Task 1 (18 points): What's in an average anyway?\n",
    "\n",
    "The files needed to complete task 1 can be found in the folder \"`data/task_1/`:\n",
    "```\n",
    "task_1/\n",
    "│\n",
    "├── mmlu_data/\n",
    "│   └── test.csv\n",
    "│\n",
    "└── lm_scores/\n",
    "    ├── lm_X.csv\n",
    "    ├── lm_Y.csv\n",
    "    └── lm_Z.csv\n",
    "```\n",
    "\n",
    "We will start by loading, (manually) inspecting, and cleaning the data. Although it doesn't seem \"glamorous\" (nor is it particularly fun...) - manually inspecting data is extremely important! In fact, it's one of the few things most AI and Data Science researchers agree on :). Next, we will take a first pass on ordering our Olympic podium between three LMs."
   ]
  },
  {
   "cell_type": "markdown",
   "id": "f8605646-79fa-4cb3-8137-b6951bd1e064",
   "metadata": {},
   "source": [
    "### 1.1 (1 pt)\n",
    " \n",
    "Load the subfiles contained in the `mmlu_data` and `lm_scores` folders into separate dataframes:\n",
    "- `df_test`\n",
    "- `df_x`\n",
    "- `df_y`\n",
    "- `df_z`\n",
    "\n",
    "for each, print their sizes."
   ]
  },
  {
   "cell_type": "code",
   "execution_count": 129,
   "id": "e6ce5e96-7de6-463d-a00b-6a4b2cfc8cb3",
   "metadata": {},
   "outputs": [],
   "source": [
    "df_test=pd.read_csv(\"task_1/mmlu_data/test.csv\", sep=\",\")\n",
    "df_x=pd.read_csv(\"task_1/lm_scores/lm_X.csv\", sep=\",\")\n",
    "df_y=pd.read_csv(\"task_1/lm_scores/lm_Y.csv\", sep=\",\")\n",
    "df_z=pd.read_csv(\"task_1/lm_scores/lm_Z.csv\", sep=\",\")"
   ]
  },
  {
   "cell_type": "code",
   "execution_count": 130,
   "id": "41d50c3a",
   "metadata": {},
   "outputs": [
    {
     "name": "stdout",
     "output_type": "stream",
     "text": [
      "Shape of df_test is (14042, 8)\n",
      "Shape of df_x is (13882, 2)\n",
      "Shape of df_y is (13978, 2)\n",
      "Shape of df_z is (13923, 2)\n"
     ]
    }
   ],
   "source": [
    "print(f\"Shape of df_test is {df_test.shape}\")\n",
    "print(f\"Shape of df_x is {df_x.shape}\")\n",
    "print(f\"Shape of df_y is {df_y.shape}\")\n",
    "print(f\"Shape of df_z is {df_z.shape}\")\n"
   ]
  },
  {
   "cell_type": "markdown",
   "id": "acbda57d-7df2-4e33-b31c-52bc0af6753e",
   "metadata": {},
   "source": [
    "### 1.2 (4 pt)\n",
    "Unfortunately, LMs don't always output the format we want. In the column `result`, the value should be one of A, B, C, or D. \n",
    "\n",
    "A. For each of the LM score dataframes, use a `value_counts()` operation and print the results. \n",
    "\n",
    "B. /Discuss:/ Inspect the results and describe the types of answer formats you see. Besides the \"expected\" case, you should be able to find at least four unexpected formats."
   ]
  },
  {
   "cell_type": "code",
   "execution_count": 131,
   "id": "17647154",
   "metadata": {},
   "outputs": [
    {
     "data": {
      "application/vnd.microsoft.datawrangler.viewer.v0+json": {
       "columns": [
        {
         "name": "index",
         "rawType": "int64",
         "type": "integer"
        },
        {
         "name": "question_id",
         "rawType": "int64",
         "type": "integer"
        },
        {
         "name": "result",
         "rawType": "object",
         "type": "string"
        }
       ],
       "ref": "5f8c3592-07ce-465f-b57e-67ac993ce373",
       "rows": [
        [
         "0",
         "0",
         "B"
        ],
        [
         "1",
         "1",
         "C"
        ],
        [
         "2",
         "2",
         "D "
        ],
        [
         "3",
         "3",
         "B "
        ],
        [
         "4",
         "4",
         "Answer: B"
        ]
       ],
       "shape": {
        "columns": 2,
        "rows": 5
       }
      },
      "text/html": [
       "<div>\n",
       "<style scoped>\n",
       "    .dataframe tbody tr th:only-of-type {\n",
       "        vertical-align: middle;\n",
       "    }\n",
       "\n",
       "    .dataframe tbody tr th {\n",
       "        vertical-align: top;\n",
       "    }\n",
       "\n",
       "    .dataframe thead th {\n",
       "        text-align: right;\n",
       "    }\n",
       "</style>\n",
       "<table border=\"1\" class=\"dataframe\">\n",
       "  <thead>\n",
       "    <tr style=\"text-align: right;\">\n",
       "      <th></th>\n",
       "      <th>question_id</th>\n",
       "      <th>result</th>\n",
       "    </tr>\n",
       "  </thead>\n",
       "  <tbody>\n",
       "    <tr>\n",
       "      <th>0</th>\n",
       "      <td>0</td>\n",
       "      <td>B</td>\n",
       "    </tr>\n",
       "    <tr>\n",
       "      <th>1</th>\n",
       "      <td>1</td>\n",
       "      <td>C</td>\n",
       "    </tr>\n",
       "    <tr>\n",
       "      <th>2</th>\n",
       "      <td>2</td>\n",
       "      <td>D</td>\n",
       "    </tr>\n",
       "    <tr>\n",
       "      <th>3</th>\n",
       "      <td>3</td>\n",
       "      <td>B</td>\n",
       "    </tr>\n",
       "    <tr>\n",
       "      <th>4</th>\n",
       "      <td>4</td>\n",
       "      <td>Answer: B</td>\n",
       "    </tr>\n",
       "  </tbody>\n",
       "</table>\n",
       "</div>"
      ],
      "text/plain": [
       "   question_id     result\n",
       "0            0          B\n",
       "1            1          C\n",
       "2            2         D \n",
       "3            3         B \n",
       "4            4  Answer: B"
      ]
     },
     "execution_count": 131,
     "metadata": {},
     "output_type": "execute_result"
    }
   ],
   "source": [
    "df_x.head()"
   ]
  },
  {
   "cell_type": "code",
   "execution_count": 132,
   "id": "79936f23",
   "metadata": {},
   "outputs": [
    {
     "name": "stdout",
     "output_type": "stream",
     "text": [
      "The answer given by LM X are\n",
      "\n",
      "result\n",
      "A                                                                                                                 2733\n",
      "A                                                                                                                 1657\n",
      "B                                                                                                                 1412\n",
      "Answer: A                                                                                                         1398\n",
      "C                                                                                                                 1134\n",
      "                                                                                                                  ... \n",
      "judicial activism, so the answer is A                                                                                1\n",
      "creating insurmountable obstacles to the founding of factions, so the answer is A                                    1\n",
      "A congressperson who retires to take a position teaching political science at a university, so the answer is A       1\n",
      "David Hume, so the answer is D                                                                                       1\n",
      "Brahminic orthodoxy, so the answer is A                                                                              1\n",
      "Name: count, Length: 145, dtype: int64\n",
      "\n",
      "\n",
      "The answer given by LM Y are\n",
      "\n",
      "result\n",
      "D                                                                                                2894\n",
      "Answer: D                                                                                        1718\n",
      "C                                                                                                1701\n",
      "B                                                                                                1240\n",
      "D                                                                                                1145\n",
      "                                                                                                 ... \n",
      "Where the energy of interaction between the atoms is at its minimum value, so the answer is A       1\n",
      "leaves more viable offspring than others of its species., so the answer is D                        1\n",
      "A and C only, so the answer is D                                                                    1\n",
      "ADP + P → ATP, so the answer is D                                                                   1\n",
      "Monoclonal antibodies, so the answer is C                                                           1\n",
      "Name: count, Length: 141, dtype: int64\n",
      "\n",
      "\n",
      "The answer given by LM Z are\n",
      "\n",
      "result\n",
      "D                                                                                   2257\n",
      "C                                                                                   2191\n",
      "B                                                                                   2127\n",
      "A                                                                                   2060\n",
      "Answer: D                                                                            777\n",
      "                                                                                    ... \n",
      "omission of a universal suffrage clause, so the answer is D                            1\n",
      "declare war, so the answer is D                                                        1\n",
      "state and local governments, by means of federal funding, so the answer is B           1\n",
      "less clearly identified with consistent political ideologies, so the answer is B       1\n",
      "Rahit, so the answer is B                                                              1\n",
      "Name: count, Length: 560, dtype: int64\n"
     ]
    }
   ],
   "source": [
    "# A\n",
    "print(\"The answer given by LM X are\\n\")\n",
    "print(df_x[\"result\"].value_counts())\n",
    "print(\"\\n\")\n",
    "print(\"The answer given by LM Y are\\n\")\n",
    "print(df_y[\"result\"].value_counts())\n",
    "print(\"\\n\")\n",
    "print(\"The answer given by LM Z are\\n\")\n",
    "print(df_z[\"result\"].value_counts())"
   ]
  },
  {
   "cell_type": "markdown",
   "id": "620f46cc",
   "metadata": {},
   "source": [
    "# B\n",
    "Apart from the expected format we can see that each model has some answers (few but stil exhistent) in different formats: \n",
    "    `-The string \"Answer:\" before the actual answer`\n",
    "    `-The motivation why they gave that answer and then the actual answer`\n",
    "    `-\"None of the above\" answer`\n",
    "    `-doubtful answer`"
   ]
  },
  {
   "cell_type": "markdown",
   "id": "88c5551d-1968-427b-bdd6-51d996898e7c",
   "metadata": {},
   "source": [
    "### 1.3 (5 pt)\n",
    "Oh oh... That doesn't look great. Simply dropping all invalid answers seems overly wasteful, yet fixing all of these looks like a mess! Instead, let's focus for now on fixing just those answers of length < 10 characters that require only a single `str.replace()` operation. \n",
    "\n",
    "For example, if the answer looks like `--A--`, we could fix this by using the following simple function:\n",
    "\n",
    "```\n",
    "def clean_answer(s, pattern='-'):\n",
    "    return str(s).replace(pattern, '')\n",
    "\n",
    "dirty_answer = '--A--'\n",
    "clean_answer = clean_answer(dirty_answer)\n",
    "```\n",
    "\n",
    "A. Filter the three score dataframes to include only answers with less than 10 characters. Make a deep copy of the dataframes as you filter them.\n",
    "\n",
    "B. Modify the `clean_answer()` example function to clean the answers in the filtered data frames using the `apply()` functionality. Finally, make sure **all remaining answers are one of `A, B, C, or D`.**\n",
    "\n",
    "C. /Discuss:/ Compare the sizes of the original and filtered data frames. What do you see? Why might this be a problem?"
   ]
  },
  {
   "cell_type": "code",
   "execution_count": 133,
   "id": "aef1f933-20bf-426a-ac9d-a35e273b9bd2",
   "metadata": {},
   "outputs": [],
   "source": [
    "# A\n",
    "df_x_filtered=df_x[df_x[\"result\"].str.len()<10].copy()\n",
    "df_y_filtered=df_y[df_y[\"result\"].str.len()<10].copy()\n",
    "df_z_filtered=df_z[df_z[\"result\"].str.len()<10].copy()"
   ]
  },
  {
   "cell_type": "code",
   "execution_count": 134,
   "id": "7dc095a2",
   "metadata": {},
   "outputs": [
    {
     "data": {
      "application/vnd.microsoft.datawrangler.viewer.v0+json": {
       "columns": [
        {
         "name": "result",
         "rawType": "object",
         "type": "string"
        },
        {
         "name": "count",
         "rawType": "int64",
         "type": "integer"
        }
       ],
       "ref": "3c1f1125-3497-4d98-be1f-5c518c54f790",
       "rows": [
        [
         "A",
         "2733"
        ],
        [
         "A ",
         "1657"
        ],
        [
         "B",
         "1412"
        ],
        [
         "Answer: A",
         "1398"
        ],
        [
         "C",
         "1134"
        ],
        [
         "D",
         "1124"
        ],
        [
         "B ",
         "793"
        ],
        [
         "Answer: B",
         "760"
        ],
        [
         "C ",
         "622"
        ],
        [
         "Answer: D",
         "613"
        ],
        [
         "D ",
         "596"
        ],
        [
         "Answer: C",
         "594"
        ],
        [
         "Not Sure",
         "73"
        ]
       ],
       "shape": {
        "columns": 1,
        "rows": 13
       }
      },
      "text/plain": [
       "result\n",
       "A            2733\n",
       "A            1657\n",
       "B            1412\n",
       "Answer: A    1398\n",
       "C            1134\n",
       "D            1124\n",
       "B             793\n",
       "Answer: B     760\n",
       "C             622\n",
       "Answer: D     613\n",
       "D             596\n",
       "Answer: C     594\n",
       "Not Sure       73\n",
       "Name: count, dtype: int64"
      ]
     },
     "execution_count": 134,
     "metadata": {},
     "output_type": "execute_result"
    }
   ],
   "source": [
    "df_x_filtered[\"result\"].value_counts()"
   ]
  },
  {
   "cell_type": "code",
   "execution_count": 135,
   "id": "045203df",
   "metadata": {},
   "outputs": [
    {
     "data": {
      "application/vnd.microsoft.datawrangler.viewer.v0+json": {
       "columns": [
        {
         "name": "result",
         "rawType": "object",
         "type": "string"
        },
        {
         "name": "count",
         "rawType": "int64",
         "type": "integer"
        }
       ],
       "ref": "b4d281de-00a0-4d99-afac-db78c1dd911f",
       "rows": [
        [
         "D",
         "2894"
        ],
        [
         "Answer: D",
         "1718"
        ],
        [
         "C",
         "1701"
        ],
        [
         "B",
         "1240"
        ],
        [
         "D ",
         "1145"
        ],
        [
         "A",
         "1008"
        ],
        [
         "Answer: C",
         "907"
        ],
        [
         "Answer: B",
         "726"
        ],
        [
         "C ",
         "634"
        ],
        [
         "Answer: A",
         "597"
        ],
        [
         "B ",
         "553"
        ],
        [
         "A ",
         "428"
        ],
        [
         "Not Sure",
         "86"
        ]
       ],
       "shape": {
        "columns": 1,
        "rows": 13
       }
      },
      "text/plain": [
       "result\n",
       "D            2894\n",
       "Answer: D    1718\n",
       "C            1701\n",
       "B            1240\n",
       "D            1145\n",
       "A            1008\n",
       "Answer: C     907\n",
       "Answer: B     726\n",
       "C             634\n",
       "Answer: A     597\n",
       "B             553\n",
       "A             428\n",
       "Not Sure       86\n",
       "Name: count, dtype: int64"
      ]
     },
     "execution_count": 135,
     "metadata": {},
     "output_type": "execute_result"
    }
   ],
   "source": [
    "df_y_filtered[\"result\"].value_counts()"
   ]
  },
  {
   "cell_type": "code",
   "execution_count": 136,
   "id": "7e3d8de0",
   "metadata": {},
   "outputs": [
    {
     "data": {
      "application/vnd.microsoft.datawrangler.viewer.v0+json": {
       "columns": [
        {
         "name": "result",
         "rawType": "object",
         "type": "string"
        },
        {
         "name": "count",
         "rawType": "int64",
         "type": "integer"
        }
       ],
       "ref": "e1da3899-39b2-4448-a86c-06782380d38c",
       "rows": [
        [
         "D",
         "2257"
        ],
        [
         "C",
         "2191"
        ],
        [
         "B",
         "2127"
        ],
        [
         "A",
         "2060"
        ],
        [
         "Answer: D",
         "777"
        ],
        [
         "Answer: C",
         "748"
        ],
        [
         "Answer: B",
         "712"
        ],
        [
         "Answer: A",
         "687"
        ],
        [
         "C ",
         "316"
        ],
        [
         "D ",
         "314"
        ],
        [
         "B ",
         "285"
        ],
        [
         "A ",
         "279"
        ],
        [
         "Not Sure",
         "125"
        ]
       ],
       "shape": {
        "columns": 1,
        "rows": 13
       }
      },
      "text/plain": [
       "result\n",
       "D            2257\n",
       "C            2191\n",
       "B            2127\n",
       "A            2060\n",
       "Answer: D     777\n",
       "Answer: C     748\n",
       "Answer: B     712\n",
       "Answer: A     687\n",
       "C             316\n",
       "D             314\n",
       "B             285\n",
       "A             279\n",
       "Not Sure      125\n",
       "Name: count, dtype: int64"
      ]
     },
     "execution_count": 136,
     "metadata": {},
     "output_type": "execute_result"
    }
   ],
   "source": [
    "df_z_filtered[\"result\"].value_counts()"
   ]
  },
  {
   "cell_type": "code",
   "execution_count": 137,
   "id": "fd54f296",
   "metadata": {},
   "outputs": [],
   "source": [
    "# B"
   ]
  },
  {
   "cell_type": "code",
   "execution_count": 138,
   "id": "93023aee",
   "metadata": {},
   "outputs": [],
   "source": [
    "def clean_answer(s, pattern):\n",
    "    return str(s).replace(pattern,\"\")\n"
   ]
  },
  {
   "cell_type": "code",
   "execution_count": 139,
   "id": "f95c3d4f",
   "metadata": {},
   "outputs": [],
   "source": [
    "df_x_filtered[\"result\"]=df_x_filtered[\"result\"].apply(lambda x: clean_answer(x, \"Answer: \"))\n",
    "df_y_filtered[\"result\"]=df_y_filtered[\"result\"].apply(lambda x: clean_answer(x, \"Answer: \"))\n",
    "df_z_filtered[\"result\"]=df_z_filtered[\"result\"].apply(lambda x: clean_answer(x, \"Answer: \"))\n",
    "\n",
    "df_x_filtered[\"result\"]=df_x_filtered[\"result\"].apply(lambda x: x.rstrip())\n",
    "df_y_filtered[\"result\"]=df_y_filtered[\"result\"].apply(lambda x: x.rstrip())\n",
    "df_z_filtered[\"result\"]=df_z_filtered[\"result\"].apply(lambda x: x.rstrip())\n",
    "       \n",
    "df_x_filtered=df_x_filtered[df_x_filtered[\"result\"]!='Not Sure']\n",
    "df_y_filtered=df_y_filtered[df_y_filtered[\"result\"]!='Not Sure']\n",
    "df_z_filtered=df_z_filtered[df_z_filtered[\"result\"]!='Not Sure']\n"
   ]
  },
  {
   "cell_type": "code",
   "execution_count": 140,
   "id": "a930ae7c",
   "metadata": {},
   "outputs": [
    {
     "data": {
      "application/vnd.microsoft.datawrangler.viewer.v0+json": {
       "columns": [
        {
         "name": "result",
         "rawType": "object",
         "type": "string"
        },
        {
         "name": "count",
         "rawType": "int64",
         "type": "integer"
        }
       ],
       "ref": "bd1e2e3f-bee3-4aa8-a6bd-759ef63c3828",
       "rows": [
        [
         "A",
         "5788"
        ],
        [
         "B",
         "2965"
        ],
        [
         "C",
         "2350"
        ],
        [
         "D",
         "2333"
        ]
       ],
       "shape": {
        "columns": 1,
        "rows": 4
       }
      },
      "text/plain": [
       "result\n",
       "A    5788\n",
       "B    2965\n",
       "C    2350\n",
       "D    2333\n",
       "Name: count, dtype: int64"
      ]
     },
     "execution_count": 140,
     "metadata": {},
     "output_type": "execute_result"
    }
   ],
   "source": [
    "df_x_filtered[\"result\"].value_counts()\n"
   ]
  },
  {
   "cell_type": "code",
   "execution_count": 141,
   "id": "55a34984",
   "metadata": {},
   "outputs": [
    {
     "data": {
      "application/vnd.microsoft.datawrangler.viewer.v0+json": {
       "columns": [
        {
         "name": "result",
         "rawType": "object",
         "type": "string"
        },
        {
         "name": "count",
         "rawType": "int64",
         "type": "integer"
        }
       ],
       "ref": "77c3f74a-bb4d-4e63-a0b0-a1c26b2fcb77",
       "rows": [
        [
         "D",
         "5757"
        ],
        [
         "C",
         "3242"
        ],
        [
         "B",
         "2519"
        ],
        [
         "A",
         "2033"
        ]
       ],
       "shape": {
        "columns": 1,
        "rows": 4
       }
      },
      "text/plain": [
       "result\n",
       "D    5757\n",
       "C    3242\n",
       "B    2519\n",
       "A    2033\n",
       "Name: count, dtype: int64"
      ]
     },
     "execution_count": 141,
     "metadata": {},
     "output_type": "execute_result"
    }
   ],
   "source": [
    "df_y_filtered[\"result\"].value_counts()"
   ]
  },
  {
   "cell_type": "code",
   "execution_count": 142,
   "id": "339eb14c",
   "metadata": {},
   "outputs": [
    {
     "data": {
      "application/vnd.microsoft.datawrangler.viewer.v0+json": {
       "columns": [
        {
         "name": "result",
         "rawType": "object",
         "type": "string"
        },
        {
         "name": "count",
         "rawType": "int64",
         "type": "integer"
        }
       ],
       "ref": "cda780c7-4176-49da-8d45-22bc88bba3d6",
       "rows": [
        [
         "D",
         "3348"
        ],
        [
         "C",
         "3255"
        ],
        [
         "B",
         "3124"
        ],
        [
         "A",
         "3026"
        ]
       ],
       "shape": {
        "columns": 1,
        "rows": 4
       }
      },
      "text/plain": [
       "result\n",
       "D    3348\n",
       "C    3255\n",
       "B    3124\n",
       "A    3026\n",
       "Name: count, dtype: int64"
      ]
     },
     "execution_count": 142,
     "metadata": {},
     "output_type": "execute_result"
    }
   ],
   "source": [
    "df_z_filtered[\"result\"].value_counts()"
   ]
  },
  {
   "cell_type": "code",
   "execution_count": 143,
   "id": "431da964",
   "metadata": {},
   "outputs": [
    {
     "name": "stdout",
     "output_type": "stream",
     "text": [
      "Shape of df_x_filtered is (13436, 2)\n",
      "Shape of df_y_filtered is (13551, 2)\n",
      "Shape of df_z_filtered is (12753, 2)\n",
      "Shape of df_x is (13882, 2)\n",
      "Shape of df_y is (13978, 2)\n",
      "Shape of df_z is (13923, 2)\n"
     ]
    }
   ],
   "source": [
    "print(f\"Shape of df_x_filtered is {df_x_filtered.shape}\")\n",
    "print(f\"Shape of df_y_filtered is {df_y_filtered.shape}\")\n",
    "print(f\"Shape of df_z_filtered is {df_z_filtered.shape}\")\n",
    "print(f\"Shape of df_x is {df_x.shape}\")\n",
    "print(f\"Shape of df_y is {df_y.shape}\")\n",
    "print(f\"Shape of df_z is {df_z.shape}\")"
   ]
  },
  {
   "cell_type": "code",
   "execution_count": 144,
   "id": "fbc78c60",
   "metadata": {},
   "outputs": [
    {
     "name": "stdout",
     "output_type": "stream",
     "text": [
      "0.08403361344537816\n"
     ]
    }
   ],
   "source": [
    "print((df_z.shape[0]-df_z_filtered.shape[0])/df_z.shape[0])"
   ]
  },
  {
   "cell_type": "markdown",
   "id": "2415cd9b",
   "metadata": {},
   "source": [
    "C. /Discuss:/\n",
    "\n",
    "In the first 2 LM's 400 ansewrs were removed because of the wrong format. \n",
    "\n",
    "In the LM Z more than 1000 answers (~8.5%) were removed. This could impact on the analysis "
   ]
  },
  {
   "cell_type": "markdown",
   "id": "da1cf129-09dd-47b1-9737-2c4d57eb8853",
   "metadata": {},
   "source": [
    "### 1.4 (3 pt)\n",
    "\n",
    "Now that our answer columns are nicely formatted, let's take a look at model performance:\n",
    "\n",
    "A. Both the `MMLU` dataframes and the language model score data frames have the columns `question_id`. For each of the language model score data frames, use an inner join operation with the `df_test` dataframe on the `question_id` column.\n",
    "\n",
    "B. Add a new column to each of the resulting dataframes called `correct`, that checks if the model's answer in `result` is the same as the expected answer in the column `answer`. Then, print the average score of each model."
   ]
  },
  {
   "cell_type": "code",
   "execution_count": 145,
   "id": "e66b36f3-f5a4-4237-9b48-39b21716d7aa",
   "metadata": {},
   "outputs": [],
   "source": [
    "# A\n",
    "df_x_merged=pd.merge(df_x_filtered,df_test, on=\"question_id\", how=\"inner\")\n",
    "df_y_merged=pd.merge(df_y_filtered,df_test, on=\"question_id\", how=\"inner\")\n",
    "df_z_merged=pd.merge(df_z_filtered,df_test, on=\"question_id\", how=\"inner\")\n"
   ]
  },
  {
   "cell_type": "code",
   "execution_count": 146,
   "id": "50b024d2",
   "metadata": {},
   "outputs": [],
   "source": [
    "# B\n",
    "df_x_merged[\"correct\"]=np.where(df_x_merged[\"result\"]==df_x_merged[\"answer\"],1,0)\n",
    "df_y_merged[\"correct\"]=np.where(df_y_merged[\"result\"]==df_y_merged[\"answer\"],1,0)\n",
    "df_z_merged[\"correct\"]=np.where(df_z_merged[\"result\"]==df_z_merged[\"answer\"],1,0)"
   ]
  },
  {
   "cell_type": "code",
   "execution_count": 147,
   "id": "33645162",
   "metadata": {},
   "outputs": [],
   "source": [
    "avg_score_x=df_x_merged[\"correct\"].sum(axis=0)/df_x_merged.shape[0]\n",
    "avg_score_y=df_y_merged[\"correct\"].sum(axis=0)/df_y_merged.shape[0]\n",
    "avg_score_z=df_z_merged[\"correct\"].sum(axis=0)/df_z_merged.shape[0]"
   ]
  },
  {
   "cell_type": "code",
   "execution_count": 148,
   "id": "6d1a8107",
   "metadata": {},
   "outputs": [
    {
     "name": "stdout",
     "output_type": "stream",
     "text": [
      "The average score for model X is 76.74903245013397%\n",
      "\n",
      "The average score for model Y is 74.58490148328536%\n",
      "\n",
      "The average score for model Z is 66.3294911001333%\n",
      "\n"
     ]
    }
   ],
   "source": [
    "print(f\"The average score for model X is {avg_score_x*100}%\\n\")\n",
    "print(f\"The average score for model Y is {avg_score_y*100}%\\n\")\n",
    "print(f\"The average score for model Z is {avg_score_z*100}%\\n\")"
   ]
  },
  {
   "cell_type": "markdown",
   "id": "69decfd8-8083-4c2f-8263-a153d55efede",
   "metadata": {},
   "source": [
    "### 1.5 (5 pt)\n",
    "\n",
    "Hmmm, something doesn't seem quite right. Let's investigate how \"balanced\" this dataset is:\n",
    "\n",
    "A. For each of the 57 subjects in the MMLU, compare the number of questions answered by each model. Print the subjects for which there is a more than 10% difference.\n",
    "\n",
    "B. Propose and implement a reasonable way to rebalance the results. (e.g., while throwing away 100% of the results perfectly rebalances the results, it is not reasonable).\n",
    "\n",
    "C. Finally, print the updated accuracy on the rebalanced data.\n",
    "\n",
    "**hint:**:\n",
    "- (A) For a given subject, let model X and model Y have answered 181 and 200 questions respectively. You can consider this a 10% difference from the perspective of X since: (200 - 181) / 181 > 0.10"
   ]
  },
  {
   "cell_type": "code",
   "execution_count": 149,
   "id": "19463002-732b-405b-8b44-77f702bdb665",
   "metadata": {},
   "outputs": [
    {
     "name": "stdout",
     "output_type": "stream",
     "text": [
      "subject\n",
      "formal logic         0.128440\n",
      "logical fallacies    0.116883\n",
      "moral scenarios      0.173677\n",
      "Name: Relative difference between X and Y, dtype: float64\n",
      "subject\n",
      "college chemistry           0.125000\n",
      "college computer science    0.134021\n",
      "moral disputes              0.240122\n",
      "Name: Relative difference between X and Z, dtype: float64\n",
      "subject\n",
      "college chemistry           0.142857\n",
      "college computer science    0.142857\n",
      "computer security           0.112245\n",
      "moral disputes              0.177632\n",
      "moral scenarios             0.105202\n",
      "Name: Relative difference between Y and Z, dtype: float64\n"
     ]
    }
   ],
   "source": [
    "# A\n",
    "quest_by_sub_x = df_x_merged.groupby(\"subject\")[\"question_id\"].count().rename(\"num_questions\")\n",
    "quest_by_sub_y = df_y_merged.groupby(\"subject\")[\"question_id\"].count().rename(\"num_questions\")\n",
    "quest_by_sub_z = df_z_merged.groupby(\"subject\")[\"question_id\"].count().rename(\"num_questions\")\n",
    "\n",
    "xy_diff_rel=np.abs((quest_by_sub_x-quest_by_sub_y)/quest_by_sub_x).rename(\"Relative difference between X and Y\")\n",
    "xy_diff_rel_more_10=xy_diff_rel[xy_diff_rel>0.1]\n",
    "xz_diff_rel=np.abs((quest_by_sub_x-quest_by_sub_z)/quest_by_sub_x).rename(\"Relative difference between X and Z\")\n",
    "xz_diff_rel_more_10=xz_diff_rel[xz_diff_rel>0.1]\n",
    "yz_diff_rel=np.abs((quest_by_sub_y-quest_by_sub_z)/quest_by_sub_y).rename(\"Relative difference between Y and Z\")\n",
    "yz_diff_rel_more_10=yz_diff_rel[yz_diff_rel>0.1]\n",
    "print(xy_diff_rel_more_10)\n",
    "print(xz_diff_rel_more_10)\n",
    "print(yz_diff_rel_more_10)"
   ]
  },
  {
   "cell_type": "code",
   "execution_count": 166,
   "id": "2fb8c324",
   "metadata": {},
   "outputs": [],
   "source": [
    "# B\n",
    "df_x_balanced = []\n",
    "df_y_balanced = []\n",
    "df_z_balanced=[]\n",
    "\n",
    "subjects=df_x_merged[\"subject\"].unique()\n",
    "\n",
    "shufflex=np.random.permutation(df_x_merged.shape[0])\n",
    "df_x_merged=df_x_merged.iloc[shufflex]\n",
    "shuffley=np.random.permutation(df_y_merged.shape[0])\n",
    "df_y_merged=df_y_merged.iloc[shuffley]\n",
    "shufflez=np.random.permutation(df_z_merged.shape[0])\n",
    "df_z_merged=df_z_merged.iloc[shufflez]\n",
    "\n",
    "for subject in subjects:\n",
    "    num_to_keep=min(df_x_merged[df_x_merged[\"subject\"]==subject].shape[0], df_y_merged[df_y_merged[\"subject\"]==subject].shape[0],df_z_merged[df_z_merged[\"subject\"]==subject].shape[0])\n",
    "\n",
    "    subsetx=df_x_merged[df_x_merged[\"subject\"]==subject].head(num_to_keep)\n",
    "    subsety=df_y_merged[df_y_merged[\"subject\"]==subject].head(num_to_keep)\n",
    "    subsetz=df_z_merged[df_z_merged[\"subject\"]==subject].head(num_to_keep)\n",
    "    df_x_balanced.append(subsetx)\n",
    "    df_y_balanced.append(subsety)\n",
    "    df_z_balanced.append(subsetz)\n",
    "\n",
    "df_x_balanced = pd.concat(df_x_balanced).reset_index(drop=True)\n",
    "df_y_balanced = pd.concat(df_y_balanced).reset_index(drop=True)\n",
    "df_z_balanced = pd.concat(df_z_balanced).reset_index(drop=True)\n"
   ]
  },
  {
   "cell_type": "code",
   "execution_count": 167,
   "id": "ca5c6f15",
   "metadata": {},
   "outputs": [],
   "source": [
    "quest_by_sub_x = df_x_balanced.groupby(\"subject\")[\"question_id\"].count().rename(\"num_questions\")\n",
    "quest_by_sub_y = df_y_balanced.groupby(\"subject\")[\"question_id\"].count().rename(\"num_questions\")\n",
    "quest_by_sub_z = df_z_balanced.groupby(\"subject\")[\"question_id\"].count().rename(\"num_questions\")"
   ]
  },
  {
   "cell_type": "code",
   "execution_count": 168,
   "id": "b1e13645",
   "metadata": {},
   "outputs": [
    {
     "name": "stdout",
     "output_type": "stream",
     "text": [
      "subject\n",
      "abstract algebra                         95\n",
      "anatomy                                 125\n",
      "astronomy                               137\n",
      "business ethics                          92\n",
      "clinical knowledge                      244\n",
      "college biology                         131\n",
      "college chemistry                        84\n",
      "college computer science                 84\n",
      "college mathematics                      93\n",
      "college medicine                        161\n",
      "college physics                          91\n",
      "computer security                        87\n",
      "conceptual physics                      212\n",
      "econometrics                            103\n",
      "electrical engineering                  138\n",
      "elementary mathematics                  348\n",
      "formal logic                            109\n",
      "global facts                             92\n",
      "high school biology                     277\n",
      "high school chemistry                   185\n",
      "high school computer science             90\n",
      "high school european history            147\n",
      "high school geography                   176\n",
      "high school government and politics     177\n",
      "high school macroeconomics              350\n",
      "high school mathematics                 247\n",
      "high school microeconomics              221\n",
      "high school physics                     136\n",
      "high school psychology                  515\n",
      "high school statistics                  207\n",
      "high school us history                  192\n",
      "high school world history               222\n",
      "human aging                             202\n",
      "human sexuality                         122\n",
      "international law                       114\n",
      "jurisprudence                           100\n",
      "logical fallacies                       136\n",
      "machine learning                        103\n",
      "management                               93\n",
      "marketing                               217\n",
      "medical genetics                         89\n",
      "miscellaneous                           716\n",
      "moral disputes                          250\n",
      "moral scenarios                         737\n",
      "nutrition                               286\n",
      "philosophy                              282\n",
      "prehistory                              299\n",
      "professional accounting                 261\n",
      "professional law                       1390\n",
      "professional medicine                   257\n",
      "professional psychology                 564\n",
      "public relations                         97\n",
      "security studies                        230\n",
      "sociology                               188\n",
      "us foreign policy                        92\n",
      "virology                                150\n",
      "world religions                         154\n",
      "Name: num_questions, dtype: int64\n"
     ]
    }
   ],
   "source": [
    "print(quest_by_sub_x)"
   ]
  },
  {
   "cell_type": "code",
   "execution_count": 169,
   "id": "66b4cc8d",
   "metadata": {},
   "outputs": [
    {
     "name": "stdout",
     "output_type": "stream",
     "text": [
      "subject\n",
      "abstract algebra                         95\n",
      "anatomy                                 125\n",
      "astronomy                               137\n",
      "business ethics                          92\n",
      "clinical knowledge                      244\n",
      "college biology                         131\n",
      "college chemistry                        84\n",
      "college computer science                 84\n",
      "college mathematics                      93\n",
      "college medicine                        161\n",
      "college physics                          91\n",
      "computer security                        87\n",
      "conceptual physics                      212\n",
      "econometrics                            103\n",
      "electrical engineering                  138\n",
      "elementary mathematics                  348\n",
      "formal logic                            109\n",
      "global facts                             92\n",
      "high school biology                     277\n",
      "high school chemistry                   185\n",
      "high school computer science             90\n",
      "high school european history            147\n",
      "high school geography                   176\n",
      "high school government and politics     177\n",
      "high school macroeconomics              350\n",
      "high school mathematics                 247\n",
      "high school microeconomics              221\n",
      "high school physics                     136\n",
      "high school psychology                  515\n",
      "high school statistics                  207\n",
      "high school us history                  192\n",
      "high school world history               222\n",
      "human aging                             202\n",
      "human sexuality                         122\n",
      "international law                       114\n",
      "jurisprudence                           100\n",
      "logical fallacies                       136\n",
      "machine learning                        103\n",
      "management                               93\n",
      "marketing                               217\n",
      "medical genetics                         89\n",
      "miscellaneous                           716\n",
      "moral disputes                          250\n",
      "moral scenarios                         737\n",
      "nutrition                               286\n",
      "philosophy                              282\n",
      "prehistory                              299\n",
      "professional accounting                 261\n",
      "professional law                       1390\n",
      "professional medicine                   257\n",
      "professional psychology                 564\n",
      "public relations                         97\n",
      "security studies                        230\n",
      "sociology                               188\n",
      "us foreign policy                        92\n",
      "virology                                150\n",
      "world religions                         154\n",
      "Name: num_questions, dtype: int64\n"
     ]
    }
   ],
   "source": [
    "print(quest_by_sub_y)"
   ]
  },
  {
   "cell_type": "code",
   "execution_count": 170,
   "id": "e687c412",
   "metadata": {},
   "outputs": [
    {
     "name": "stdout",
     "output_type": "stream",
     "text": [
      "subject\n",
      "abstract algebra                         95\n",
      "anatomy                                 125\n",
      "astronomy                               137\n",
      "business ethics                          92\n",
      "clinical knowledge                      244\n",
      "college biology                         131\n",
      "college chemistry                        84\n",
      "college computer science                 84\n",
      "college mathematics                      93\n",
      "college medicine                        161\n",
      "college physics                          91\n",
      "computer security                        87\n",
      "conceptual physics                      212\n",
      "econometrics                            103\n",
      "electrical engineering                  138\n",
      "elementary mathematics                  348\n",
      "formal logic                            109\n",
      "global facts                             92\n",
      "high school biology                     277\n",
      "high school chemistry                   185\n",
      "high school computer science             90\n",
      "high school european history            147\n",
      "high school geography                   176\n",
      "high school government and politics     177\n",
      "high school macroeconomics              350\n",
      "high school mathematics                 247\n",
      "high school microeconomics              221\n",
      "high school physics                     136\n",
      "high school psychology                  515\n",
      "high school statistics                  207\n",
      "high school us history                  192\n",
      "high school world history               222\n",
      "human aging                             202\n",
      "human sexuality                         122\n",
      "international law                       114\n",
      "jurisprudence                           100\n",
      "logical fallacies                       136\n",
      "machine learning                        103\n",
      "management                               93\n",
      "marketing                               217\n",
      "medical genetics                         89\n",
      "miscellaneous                           716\n",
      "moral disputes                          250\n",
      "moral scenarios                         737\n",
      "nutrition                               286\n",
      "philosophy                              282\n",
      "prehistory                              299\n",
      "professional accounting                 261\n",
      "professional law                       1390\n",
      "professional medicine                   257\n",
      "professional psychology                 564\n",
      "public relations                         97\n",
      "security studies                        230\n",
      "sociology                               188\n",
      "us foreign policy                        92\n",
      "virology                                150\n",
      "world religions                         154\n",
      "Name: num_questions, dtype: int64\n"
     ]
    }
   ],
   "source": [
    "print(quest_by_sub_z)"
   ]
  },
  {
   "cell_type": "code",
   "execution_count": 171,
   "id": "affc3746",
   "metadata": {},
   "outputs": [
    {
     "name": "stdout",
     "output_type": "stream",
     "text": [
      "The average score for model X is 76.72678585492636%\n",
      "\n",
      "The average score for model Y is 74.54516814995668%\n",
      "\n",
      "The average score for model Z is 66.30700165393401%\n",
      "\n"
     ]
    }
   ],
   "source": [
    "# C\n",
    "avg_score_x_balanced=df_x_balanced[\"correct\"].sum(axis=0)/df_x_balanced.shape[0]\n",
    "avg_score_y_balanced=df_y_balanced[\"correct\"].sum(axis=0)/df_y_balanced.shape[0]\n",
    "avg_score_z_balanced=df_z_balanced[\"correct\"].sum(axis=0)/df_z_balanced.shape[0]\n",
    "\n",
    "print(f\"The average score for model X is {avg_score_x_balanced*100}%\\n\")\n",
    "print(f\"The average score for model Y is {avg_score_y_balanced*100}%\\n\")\n",
    "print(f\"The average score for model Z is {avg_score_z_balanced*100}%\\n\")"
   ]
  },
  {
   "cell_type": "markdown",
   "id": "292b2f61-0529-4b6d-a3a7-af786a4d79ae",
   "metadata": {},
   "source": [
    "## Task 2 (26 points): What do you mean A > D > B > C...?\n",
    "\n",
    "Nice work! Having successfully inspected, cleaned, and rebalanced the provided data, you head over to director of the government's NEUTRALITY project. Ms. Sakota is happy with your work so far, but worried that the sloppy intern might have done more undetected damage. To be sure, she orders a new set of evaluations of all models on both MMLU and another dataset.\n",
    "\n",
    "After cleaning up and rebalancing, you are left with the concatenated score files in the second folder `task_2`:\n",
    "```\n",
    "task_2/\n",
    "│\n",
    "└── lm_scores_mmlu.csv\n",
    "│\n",
    "└── lm_scores_other.csv\n",
    "```\n",
    "\n",
    "Each has a new column called `model_name`, which is one of `X, Y` or `Z`.\n",
    "\n",
    "\n",
    "\n",
    "_NOTE: **only** use data from `task_2` and `task_2_5` for this assignment! The values in `lm_scores_mmlu.csv` will NOT be the same as the dataframes you finished in task 1. This is due to \"randomness\" or \"temperature\" in language model inference. This can slightly shift around generative results. (Conveniently: it also ensures any mistakes made in Task 1 don't propogate further ;) )_"
   ]
  },
  {
   "cell_type": "code",
   "execution_count": 172,
   "id": "a889a76b-e034-4d2f-929e-0ef1f250a0a0",
   "metadata": {},
   "outputs": [],
   "source": [
    "# PROVIDED CODE\n",
    "df_mmlu = pd.read_csv('task_2/lm_scores_mmlu.csv')\n",
    "df_other = pd.read_csv('task_2/lm_scores_other.csv')"
   ]
  },
  {
   "cell_type": "markdown",
   "id": "c31edde3-cc91-4d08-81c7-b5e98cf0ff9c",
   "metadata": {},
   "source": [
    "### 2.1 (4 pt)\n",
    "\n",
    "Let's explore the new results:\n",
    "\n",
    "A. Compute the mean accuracy and standard errors of each model on both datasets and print the results.\n",
    "\n",
    "B. Then, show your results in a bar plot using standard errors with a 95% confidence interval around the mean. Make sure the plot is easy to read and well annotated.\n",
    "\n",
    "C. /Discuss:/ the plot you created: (i) can you say that one of the models is the best? (ii) is there anything that seems odd?"
   ]
  },
  {
   "cell_type": "code",
   "execution_count": 198,
   "id": "56fe8cca-acd1-4f5e-a938-e8d3a850f220",
   "metadata": {},
   "outputs": [],
   "source": [
    "# A\n",
    "summary_mmlu = (\n",
    "        df_mmlu.groupby(\"model_name\")[\"correct\"]\n",
    "        .agg([\"mean\", \"count\", \"std\"])\n",
    "        .rename(columns={\"mean\": \"mean_acc\", \"std\": \"std_dev\"}))\n",
    "\n",
    "summary_mmlu[\"se\"]=summary_mmlu[\"std_dev\"]/np.sqrt(summary_mmlu[\"count\"])\n",
    "\n",
    "summary_other = (\n",
    "        df_other.groupby(\"model_name\")[\"correct\"]\n",
    "        .agg([\"mean\", \"count\", \"std\"])\n",
    "        .rename(columns={\"mean\": \"mean_acc\", \"std\": \"std_dev\"}))\n",
    "\n",
    "summary_other[\"se\"]=summary_other[\"std_dev\"]/np.sqrt(summary_other[\"count\"])"
   ]
  },
  {
   "cell_type": "code",
   "execution_count": 201,
   "id": "5bb4b8cd",
   "metadata": {},
   "outputs": [
    {
     "name": "stdout",
     "output_type": "stream",
     "text": [
      "            mean_acc  count   std_dev        se\n",
      "model_name                                     \n",
      "X           0.743588  11696  0.436671  0.004038\n",
      "Y           0.761542  11696  0.426159  0.003941\n",
      "Z           0.655951  11696  0.475078  0.004393\n",
      "\n",
      "\n",
      "            mean_acc  count   std_dev        se\n",
      "model_name                                     \n",
      "X           0.787976   3759  0.408796  0.006668\n",
      "Y           0.720936   3759  0.448599  0.007317\n",
      "Z           0.671721   3759  0.469649  0.007660\n"
     ]
    }
   ],
   "source": [
    "print(summary_mmlu)\n",
    "print(\"\\n\")\n",
    "print(summary_other)"
   ]
  },
  {
   "cell_type": "code",
   "execution_count": 285,
   "id": "d3a176c6",
   "metadata": {},
   "outputs": [
    {
     "data": {
      "image/png": "[encoded data removed]",
      "text/plain": [
       "<Figure size 640x480 with 1 Axes>"
      ]
     },
     "metadata": {},
     "output_type": "display_data"
    }
   ],
   "source": [
    "# B\n",
    "plt.bar(x=summary_mmlu.index, height=summary_mmlu[\"mean_acc\"], yerr=1.96*summary_mmlu[\"se\"])\n",
    "plt.title(\"Dataset MMLU\")\n",
    "plt.xlabel(\"Model name\")\n",
    "plt.ylabel(\"Mean accuracy\")\n",
    "plt.grid(axis=\"y\", linestyle=\"--\", alpha=0.7)\n",
    "plt.show()"
   ]
  },
  {
   "cell_type": "code",
   "execution_count": 286,
   "id": "c008c98b",
   "metadata": {},
   "outputs": [
    {
     "data": {
      "image/png": "[encoded data removed]",
      "text/plain": [
       "<Figure size 640x480 with 1 Axes>"
      ]
     },
     "metadata": {},
     "output_type": "display_data"
    }
   ],
   "source": [
    "plt.bar(x=summary_other.index, height=summary_other[\"mean_acc\"], yerr=1.96*summary_other[\"se\"])\n",
    "plt.title(\"Dataset other\")\n",
    "plt.xlabel(\"Model name\")\n",
    "plt.ylabel(\"Mean accuracy\")\n",
    "plt.grid(axis=\"y\", linestyle=\"--\", alpha=0.7)\n",
    "plt.show()"
   ]
  },
  {
   "cell_type": "markdown",
   "id": "65c9fbfe",
   "metadata": {},
   "source": [
    "C. /Discuss:/"
   ]
  },
  {
   "cell_type": "markdown",
   "id": "c26cf03a",
   "metadata": {},
   "source": [
    "We can definitely conclude that model Z has the worst accuracy in both the dataset but regarding model X and Y they are similar in the mmlu dataset while model X is slightly better in the other dataset"
   ]
  },
  {
   "cell_type": "markdown",
   "id": "eee0ec62-f2d1-4bae-a6f6-221320d602cb",
   "metadata": {},
   "source": [
    "### 2.2 (5 pt)\n",
    "\n",
    "Ms. Sakota has assured you that both datasets contain questions of similar difficulty, so, what could be going on here?\n",
    "\n",
    "A. What is the distribution of correct answers (A, B, C, D) for each dataset? Create a bar chart to visualize this.\n",
    "\n",
    "B. Perform a chi-square test at $\\alpha = 0.05$, of independence to determine if there's a significant difference in the distribution of correct answers between the two datasets. What do you conclude?\n",
    "\n",
    "**hints**:\n",
    "- for (A), keep in mind that df_mmlu and df_other contain the results of all models, i.e., the `question_id` column is duplicated.\n",
    "- for (A), take care to clearly annotate the bar chart, e.g., title, y-label, legend.\n",
    "- for (B), clearly state the null hypothesis and alternative hypothesis\n",
    "- use the `chi2_contingency` function from `scipy.stats`\n",
    "- format your results from answer (A) as a 2D array"
   ]
  },
  {
   "cell_type": "code",
   "execution_count": 302,
   "id": "30b16f70-93e0-4a19-8a6d-b3ae5a75ae65",
   "metadata": {},
   "outputs": [
    {
     "data": {
      "text/plain": [
       "Text(0, 0.5, 'Number of questions')"
      ]
     },
     "execution_count": 302,
     "metadata": {},
     "output_type": "execute_result"
    },
    {
     "data": {
      "image/png": "[encoded data removed]",
      "text/plain": [
       "<Figure size 640x480 with 1 Axes>"
      ]
     },
     "metadata": {},
     "output_type": "display_data"
    }
   ],
   "source": [
    "# A\n",
    "distrib_mmlu=df_mmlu[df_mmlu[\"model_name\"]==\"X\"].groupby(\"answer\")[\"question_id\"].count().rename(\"Number_of_questions\")\n",
    "\n",
    "plt.bar(distrib_mmlu.index, distrib_mmlu, color=plt.cm.viridis(np.linspace(0, 1, len(distrib_mmlu))))\n",
    "plt.title(\"Distribution of correct answer for dataset mmlu\")\n",
    "plt.xlabel(\"Correct answer\")\n",
    "plt.ylabel(\"Number of questions\")"
   ]
  },
  {
   "cell_type": "code",
   "execution_count": 224,
   "id": "8ef0e517",
   "metadata": {},
   "outputs": [
    {
     "data": {
      "text/plain": [
       "Text(0, 0.5, 'Number of questions')"
      ]
     },
     "execution_count": 224,
     "metadata": {},
     "output_type": "execute_result"
    },
    {
     "data": {
      "image/png": "[encoded data removed]",
      "text/plain": [
       "<Figure size 640x480 with 1 Axes>"
      ]
     },
     "metadata": {},
     "output_type": "display_data"
    }
   ],
   "source": [
    "distrib_other=df_other[df_other[\"model_name\"]==\"X\"].groupby(\"answer\")[\"question_id\"].count().rename(\"Number_of_questions\")\n",
    "\n",
    "plt.bar(distrib_other.index, distrib_other, color=plt.cm.viridis(np.linspace(0, 1, len(distrib_other))))\n",
    "plt.title(\"Distribution of correct answer for dataset other\")\n",
    "plt.xlabel(\"Correct answer\")\n",
    "plt.ylabel(\"Number of questions\")"
   ]
  },
  {
   "cell_type": "code",
   "execution_count": 242,
   "id": "92392cd7",
   "metadata": {},
   "outputs": [
    {
     "name": "stdout",
     "output_type": "stream",
     "text": [
      " The pvalue of the test is 4.2708496027951906e-136\n"
     ]
    }
   ],
   "source": [
    "# B\n",
    "distrib=pd.concat([distrib_mmlu,distrib_other], axis=1)\n",
    "distrib\n",
    "chi2_test=sci.chi2_contingency(distrib)\n",
    "print(f\" The pvalue of the test is {chi2_test.pvalue}\")"
   ]
  },
  {
   "cell_type": "markdown",
   "id": "2bd1277e",
   "metadata": {},
   "source": [
    "The pvalue is extremely low, that means that we have evidence to refuse the null hypotesis and hence the 2 variables are not independent"
   ]
  },
  {
   "cell_type": "markdown",
   "id": "2d3125ad-5a7e-44e7-999a-a0ff99855d39",
   "metadata": {},
   "source": [
    "### 2.3 (7 pt)\n",
    "\n",
    "Let's dive in deeper:\n",
    "\n",
    "A. What is language model X's mean accuracy conditioned on the four answer options for each dataset?\n",
    "\n",
    "B. Compare LM X's performance when the correct answer is \"A\" between the two datasets. Use a T-test with CI = 0.95. What do you conclude?\n",
    "\n",
    "C. Compare LM X's performance when the correct answer is \"A\" vs. \"C or D\" for each dataset. Use a T-test with CI = 0.95. What do you conclude?"
   ]
  },
  {
   "cell_type": "code",
   "execution_count": 209,
   "id": "39097a11-8efe-46d1-8bc3-5587bb58d199",
   "metadata": {},
   "outputs": [
    {
     "data": {
      "application/vnd.microsoft.datawrangler.viewer.v0+json": {
       "columns": [
        {
         "name": "index",
         "rawType": "int64",
         "type": "integer"
        },
        {
         "name": "result",
         "rawType": "object",
         "type": "string"
        },
        {
         "name": "question_id",
         "rawType": "int64",
         "type": "integer"
        },
        {
         "name": "question",
         "rawType": "object",
         "type": "string"
        },
        {
         "name": "A",
         "rawType": "object",
         "type": "string"
        },
        {
         "name": "B",
         "rawType": "object",
         "type": "string"
        },
        {
         "name": "C",
         "rawType": "object",
         "type": "string"
        },
        {
         "name": "D",
         "rawType": "object",
         "type": "string"
        },
        {
         "name": "answer",
         "rawType": "object",
         "type": "string"
        },
        {
         "name": "subject",
         "rawType": "object",
         "type": "string"
        },
        {
         "name": "correct",
         "rawType": "bool",
         "type": "boolean"
        },
        {
         "name": "model_name",
         "rawType": "object",
         "type": "string"
        }
       ],
       "ref": "a37484f7-33a8-4c12-a80b-fdb022d326be",
       "rows": [
        [
         "0",
         "B",
         "0",
         "Find the degree for the given field extension Q(sqrt(2), sqrt(3), sqrt(18)) over Q.",
         "0",
         "4",
         "2",
         "6",
         "B",
         "abstract algebra",
         "True",
         "X"
        ],
        [
         "1",
         "C",
         "1",
         "Let p = (1, 2, 5, 4)(2, 3) in S_5 . Find the index of <p> in S_5.",
         "8",
         "2",
         "24",
         "120",
         "C",
         "abstract algebra",
         "True",
         "X"
        ],
        [
         "2",
         "D",
         "2",
         "Find all zeros in the indicated finite field of the given polynomial with coefficients in that field. x^5 + 3x^3 + x^2 + 2x in Z_5",
         "0",
         "1",
         "0,1",
         "0,4",
         "D",
         "abstract algebra",
         "True",
         "X"
        ],
        [
         "3",
         "B",
         "3",
         "Statement 1 | A factor group of a non-Abelian group is non-Abelian. Statement 2 | If K is a normal subgroup of H and H is a normal subgroup of G, then K is a normal subgroup of G.",
         "True, True",
         "False, False",
         "True, False",
         "False, True",
         "B",
         "abstract algebra",
         "True",
         "X"
        ],
        [
         "4",
         "D",
         "7",
         "Statement 1 | A ring homomorphism is one to one if and only if the kernel is {0}. Statement 2 | Q is an ideal in R.",
         "True, True",
         "False, False",
         "True, False",
         "False, True",
         "D",
         "abstract algebra",
         "True",
         "X"
        ]
       ],
       "shape": {
        "columns": 11,
        "rows": 5
       }
      },
      "text/html": [
       "<div>\n",
       "<style scoped>\n",
       "    .dataframe tbody tr th:only-of-type {\n",
       "        vertical-align: middle;\n",
       "    }\n",
       "\n",
       "    .dataframe tbody tr th {\n",
       "        vertical-align: top;\n",
       "    }\n",
       "\n",
       "    .dataframe thead th {\n",
       "        text-align: right;\n",
       "    }\n",
       "</style>\n",
       "<table border=\"1\" class=\"dataframe\">\n",
       "  <thead>\n",
       "    <tr style=\"text-align: right;\">\n",
       "      <th></th>\n",
       "      <th>result</th>\n",
       "      <th>question_id</th>\n",
       "      <th>question</th>\n",
       "      <th>A</th>\n",
       "      <th>B</th>\n",
       "      <th>C</th>\n",
       "      <th>D</th>\n",
       "      <th>answer</th>\n",
       "      <th>subject</th>\n",
       "      <th>correct</th>\n",
       "      <th>model_name</th>\n",
       "    </tr>\n",
       "  </thead>\n",
       "  <tbody>\n",
       "    <tr>\n",
       "      <th>0</th>\n",
       "      <td>B</td>\n",
       "      <td>0</td>\n",
       "      <td>Find the degree for the given field extension ...</td>\n",
       "      <td>0</td>\n",
       "      <td>4</td>\n",
       "      <td>2</td>\n",
       "      <td>6</td>\n",
       "      <td>B</td>\n",
       "      <td>abstract algebra</td>\n",
       "      <td>True</td>\n",
       "      <td>X</td>\n",
       "    </tr>\n",
       "    <tr>\n",
       "      <th>1</th>\n",
       "      <td>C</td>\n",
       "      <td>1</td>\n",
       "      <td>Let p = (1, 2, 5, 4)(2, 3) in S_5 . Find the i...</td>\n",
       "      <td>8</td>\n",
       "      <td>2</td>\n",
       "      <td>24</td>\n",
       "      <td>120</td>\n",
       "      <td>C</td>\n",
       "      <td>abstract algebra</td>\n",
       "      <td>True</td>\n",
       "      <td>X</td>\n",
       "    </tr>\n",
       "    <tr>\n",
       "      <th>2</th>\n",
       "      <td>D</td>\n",
       "      <td>2</td>\n",
       "      <td>Find all zeros in the indicated finite field o...</td>\n",
       "      <td>0</td>\n",
       "      <td>1</td>\n",
       "      <td>0,1</td>\n",
       "      <td>0,4</td>\n",
       "      <td>D</td>\n",
       "      <td>abstract algebra</td>\n",
       "      <td>True</td>\n",
       "      <td>X</td>\n",
       "    </tr>\n",
       "    <tr>\n",
       "      <th>3</th>\n",
       "      <td>B</td>\n",
       "      <td>3</td>\n",
       "      <td>Statement 1 | A factor group of a non-Abelian ...</td>\n",
       "      <td>True, True</td>\n",
       "      <td>False, False</td>\n",
       "      <td>True, False</td>\n",
       "      <td>False, True</td>\n",
       "      <td>B</td>\n",
       "      <td>abstract algebra</td>\n",
       "      <td>True</td>\n",
       "      <td>X</td>\n",
       "    </tr>\n",
       "    <tr>\n",
       "      <th>4</th>\n",
       "      <td>D</td>\n",
       "      <td>7</td>\n",
       "      <td>Statement 1 | A ring homomorphism is one to on...</td>\n",
       "      <td>True, True</td>\n",
       "      <td>False, False</td>\n",
       "      <td>True, False</td>\n",
       "      <td>False, True</td>\n",
       "      <td>D</td>\n",
       "      <td>abstract algebra</td>\n",
       "      <td>True</td>\n",
       "      <td>X</td>\n",
       "    </tr>\n",
       "  </tbody>\n",
       "</table>\n",
       "</div>"
      ],
      "text/plain": [
       "  result  question_id                                           question  \\\n",
       "0      B            0  Find the degree for the given field extension ...   \n",
       "1      C            1  Let p = (1, 2, 5, 4)(2, 3) in S_5 . Find the i...   \n",
       "2      D            2  Find all zeros in the indicated finite field o...   \n",
       "3      B            3  Statement 1 | A factor group of a non-Abelian ...   \n",
       "4      D            7  Statement 1 | A ring homomorphism is one to on...   \n",
       "\n",
       "            A             B            C            D answer  \\\n",
       "0           0             4            2            6      B   \n",
       "1           8             2           24          120      C   \n",
       "2           0             1          0,1          0,4      D   \n",
       "3  True, True  False, False  True, False  False, True      B   \n",
       "4  True, True  False, False  True, False  False, True      D   \n",
       "\n",
       "            subject  correct model_name  \n",
       "0  abstract algebra     True          X  \n",
       "1  abstract algebra     True          X  \n",
       "2  abstract algebra     True          X  \n",
       "3  abstract algebra     True          X  \n",
       "4  abstract algebra     True          X  "
      ]
     },
     "execution_count": 209,
     "metadata": {},
     "output_type": "execute_result"
    }
   ],
   "source": [
    "# A\n",
    "df_mmlu.head()"
   ]
  },
  {
   "cell_type": "code",
   "execution_count": 248,
   "id": "6673923d",
   "metadata": {},
   "outputs": [
    {
     "data": {
      "application/vnd.microsoft.datawrangler.viewer.v0+json": {
       "columns": [
        {
         "name": "answer",
         "rawType": "object",
         "type": "string"
        },
        {
         "name": "mean_acc",
         "rawType": "float64",
         "type": "float"
        }
       ],
       "ref": "6b1ebe83-5fff-49e2-bfa9-31001384bc61",
       "rows": [
        [
         "A",
         "0.9726877715704532"
        ],
        [
         "B",
         "0.799184505606524"
        ],
        [
         "C",
         "0.7079047898912724"
        ],
        [
         "D",
         "0.6335918694838192"
        ]
       ],
       "shape": {
        "columns": 1,
        "rows": 4
       }
      },
      "text/plain": [
       "answer\n",
       "A    0.972688\n",
       "B    0.799185\n",
       "C    0.707905\n",
       "D    0.633592\n",
       "Name: mean_acc, dtype: float64"
      ]
     },
     "execution_count": 248,
     "metadata": {},
     "output_type": "execute_result"
    }
   ],
   "source": [
    "mean_acc_mmlu_X_by_answer = (\n",
    "        df_mmlu[df_mmlu[\"model_name\"]==\"X\"].groupby(\"answer\")[\"correct\"]\n",
    "        .agg(\"mean\")\n",
    "        .rename(\"mean_acc\"))\n",
    "mean_acc_mmlu_X_by_answer"
   ]
  },
  {
   "cell_type": "code",
   "execution_count": 249,
   "id": "3a235ef8",
   "metadata": {},
   "outputs": [
    {
     "data": {
      "application/vnd.microsoft.datawrangler.viewer.v0+json": {
       "columns": [
        {
         "name": "answer",
         "rawType": "object",
         "type": "string"
        },
        {
         "name": "mean_acc",
         "rawType": "float64",
         "type": "float"
        }
       ],
       "ref": "952db75f-a887-4409-88cb-b62ac810b065",
       "rows": [
        [
         "A",
         "0.974025974025974"
        ],
        [
         "B",
         "0.8064516129032258"
        ],
        [
         "C",
         "0.6764069264069265"
        ],
        [
         "D",
         "0.6037441497659907"
        ]
       ],
       "shape": {
        "columns": 1,
        "rows": 4
       }
      },
      "text/plain": [
       "answer\n",
       "A    0.974026\n",
       "B    0.806452\n",
       "C    0.676407\n",
       "D    0.603744\n",
       "Name: mean_acc, dtype: float64"
      ]
     },
     "execution_count": 249,
     "metadata": {},
     "output_type": "execute_result"
    }
   ],
   "source": [
    "mean_acc_other_X_by_answer = (\n",
    "        df_other[df_other[\"model_name\"]==\"X\"].groupby(\"answer\")[\"correct\"]\n",
    "        .agg(\"mean\")\n",
    "        .rename(\"mean_acc\"))\n",
    "mean_acc_other_X_by_answer"
   ]
  },
  {
   "cell_type": "code",
   "execution_count": null,
   "id": "9ae67c09",
   "metadata": {},
   "outputs": [
    {
     "data": {
      "text/plain": [
       "np.float64(0.8332191972699248)"
      ]
     },
     "execution_count": 268,
     "metadata": {},
     "output_type": "execute_result"
    }
   ],
   "source": [
    "# B\n",
    "a=df_mmlu[(df_mmlu[\"model_name\"]==\"X\") & (df_mmlu[\"answer\"]==\"A\")][\"correct\"]\n",
    "b=df_other[(df_other[\"model_name\"]==\"X\") & (df_other[\"answer\"]==\"A\")][\"correct\"]\n",
    "\n",
    "sci.ttest_ind(a,b).pvalue\n"
   ]
  },
  {
   "cell_type": "markdown",
   "id": "9f8e20a6",
   "metadata": {},
   "source": [
    "The p-value is >0.05 so it means that we have no evidence to refuse the null hypotesis \"The means of the 2 samples are different\""
   ]
  },
  {
   "cell_type": "code",
   "execution_count": 270,
   "id": "636af6a6",
   "metadata": {},
   "outputs": [
    {
     "name": "stdout",
     "output_type": "stream",
     "text": [
      "The p-value for the mmlu dataset is 5.334906497224946e-139 \n",
      "\n",
      "The p-value for the other dataset is 5.900859805611251e-96 \n",
      "\n"
     ]
    }
   ],
   "source": [
    "# C\n",
    "a_mmlu=df_mmlu[(df_mmlu[\"model_name\"]==\"X\") & (df_mmlu[\"answer\"]==\"A\")][\"correct\"]\n",
    "b_mmlu=df_mmlu[(df_mmlu[\"model_name\"]==\"X\") & ((df_mmlu[\"answer\"]==\"C\") | (df_mmlu[\"answer\"]==\"D\"))][\"correct\"]\n",
    "\n",
    "pvalue_mmlu=sci.ttest_ind(a_mmlu,b_mmlu).pvalue\n",
    "\n",
    "a_other=df_other[(df_other[\"model_name\"]==\"X\") & (df_other[\"answer\"]==\"A\")][\"correct\"]\n",
    "b_other=df_other[(df_other[\"model_name\"]==\"X\") & ((df_other[\"answer\"]==\"C\") | (df_other[\"answer\"]==\"D\"))][\"correct\"]\n",
    "\n",
    "pvalue_other=sci.ttest_ind(a_other,b_other).pvalue\n",
    "\n",
    "print(f\"The p-value for the mmlu dataset is {pvalue_mmlu} \\n\")\n",
    "print(f\"The p-value for the other dataset is {pvalue_other} \\n\")\n"
   ]
  },
  {
   "cell_type": "markdown",
   "id": "d0b31bd0",
   "metadata": {},
   "source": [
    "Both the p-value are extremely low. There is statistical evidence to refuse the null hypotesis, hence the mean accuracy for answer \"A\" is different from mean accuracy for answer\"C\" or \"D\""
   ]
  },
  {
   "cell_type": "markdown",
   "id": "33848ff9-2604-4e48-b5df-3207dc81e9a9",
   "metadata": {},
   "source": [
    "### 2.4 (2 pt)\n",
    "\n",
    "What an intriguing finding! \n",
    "\n",
    "A. Print the mean accuracies conditioned on the correct answer for all LMs for each dataset.\n",
    "\n",
    "B. /Discuss:/ What do you observe?"
   ]
  },
  {
   "cell_type": "code",
   "execution_count": 272,
   "id": "ec53ce2c-866e-440a-ac79-7813cb756782",
   "metadata": {},
   "outputs": [
    {
     "data": {
      "application/vnd.microsoft.datawrangler.viewer.v0+json": {
       "columns": [
        {
         "name": "('model_name', 'answer')",
         "rawType": "object",
         "type": "unknown"
        },
        {
         "name": "mean_acc",
         "rawType": "float64",
         "type": "float"
        }
       ],
       "ref": "f5e18b50-cb1a-490d-b9d6-fb34e699c515",
       "rows": [
        [
         "('X', 'A')",
         "0.9726877715704532"
        ],
        [
         "('X', 'B')",
         "0.799184505606524"
        ],
        [
         "('X', 'C')",
         "0.7079047898912724"
        ],
        [
         "('X', 'D')",
         "0.6335918694838192"
        ],
        [
         "('Y', 'A')",
         "0.6238361266294227"
        ],
        [
         "('Y', 'B')",
         "0.6880733944954128"
        ],
        [
         "('Y', 'C')",
         "0.7334704672347928"
        ],
        [
         "('Y', 'D')",
         "0.9042524739235089"
        ],
        [
         "('Z', 'A')",
         "0.6430788330229671"
        ],
        [
         "('Z', 'B')",
         "0.6411824668705403"
        ],
        [
         "('Z', 'C')",
         "0.6691154863355863"
        ],
        [
         "('Z', 'D')",
         "0.6611393420700722"
        ]
       ],
       "shape": {
        "columns": 1,
        "rows": 12
       }
      },
      "text/plain": [
       "model_name  answer\n",
       "X           A         0.972688\n",
       "            B         0.799185\n",
       "            C         0.707905\n",
       "            D         0.633592\n",
       "Y           A         0.623836\n",
       "            B         0.688073\n",
       "            C         0.733470\n",
       "            D         0.904252\n",
       "Z           A         0.643079\n",
       "            B         0.641182\n",
       "            C         0.669115\n",
       "            D         0.661139\n",
       "Name: mean_acc, dtype: float64"
      ]
     },
     "execution_count": 272,
     "metadata": {},
     "output_type": "execute_result"
    }
   ],
   "source": [
    "# A\n",
    "mean_acc_mmlu_by_answer = (\n",
    "        df_mmlu.groupby([\"model_name\",\"answer\"])[\"correct\"]\n",
    "        .agg(\"mean\")\n",
    "        .rename(\"mean_acc\"))\n",
    "mean_acc_mmlu_by_answer"
   ]
  },
  {
   "cell_type": "code",
   "execution_count": 273,
   "id": "ffd72a02",
   "metadata": {},
   "outputs": [
    {
     "data": {
      "application/vnd.microsoft.datawrangler.viewer.v0+json": {
       "columns": [
        {
         "name": "('model_name', 'answer')",
         "rawType": "object",
         "type": "unknown"
        },
        {
         "name": "mean_acc",
         "rawType": "float64",
         "type": "float"
        }
       ],
       "ref": "a344d2a5-d899-47d8-88a9-71662324c687",
       "rows": [
        [
         "('X', 'A')",
         "0.974025974025974"
        ],
        [
         "('X', 'B')",
         "0.8064516129032258"
        ],
        [
         "('X', 'C')",
         "0.6764069264069265"
        ],
        [
         "('X', 'D')",
         "0.6037441497659907"
        ],
        [
         "('Y', 'A')",
         "0.6252319109461967"
        ],
        [
         "('Y', 'B')",
         "0.6639784946236559"
        ],
        [
         "('Y', 'C')",
         "0.762987012987013"
        ],
        [
         "('Y', 'D')",
         "0.9204368174726989"
        ],
        [
         "('Z', 'A')",
         "0.6808905380333952"
        ],
        [
         "('Z', 'B')",
         "0.6675627240143369"
        ],
        [
         "('Z', 'C')",
         "0.6623376623376623"
        ],
        [
         "('Z', 'D')",
         "0.6770670826833073"
        ]
       ],
       "shape": {
        "columns": 1,
        "rows": 12
       }
      },
      "text/plain": [
       "model_name  answer\n",
       "X           A         0.974026\n",
       "            B         0.806452\n",
       "            C         0.676407\n",
       "            D         0.603744\n",
       "Y           A         0.625232\n",
       "            B         0.663978\n",
       "            C         0.762987\n",
       "            D         0.920437\n",
       "Z           A         0.680891\n",
       "            B         0.667563\n",
       "            C         0.662338\n",
       "            D         0.677067\n",
       "Name: mean_acc, dtype: float64"
      ]
     },
     "execution_count": 273,
     "metadata": {},
     "output_type": "execute_result"
    }
   ],
   "source": [
    "mean_acc_other_by_answer = (\n",
    "        df_other.groupby([\"model_name\",\"answer\"])[\"correct\"]\n",
    "        .agg(\"mean\")\n",
    "        .rename(\"mean_acc\"))\n",
    "mean_acc_other_by_answer"
   ]
  },
  {
   "cell_type": "markdown",
   "id": "4ce58e47",
   "metadata": {},
   "source": [
    "B. /Discuss:/"
   ]
  },
  {
   "cell_type": "markdown",
   "id": "a269d8e9",
   "metadata": {},
   "source": [
    "The mean accuracy for model X when the real answer is \"A\" is significantly higher than the two other models. This contributes to increase the general accuracy in the second dataset, where the number of question with correct answer \"A\" is the most. \n",
    "\n",
    "The same is true for model Y with real answer \"D\"\n",
    "\n",
    "The model Z has lower accuracy independently on the real answer"
   ]
  },
  {
   "cell_type": "markdown",
   "id": "ccdd9d3c-5a03-4b30-84f7-a7dfbee1373e",
   "metadata": {},
   "source": [
    "### 2.5 (2 pt)\n",
    "\n",
    "Concerned with your findings so far, you quickly consult with Ms. Sakota. After thinking it over, Ms. Sakota concludes that more tests are needed. She orders a second round of MMLU results. However, the clever Ms. Sakota thinks of the following twist: while keeping questions fixed, she randomly permutes the position of the correct answer. The new results can be found in the folder `data/task_2_5/`:\n",
    "```\n",
    "task_2_5/\n",
    "│\n",
    "└── lm_scores_mmlu_shuffle.csv\n",
    "```\n",
    "\n",
    "/Discuss:/ Why would Ms. Sakota do this?"
   ]
  },
  {
   "cell_type": "markdown",
   "id": "64cc586a",
   "metadata": {},
   "source": [
    "/Discuss:/\n",
    "\n",
    "Randomly permuting the position of the correct answer could balance the distribution of the dataset and let emerge the real accuracy for each model\n",
    "\n",
    "Futhrmore a model could have been trained with a dataset where one specific answer was more prevalent so it is likely to predict that answer for another dataset. If the test dataset is unbalenced we could have an increas (or decrease) of the performance of the model"
   ]
  },
  {
   "cell_type": "markdown",
   "id": "b9150ae0-dbaa-4c88-bf80-ec03127c6945",
   "metadata": {},
   "source": [
    "### 2.6 (4 pt)\n",
    "\n",
    "Increasingly sceptical of the language models' performance, you read up on proper testing practices. You stumble upon the concept of [test-rested stability](https://en.wikipedia.org/wiki/Repeatability), which roughtly states that:\n",
    "\n",
    "\"_Measurements taken by a single person or instrument on the same item, under the same conditions, and in a short period of time, should have the same results._\"\n",
    "\n",
    "In our case, we would assume an LM would have the same performance on a given question regardless of the correct answer position. One way of testing this is by using the following metric:\n",
    "\n",
    "$$\\text{test-retest metric} = \\frac{1}{N}\\sum_{i=1}^N \\frac{1}{M}\\sum_{j=1}^M c^i_0 c_j^i,$$\n",
    "\n",
    "where $c^i_0 \\in \\{0, 1\\}$ indicates whether the model answers the $i^{\\text{th}}$ question correctly (1 if correct, 0 if incorrect). $c_j^i$ indicates whether the model answers the $i^{\\text{th}}$ question correctly in the $j^{\\text{th}}$ shuffled version of the answer label content. Finally, $M$ is the total number of shuffles and $N$ is the dataset size.\n",
    "\n",
    "Task: compute the test-retest metric for each language model using the original `lm_scores_mmlu.csv` file and the new `lm_scores_mmlu_shuffle.csv` file. Using a bar plot, visualize your results by comparing the accuracy of the original `lm_scores_mmlu.csv` and the test-retest scores.\n",
    "\n",
    "**hints**\n",
    "- what is $M$ in our case?\n",
    "\n",
    "(bonus: no points, but so much sweet, sweet knowledge - check out [the following article](https://arxiv.org/pdf/2406.19470v1))"
   ]
  },
  {
   "cell_type": "code",
   "execution_count": 275,
   "id": "03037d8a",
   "metadata": {},
   "outputs": [],
   "source": [
    "lm_scores_mmlu_shuffle=pd.read_csv(\"task_2_5/lm_scores_mmlu_shuffle.csv\")"
   ]
  },
  {
   "cell_type": "code",
   "execution_count": 281,
   "id": "5b55fcfc-6de9-4cd3-bf2d-bde399ae2fbc",
   "metadata": {},
   "outputs": [],
   "source": [
    "test_retest_X=np.mean(df_mmlu[df_mmlu[\"model_name\"]==\"X\"][\"correct\"]*lm_scores_mmlu_shuffle[lm_scores_mmlu_shuffle[\"model_name\"]==\"X\"][\"correct\"])\n",
    "test_retest_Y=np.mean(df_mmlu[df_mmlu[\"model_name\"]==\"Y\"][\"correct\"]*lm_scores_mmlu_shuffle[lm_scores_mmlu_shuffle[\"model_name\"]==\"Y\"][\"correct\"])\n",
    "test_retest_Z=np.mean(df_mmlu[df_mmlu[\"model_name\"]==\"Z\"][\"correct\"]*lm_scores_mmlu_shuffle[lm_scores_mmlu_shuffle[\"model_name\"]==\"Z\"][\"correct\"])"
   ]
  },
  {
   "cell_type": "code",
   "execution_count": null,
   "id": "f55de775",
   "metadata": {},
   "outputs": [
    {
     "data": {
      "image/png": "[encoded data removed]",
      "text/plain": [
       "<Figure size 1000x500 with 1 Axes>"
      ]
     },
     "metadata": {},
     "output_type": "display_data"
    }
   ],
   "source": [
    "x_labels = summary_mmlu.index\n",
    "x = np.arange(len(x_labels)) \n",
    "\n",
    "width = 0.35 \n",
    "\n",
    "plt.figure(figsize=(10, 5))\n",
    "\n",
    "plt.bar(\n",
    "    x - width/2,\n",
    "    summary_mmlu[\"mean_acc\"],\n",
    "    width=width,\n",
    "    yerr=1.96*summary_mmlu[\"se\"],\n",
    "    capsize=5,\n",
    "    label=\"Mean accuracy\"\n",
    ")\n",
    "\n",
    "test_retest_values = [test_retest_X, test_retest_Y, test_retest_Z]\n",
    "plt.bar(\n",
    "    x + width/2,\n",
    "    test_retest_values,\n",
    "    width=width,\n",
    "    label=\"Test-retest\"\n",
    ")\n",
    "\n",
    "plt.xticks(x, x_labels)\n",
    "plt.ylabel(\"Accuracy\")\n",
    "plt.xlabel(\"Model name\")\n",
    "plt.title(\"Comparison: Mean accuracy vs Test-retest\")\n",
    "plt.grid(axis=\"y\", linestyle=\"--\", alpha=0.7)\n",
    "plt.legend()\n",
    "plt.tight_layout()\n",
    "plt.show()"
   ]
  },
  {
   "cell_type": "markdown",
   "id": "b70bee6e-0c81-4f5a-b1a8-16a96aa2ae17",
   "metadata": {},
   "source": [
    "### 2.7 (2 pt)\n",
    "\n",
    "A. Using the unshuffled data: For each LM, print the distribution of the answers they give as well as the accuracy conditioned on the answer they give.\n",
    "\n",
    "B. /Discuss:/ Describe what you observe\n",
    "\n",
    "[bonus: not scored, but again _that sweet, sweet knowledge_] Could you think of a plausible explanation?"
   ]
  },
  {
   "cell_type": "code",
   "execution_count": 305,
   "id": "4956581b-d047-46cb-ae71-1508a9a0b466",
   "metadata": {},
   "outputs": [
    {
     "data": {
      "image/png": "[encoded data removed]",
      "text/plain": [
       "<Figure size 1400x500 with 2 Axes>"
      ]
     },
     "metadata": {},
     "output_type": "display_data"
    }
   ],
   "source": [
    "# A\n",
    "distrib_mmlu=df_mmlu[df_mmlu[\"model_name\"]==\"X\"].groupby(\"result\")[\"question_id\"].count().rename(\"Number_of_questions\")\n",
    "\n",
    "fig, axes = plt.subplots(1, 2, figsize=(14, 5))  \n",
    "\n",
    "axes[0].bar(\n",
    "    distrib_mmlu.index,\n",
    "    distrib_mmlu,\n",
    "    color=plt.cm.viridis(np.linspace(0, 1, len(distrib_mmlu)))\n",
    ")\n",
    "axes[0].set_title(\"Distribution of the given answer for dataset MMLU by model X\", fontsize=10)\n",
    "axes[0].set_xlabel(\"Given answer\")\n",
    "axes[0].set_ylabel(\"Number of answers\")\n",
    "axes[0].grid(axis=\"y\", linestyle=\"--\", alpha=0.7)\n",
    "\n",
    "axes[1].bar(\n",
    "    mean_acc_mmlu_X_by_answer.index,\n",
    "    mean_acc_mmlu_X_by_answer,\n",
    "    color=plt.cm.viridis(np.linspace(0, 1, len(mean_acc_mmlu_X_by_answer)))\n",
    ")\n",
    "axes[1].set_title(\"Mean accuracy of the given answer for dataset MMLU by model X\", fontsize=10)\n",
    "axes[1].set_xlabel(\"Given answer\")\n",
    "axes[1].set_ylabel(\"Mean accuracy\")\n",
    "axes[1].grid(axis=\"y\", linestyle=\"--\", alpha=0.7)\n",
    "\n",
    "plt.tight_layout()\n",
    "plt.show()"
   ]
  },
  {
   "cell_type": "code",
   "execution_count": 307,
   "id": "6d2b2739",
   "metadata": {},
   "outputs": [
    {
     "data": {
      "image/png": "[encoded data removed]",
      "text/plain": [
       "<Figure size 1400x500 with 2 Axes>"
      ]
     },
     "metadata": {},
     "output_type": "display_data"
    }
   ],
   "source": [
    "distrib_mmlu=df_mmlu[df_mmlu[\"model_name\"]==\"Y\"].groupby(\"result\")[\"question_id\"].count().rename(\"Number_of_questions\")\n",
    "mean_acc_mmlu_Y_by_answer = (\n",
    "        df_mmlu[df_mmlu[\"model_name\"]==\"Y\"].groupby(\"answer\")[\"correct\"]\n",
    "        .agg(\"mean\")\n",
    "        .rename(\"mean_acc\"))\n",
    "\n",
    "fig, axes = plt.subplots(1, 2, figsize=(14, 5))  \n",
    "\n",
    "axes[0].bar(\n",
    "    distrib_mmlu.index,\n",
    "    distrib_mmlu,\n",
    "    color=plt.cm.viridis(np.linspace(0, 1, len(distrib_mmlu)))\n",
    ")\n",
    "axes[0].set_title(\"Distribution of the given answer for dataset MMLU by model Y\", fontsize=10)\n",
    "axes[0].set_xlabel(\"Given answer\")\n",
    "axes[0].set_ylabel(\"Number of answers\")\n",
    "axes[0].grid(axis=\"y\", linestyle=\"--\", alpha=0.7)\n",
    "\n",
    "axes[1].bar(\n",
    "    mean_acc_mmlu_Y_by_answer.index,\n",
    "    mean_acc_mmlu_Y_by_answer,\n",
    "    color=plt.cm.viridis(np.linspace(0, 1, len(mean_acc_mmlu_X_by_answer)))\n",
    ")\n",
    "axes[1].set_title(\"Mean accuracy of the given answer for dataset MMLU by model Y\", fontsize=10)\n",
    "axes[1].set_xlabel(\"Given answer\")\n",
    "axes[1].set_ylabel(\"Mean accuracy\")\n",
    "axes[1].grid(axis=\"y\", linestyle=\"--\", alpha=0.7)\n",
    "\n",
    "plt.tight_layout()\n",
    "plt.show()"
   ]
  },
  {
   "cell_type": "code",
   "execution_count": 308,
   "id": "211733ee",
   "metadata": {},
   "outputs": [
    {
     "data": {
      "image/png": "[encoded data removed]",
      "text/plain": [
       "<Figure size 1400x500 with 2 Axes>"
      ]
     },
     "metadata": {},
     "output_type": "display_data"
    }
   ],
   "source": [
    "distrib_mmlu=df_mmlu[df_mmlu[\"model_name\"]==\"Z\"].groupby(\"result\")[\"question_id\"].count().rename(\"Number_of_questions\")\n",
    "mean_acc_mmlu_Z_by_answer = (\n",
    "        df_mmlu[df_mmlu[\"model_name\"]==\"Z\"].groupby(\"answer\")[\"correct\"]\n",
    "        .agg(\"mean\")\n",
    "        .rename(\"mean_acc\"))\n",
    "\n",
    "fig, axes = plt.subplots(1, 2, figsize=(14, 5))  \n",
    "\n",
    "axes[0].bar(\n",
    "    distrib_mmlu.index,\n",
    "    distrib_mmlu,\n",
    "    color=plt.cm.viridis(np.linspace(0, 1, len(distrib_mmlu)))\n",
    ")\n",
    "axes[0].set_title(\"Distribution of the given answer for dataset MMLU by model Z\", fontsize=10)\n",
    "axes[0].set_xlabel(\"Given answer\")\n",
    "axes[0].set_ylabel(\"Number of answers\")\n",
    "axes[0].grid(axis=\"y\", linestyle=\"--\", alpha=0.7)\n",
    "\n",
    "axes[1].bar(\n",
    "    mean_acc_mmlu_Z_by_answer.index,\n",
    "    mean_acc_mmlu_Z_by_answer,\n",
    "    color=plt.cm.viridis(np.linspace(0, 1, len(mean_acc_mmlu_X_by_answer)))\n",
    ")\n",
    "axes[1].set_title(\"Mean accuracy of the given answer for dataset MMLU by model Z\", fontsize=10)\n",
    "axes[1].set_xlabel(\"Given answer\")\n",
    "axes[1].set_ylabel(\"Mean accuracy\")\n",
    "axes[1].grid(axis=\"y\", linestyle=\"--\", alpha=0.7)\n",
    "\n",
    "plt.tight_layout()\n",
    "plt.show()"
   ]
  },
  {
   "cell_type": "markdown",
   "id": "65639228",
   "metadata": {},
   "source": [
    "B. /Discuss:/\n",
    "\n"
   ]
  },
  {
   "cell_type": "markdown",
   "id": "ce3186fe-ef8e-4af3-9a07-a6081d454e5a",
   "metadata": {},
   "source": [
    "## Task 3 (16 points): What do Questions and Answers look like for a Language Model?\n",
    "\n",
    "While you feel pretty good about the tests you conducted so far, something still bothers you: what if the language models don't see the data like you do? Suddenly, you receive a phone call from a wise AI sage in the West, _Westoda_:\n",
    "\n",
    "```\n",
    "\"Hmm, correct you are, young padawan, to question how the world is seen by large language models! Simple 'text' it is not, hmm? No, no, no! Characters and words, the way of puny humans, this is not, heh heh heh.\n",
    "\n",
    "'Tokens', they use, yes! Mysterious and powerful, these tokens are. Expand our vocabulary, they do, beyond the simple 'a to Z'. Chunky blocks of text, they become, yes! 'Hello world', a simple phrase it may seem. But to a language model, '[24912, 2375]' it might appear, yes! Confusing, it is, hmm?\n",
    "\n",
    "Wise, it would be, to explore these MMLU data points through the eyes of a language model, you think? Yes, yes! Much to learn, there is. The ways of the tokens, understand you must, if truly comprehend the great LMs, you wish to.\n",
    "Meditate on this, you should. The force of natural language processing, strong it is. But patience, you must have, my young padawan. For only through great study and contemplation, will the mysteries of the tokens reveal themselves to you, they will. Yes, hmmm!\"\n",
    "```\n",
    "\n",
    "Admittingly, Westoda at times speaks in riddles… However, he was explaining a crucial aspect of modern LMs called [Tokenization](https://learn.microsoft.com/en-us/dotnet/ai/conceptual/understanding-tokens):\n",
    "\n",
    "\n",
    "“Tokens are words, character sets, or combinations of words and punctuation that are used by [language models (LMs)] to decompose text into. Tokenization is the first step in training”\n",
    "\n",
    "Instead of characters, LMs process natural language using “tokens”. While this is useful for a number of reasons, it does at times introduce some “unintuitive” behavior…"
   ]
  },
  {
   "cell_type": "code",
   "execution_count": 309,
   "id": "e2c66517-938b-4331-9eea-1b23fe4ad9e7",
   "metadata": {},
   "outputs": [
    {
     "name": "stdout",
     "output_type": "stream",
     "text": [
      "humans see: \"hello world\" --> language models see: [24912, 2375]\n"
     ]
    }
   ],
   "source": [
    "# PROVIDED CODE\n",
    "\n",
    "try:\n",
    "    import tiktoken\n",
    "except Exception as e:\n",
    "    print('installing tiktoken package')\n",
    "    \n",
    "    !pip install tiktoken\n",
    "    \n",
    "    import tiktoken\n",
    "\n",
    "def tokenize_text(s):\n",
    "    enc = tiktoken.encoding_for_model('gpt-4o')\n",
    "    tokens = enc.encode(str(s))\n",
    "    return tokens\n",
    "\n",
    "example_string = 'hello world'\n",
    "print(f'humans see: \"{example_string}\" --> language models see: {tokenize_text(example_string)}')"
   ]
  },
  {
   "cell_type": "markdown",
   "id": "3c8019ee-7d52-496f-afff-c96f2f9db08c",
   "metadata": {},
   "source": [
    "### 3.1 (5 pt)\n",
    "\n",
    "Use the provided code in the cell above to \"see the world through the eyes of a language model\":\n",
    "\n",
    "A. Tokenize the questions of the original MMLU data provided in task 1: `task_1/mmlu_data/test.csv` and plot the token distribution (the frequency of each token).\n",
    "\n",
    "B. Same as (A), but now for the answers in columns (columns \"A\", \"B\", \"C\", and \"D\").\n",
    "\n",
    "C. Isolate the tokens for the strings \"A\", \"B\", \"C\", and \"D\", then, for their occurances in both questions and answers, print their relative distribution to each other.\n",
    "\n",
    "**hint**\n",
    "- There are a _lot_ of tokens, consider using a cutoff point and log scale\n",
    "- For (c), they should sum to 1"
   ]
  },
  {
   "cell_type": "code",
   "execution_count": 364,
   "id": "a9a1e97b-3a31-41b1-a9c3-fb84cb1740d9",
   "metadata": {},
   "outputs": [
    {
     "data": {
      "image/png": "[encoded data removed]",
      "text/plain": [
       "<Figure size 640x480 with 1 Axes>"
      ]
     },
     "metadata": {},
     "output_type": "display_data"
    }
   ],
   "source": [
    "# A\n",
    "tokens_quest=[token for string in df_test[\"question\"] for token in tokenize_text(string)]\n",
    "\n",
    "bin_width = 500\n",
    "bins = np.arange(0, max(tokens_quest) + bin_width, bin_width)\n",
    "plt.hist(tokens_quest, bins=bins)\n",
    "plt.xscale(\"log\")"
   ]
  },
  {
   "cell_type": "code",
   "execution_count": 365,
   "id": "fe1f8be8",
   "metadata": {},
   "outputs": [
    {
     "data": {
      "image/png": "[encoded data removed]",
      "text/plain": [
       "<Figure size 640x480 with 1 Axes>"
      ]
     },
     "metadata": {},
     "output_type": "display_data"
    }
   ],
   "source": [
    "# B\n",
    "tokens_col_A=[token for string in df_test[\"A\"] for token in tokenize_text(string)]\n",
    "bin_width = 500\n",
    "bins = np.arange(0, max(tokens_col_A) + bin_width, bin_width)\n",
    "plt.hist(tokens_col_A, bins=bins)\n",
    "plt.xscale(\"log\")"
   ]
  },
  {
   "cell_type": "code",
   "execution_count": 366,
   "id": "86f8b7e4",
   "metadata": {},
   "outputs": [
    {
     "data": {
      "image/png": "[encoded data removed]",
      "text/plain": [
       "<Figure size 640x480 with 1 Axes>"
      ]
     },
     "metadata": {},
     "output_type": "display_data"
    }
   ],
   "source": [
    "tokens_col_B=[token for string in df_test[\"B\"] for token in tokenize_text(string)]\n",
    "bin_width = 500\n",
    "bins = np.arange(0, max(tokens_col_B) + bin_width, bin_width)\n",
    "plt.hist(tokens_col_B, bins=bins)\n",
    "plt.xscale(\"log\")"
   ]
  },
  {
   "cell_type": "code",
   "execution_count": 367,
   "id": "d5da2cc6",
   "metadata": {},
   "outputs": [
    {
     "data": {
      "image/png": "[encoded data removed]",
      "text/plain": [
       "<Figure size 640x480 with 1 Axes>"
      ]
     },
     "metadata": {},
     "output_type": "display_data"
    }
   ],
   "source": [
    "tokens_col_C=[token for string in df_test[\"C\"] for token in tokenize_text(string)]\n",
    "bin_width = 500\n",
    "bins = np.arange(0, max(tokens_col_C) + bin_width, bin_width)\n",
    "plt.hist(tokens_col_C, bins=bins)\n",
    "plt.xscale(\"log\")"
   ]
  },
  {
   "cell_type": "code",
   "execution_count": 368,
   "id": "0339c23e",
   "metadata": {},
   "outputs": [
    {
     "data": {
      "image/png": "[encoded data removed]",
      "text/plain": [
       "<Figure size 640x480 with 1 Axes>"
      ]
     },
     "metadata": {},
     "output_type": "display_data"
    }
   ],
   "source": [
    "tokens_col_D=[token for string in df_test[\"D\"] for token in tokenize_text(string)]\n",
    "bin_width = 500\n",
    "bins = np.arange(0, max(tokens_col_D) + bin_width, bin_width)\n",
    "plt.hist(tokens_col_D, bins=bins)\n",
    "plt.xscale(\"log\")"
   ]
  },
  {
   "cell_type": "code",
   "execution_count": 389,
   "id": "cd392df7",
   "metadata": {},
   "outputs": [
    {
     "name": "stdout",
     "output_type": "stream",
     "text": [
      "Relative distribution of letter A is 0.792\n",
      "Relative distribution of letter B is 0.060\n",
      "Relative distribution of letter C is 0.102\n",
      "Relative distribution of letter D is 0.047\n"
     ]
    }
   ],
   "source": [
    "# C\n",
    "letters=[\"A\", \"B\", \"C\", \"D\"]\n",
    "token_list_ABCD = [tokenize_text(letter) for letter in letters]\n",
    "counts=[tokens_quest.count(token[0])+tokens_col_A.count(token[0]) + tokens_col_B.count(token[0])+ tokens_col_C.count(token[0])+ tokens_col_D.count(token[0]) for token in token_list_ABCD]\n",
    "occurrence=np.sum(counts)\n",
    "for i,letter in enumerate(letters):\n",
    "    print(f\"Relative distribution of letter {letter} is {counts[i]/occurrence:.3f}\")\n"
   ]
  },
  {
   "cell_type": "markdown",
   "id": "a674929c-68e1-4cd8-97b3-efa0cdae4874",
   "metadata": {},
   "source": [
    "### 3.2 (3 pt)\n",
    "\n",
    "What if the number of \"A\", \"B\", \"C\", and \"D\" tokens in the question and answer pairs could influence a language model's decisions?\n",
    "\n",
    "A. For each combined question-answers pair, compute: \n",
    "1. the number of \"A\", \"B\", \"C\", and \"D\" tokens; and\n",
    "2. the total number of tokens.\n",
    "3. then, group by the \"correct\" answer and compute the mean frequency of A, B, C, and D tokens and the total number of tokens. \n",
    "4. finally, print your results\n",
    "\n",
    "B. /Discuss:/ What do you think of the hypothesis that the frequency of A, B, C, and D tokens could influence answers?\n"
   ]
  },
  {
   "cell_type": "code",
   "execution_count": 428,
   "id": "25419cc1-f058-4c51-a0aa-577272b8b578",
   "metadata": {},
   "outputs": [],
   "source": [
    "# A\n",
    "rows = []\n",
    "\n",
    "for _, row in df_test.iterrows():\n",
    "    # tokenize question\n",
    "    tokens_question = tokenize_text(row[\"question\"])\n",
    "\n",
    "    # tokenize answer options\n",
    "    token_ans_A = tokenize_text(str(row[\"A\"]).strip())\n",
    "    token_ans_B = tokenize_text(str(row[\"B\"]).strip())\n",
    "    token_ans_C = tokenize_text(str(row[\"C\"]).strip())\n",
    "    token_ans_D = tokenize_text(str(row[\"D\"]).strip())\n",
    "\n",
    "    # combine all tokens\n",
    "    all_tokens = tokens_question + token_ans_A + token_ans_B + token_ans_C + token_ans_D\n",
    "\n",
    "    # count occurrences of the **strings themselves**, not just single token\n",
    "    counts = {}\n",
    "    for letter in letters:\n",
    "        # count occurrences of letter in **question and all options as strings**\n",
    "        text_total = \" \".join([row[\"question\"], str(row[\"A\"]), str(row[\"B\"]), str(row[\"C\"]), str(row[\"D\"])]).upper()\n",
    "        counts[f\"Numb_of_{letter}\"] = text_total.count(letter)\n",
    "\n",
    "    # total number of tokens\n",
    "    counts[\"Numb_of_tokens\"] = len(all_tokens)\n",
    "\n",
    "    # correct answer\n",
    "    counts[\"Correct_Answer\"] = str(row[\"answer\"]).strip().upper()\n",
    "\n",
    "    rows.append(counts)\n",
    "\n",
    "df_tokens = pd.DataFrame(rows)\n"
   ]
  },
  {
   "cell_type": "code",
   "execution_count": 430,
   "id": "63433086",
   "metadata": {},
   "outputs": [],
   "source": [
    "mean_counts = df_tokens.groupby(\"Correct_Answer\")[[\"Numb_of_A\", \"Numb_of_B\", \"Numb_of_C\", \"Numb_of_D\", \"Numb_of_tokens\"]].mean()"
   ]
  },
  {
   "cell_type": "code",
   "execution_count": 431,
   "id": "261947ba",
   "metadata": {},
   "outputs": [
    {
     "data": {
      "application/vnd.microsoft.datawrangler.viewer.v0+json": {
       "columns": [
        {
         "name": "Correct_Answer",
         "rawType": "object",
         "type": "string"
        },
        {
         "name": "Numb_of_A",
         "rawType": "float64",
         "type": "float"
        },
        {
         "name": "Numb_of_B",
         "rawType": "float64",
         "type": "float"
        },
        {
         "name": "Numb_of_C",
         "rawType": "float64",
         "type": "float"
        },
        {
         "name": "Numb_of_D",
         "rawType": "float64",
         "type": "float"
        },
        {
         "name": "Numb_of_tokens",
         "rawType": "float64",
         "type": "float"
        }
       ],
       "ref": "e138e95d-0e51-4b02-b119-9f3abd3d3697",
       "rows": [
        [
         "A",
         "29.21104903786468",
         "5.148355058969584",
         "13.632526381129733",
         "13.262880198634388",
         "93.18156424581005"
        ],
        [
         "B",
         "27.498266897746966",
         "4.764298093587522",
         "12.810225303292894",
         "12.386481802426344",
         "88.83477758521086"
        ],
        [
         "C",
         "28.47710776102736",
         "5.127582356225572",
         "13.197654941373534",
         "12.93355667225014",
         "92.63958682300391"
        ],
        [
         "D",
         "28.648040254237287",
         "4.976959745762712",
         "13.362552966101696",
         "12.782309322033898",
         "92.10460805084746"
        ]
       ],
       "shape": {
        "columns": 5,
        "rows": 4
       }
      },
      "text/html": [
       "<div>\n",
       "<style scoped>\n",
       "    .dataframe tbody tr th:only-of-type {\n",
       "        vertical-align: middle;\n",
       "    }\n",
       "\n",
       "    .dataframe tbody tr th {\n",
       "        vertical-align: top;\n",
       "    }\n",
       "\n",
       "    .dataframe thead th {\n",
       "        text-align: right;\n",
       "    }\n",
       "</style>\n",
       "<table border=\"1\" class=\"dataframe\">\n",
       "  <thead>\n",
       "    <tr style=\"text-align: right;\">\n",
       "      <th></th>\n",
       "      <th>Numb_of_A</th>\n",
       "      <th>Numb_of_B</th>\n",
       "      <th>Numb_of_C</th>\n",
       "      <th>Numb_of_D</th>\n",
       "      <th>Numb_of_tokens</th>\n",
       "    </tr>\n",
       "    <tr>\n",
       "      <th>Correct_Answer</th>\n",
       "      <th></th>\n",
       "      <th></th>\n",
       "      <th></th>\n",
       "      <th></th>\n",
       "      <th></th>\n",
       "    </tr>\n",
       "  </thead>\n",
       "  <tbody>\n",
       "    <tr>\n",
       "      <th>A</th>\n",
       "      <td>29.211049</td>\n",
       "      <td>5.148355</td>\n",
       "      <td>13.632526</td>\n",
       "      <td>13.262880</td>\n",
       "      <td>93.181564</td>\n",
       "    </tr>\n",
       "    <tr>\n",
       "      <th>B</th>\n",
       "      <td>27.498267</td>\n",
       "      <td>4.764298</td>\n",
       "      <td>12.810225</td>\n",
       "      <td>12.386482</td>\n",
       "      <td>88.834778</td>\n",
       "    </tr>\n",
       "    <tr>\n",
       "      <th>C</th>\n",
       "      <td>28.477108</td>\n",
       "      <td>5.127582</td>\n",
       "      <td>13.197655</td>\n",
       "      <td>12.933557</td>\n",
       "      <td>92.639587</td>\n",
       "    </tr>\n",
       "    <tr>\n",
       "      <th>D</th>\n",
       "      <td>28.648040</td>\n",
       "      <td>4.976960</td>\n",
       "      <td>13.362553</td>\n",
       "      <td>12.782309</td>\n",
       "      <td>92.104608</td>\n",
       "    </tr>\n",
       "  </tbody>\n",
       "</table>\n",
       "</div>"
      ],
      "text/plain": [
       "                Numb_of_A  Numb_of_B  Numb_of_C  Numb_of_D  Numb_of_tokens\n",
       "Correct_Answer                                                            \n",
       "A               29.211049   5.148355  13.632526  13.262880       93.181564\n",
       "B               27.498267   4.764298  12.810225  12.386482       88.834778\n",
       "C               28.477108   5.127582  13.197655  12.933557       92.639587\n",
       "D               28.648040   4.976960  13.362553  12.782309       92.104608"
      ]
     },
     "execution_count": 431,
     "metadata": {},
     "output_type": "execute_result"
    }
   ],
   "source": [
    "mean_counts.head()"
   ]
  },
  {
   "cell_type": "markdown",
   "id": "3ea8a279",
   "metadata": {},
   "source": [
    "B. /Discuss:/"
   ]
  },
  {
   "cell_type": "markdown",
   "id": "af25ef95-d2ce-4112-87f7-8b0a52755e2a",
   "metadata": {},
   "source": [
    "### 3.3 (4 pt)\n",
    "\n",
    "Three of the most important considerations when deciding between language models are:\n",
    "\n",
    "Quality\n",
    "Costs\n",
    "Speed\n",
    "\n",
    "So far, much of your analysis has focused on quality. However, the government has indicated that they are quite concerned about both the total costs and speed as well. Specifically, it has been brought to their attention that a new `turbo` model has been launched! \n",
    "\n",
    "This model is both cheaper and faster than the models you evaluated so far. However, there is a catch: the context length* is much smaller than that of the other LMS. Namely, it can only process **300** tokens during inference. Meanwhile, the other models can process up to 100K tokens! \n",
    "\n",
    "*_The “context length” refers to the number of tokens that can be given to an LM as input._\n",
    "\n",
    "A. Are there subjects where using the cheaper model might be problematic? I.e., where part of the question and answer(s) might not fit completely in the context?\n",
    "\n",
    "B. /Discuss:/ Can you think of a strategy that would balance the needs of the government?\n",
    "\n",
    "**hint**:\n",
    "- An LM needs to have both the question and the different answer options in its context"
   ]
  },
  {
   "cell_type": "code",
   "execution_count": 432,
   "id": "a88a6fa3-2735-44d7-9944-076cc9f679ed",
   "metadata": {},
   "outputs": [],
   "source": [
    "# A\n",
    "\n",
    "rows = []\n",
    "\n",
    "for _, row in df_test.iterrows():\n",
    "    # tokenize question\n",
    "    tokens_question = tokenize_text(row[\"question\"])\n",
    "\n",
    "    # tokenize answer options\n",
    "    token_ans_A = tokenize_text(str(row[\"A\"]).strip())\n",
    "    token_ans_B = tokenize_text(str(row[\"B\"]).strip())\n",
    "    token_ans_C = tokenize_text(str(row[\"C\"]).strip())\n",
    "    token_ans_D = tokenize_text(str(row[\"D\"]).strip())\n",
    "\n",
    "    # combine all tokens\n",
    "    all_tokens = tokens_question + token_ans_A + token_ans_B + token_ans_C + token_ans_D\n",
    "\n",
    "    # count occurrences of the **strings themselves**, not just single token\n",
    "    counts = {}\n",
    "\n",
    "    # total number of tokens\n",
    "    counts[\"Numb_of_tokens\"] = len(all_tokens)\n",
    "\n",
    "    # correct answer\n",
    "    counts[\"Subject\"] = str(row[\"subject\"]).strip().upper()\n",
    "\n",
    "    rows.append(counts)\n",
    "\n",
    "df_final = pd.DataFrame(rows)"
   ]
  },
  {
   "cell_type": "code",
   "execution_count": 445,
   "id": "268a7b91",
   "metadata": {},
   "outputs": [
    {
     "data": {
      "application/vnd.microsoft.datawrangler.viewer.v0+json": {
       "columns": [
        {
         "name": "Subject",
         "rawType": "object",
         "type": "string"
        },
        {
         "name": "Mean_numb_of_tokens",
         "rawType": "float64",
         "type": "float"
        }
       ],
       "ref": "d4a5aaea-2501-49dd-98b7-8756bdf10105",
       "rows": [
        [
         "HIGH SCHOOL EUROPEAN HISTORY",
         "331.2181818181818"
        ],
        [
         "HIGH SCHOOL WORLD HISTORY",
         "328.53586497890296"
        ]
       ],
       "shape": {
        "columns": 1,
        "rows": 2
       }
      },
      "text/html": [
       "<div>\n",
       "<style scoped>\n",
       "    .dataframe tbody tr th:only-of-type {\n",
       "        vertical-align: middle;\n",
       "    }\n",
       "\n",
       "    .dataframe tbody tr th {\n",
       "        vertical-align: top;\n",
       "    }\n",
       "\n",
       "    .dataframe thead th {\n",
       "        text-align: right;\n",
       "    }\n",
       "</style>\n",
       "<table border=\"1\" class=\"dataframe\">\n",
       "  <thead>\n",
       "    <tr style=\"text-align: right;\">\n",
       "      <th></th>\n",
       "      <th>Mean_numb_of_tokens</th>\n",
       "    </tr>\n",
       "    <tr>\n",
       "      <th>Subject</th>\n",
       "      <th></th>\n",
       "    </tr>\n",
       "  </thead>\n",
       "  <tbody>\n",
       "    <tr>\n",
       "      <th>HIGH SCHOOL EUROPEAN HISTORY</th>\n",
       "      <td>331.218182</td>\n",
       "    </tr>\n",
       "    <tr>\n",
       "      <th>HIGH SCHOOL WORLD HISTORY</th>\n",
       "      <td>328.535865</td>\n",
       "    </tr>\n",
       "  </tbody>\n",
       "</table>\n",
       "</div>"
      ],
      "text/plain": [
       "                              Mean_numb_of_tokens\n",
       "Subject                                          \n",
       "HIGH SCHOOL EUROPEAN HISTORY           331.218182\n",
       "HIGH SCHOOL WORLD HISTORY              328.535865"
      ]
     },
     "execution_count": 445,
     "metadata": {},
     "output_type": "execute_result"
    }
   ],
   "source": [
    "df=df_final.groupby(\"Subject\").mean().rename(columns={\"Numb_of_tokens\":\"Mean_numb_of_tokens\"})\n",
    "df[df[\"Mean_numb_of_tokens\"]>300]"
   ]
  },
  {
   "cell_type": "markdown",
   "id": "47f8a44a",
   "metadata": {},
   "source": [
    "B. /Dicsuss:/\n",
    "\n",
    "The new LM could not be the best choice when answering questions about High school european history and High school world history because the average number of tokens in the question and answers is more than 300\n",
    "\n",
    "A strategy could be using the fast model for every question but the two mentioned above and a slow model for the 2 problematic subjects"
   ]
  },
  {
   "cell_type": "markdown",
   "id": "110f07bf-558f-467c-8f66-d88db561d455",
   "metadata": {},
   "source": [
    "### 3.4 (4 pt)\n",
    "\n",
    "/Discuss:/ The time has come to give your final recommendation on the use of LMs in education to the government! Taking into account everything you analyzed in all the preceding tasks (1, 2, and 3), please write a short recommendation consisting of 4 bullet points discussing your concerns.\n",
    "\n",
    "**hint**\n",
    "- Try to use the MECE framework: _Mutually Exclusive Collectively Exhaustive_"
   ]
  },
  {
   "cell_type": "markdown",
   "id": "434a5fa5",
   "metadata": {},
   "source": [
    "/Discuss:/\n",
    "1. \n",
    "\n",
    "2. \n",
    "\n",
    "3. \n",
    "\n",
    "4. "
   ]
  }
 ],
 "metadata": {
  "kernelspec": {
   "display_name": "ada",
   "language": "python",
   "name": "python3"
  },
  "language_info": {
   "codemirror_mode": {
    "name": "ipython",
    "version": 3
   },
   "file_extension": ".py",
   "mimetype": "text/x-python",
   "name": "python",
   "nbconvert_exporter": "python",
   "pygments_lexer": "ipython3",
   "version": "3.13.7"
  }
 },
 "nbformat": 4,
 "nbformat_minor": 5
}
