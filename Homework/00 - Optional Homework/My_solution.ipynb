{
 "cells": [
  {
   "cell_type": "code",
   "execution_count": 2,
   "id": "37b0d68b",
   "metadata": {},
   "outputs": [],
   "source": [
    "import pandas as pd"
   ]
  },
  {
   "cell_type": "markdown",
   "id": "2c369945",
   "metadata": {},
   "source": [
    "Getting the data"
   ]
  },
  {
   "cell_type": "code",
   "execution_count": 4,
   "id": "42ef2e60",
   "metadata": {},
   "outputs": [
    {
     "data": {
      "application/vnd.microsoft.datawrangler.viewer.v0+json": {
       "columns": [
        {
         "name": "index",
         "rawType": "int64",
         "type": "integer"
        },
        {
         "name": "Unnamed: 0",
         "rawType": "int64",
         "type": "integer"
        },
        {
         "name": "Intent",
         "rawType": "object",
         "type": "string"
        },
        {
         "name": "Gender",
         "rawType": "object",
         "type": "string"
        },
        {
         "name": "Age",
         "rawType": "object",
         "type": "string"
        },
        {
         "name": "Race",
         "rawType": "object",
         "type": "string"
        },
        {
         "name": "Deaths",
         "rawType": "int64",
         "type": "integer"
        },
        {
         "name": "Population",
         "rawType": "int64",
         "type": "integer"
        },
        {
         "name": "Rate",
         "rawType": "float64",
         "type": "float"
        }
       ],
       "ref": "a3f112de-2629-4bee-b161-40b5455add17",
       "rows": [
        [
         "0",
         "1",
         "None selected",
         "None selected",
         "None selected",
         "None selected",
         "33599",
         "316299978",
         "10.6"
        ],
        [
         "1",
         "2",
         "None selected",
         "None selected",
         "None selected",
         "White",
         "22079",
         "197369634",
         "11.2"
        ],
        [
         "2",
         "3",
         "None selected",
         "None selected",
         "None selected",
         "Black",
         "7765",
         "38896382",
         "20.0"
        ],
        [
         "3",
         "4",
         "None selected",
         "None selected",
         "None selected",
         "Hispanic",
         "3007",
         "54049078",
         "5.6"
        ],
        [
         "4",
         "5",
         "None selected",
         "None selected",
         "None selected",
         "Asian/Pacific Islander",
         "442",
         "16315561",
         "2.7"
        ]
       ],
       "shape": {
        "columns": 8,
        "rows": 5
       }
      },
      "text/html": [
       "<div>\n",
       "<style scoped>\n",
       "    .dataframe tbody tr th:only-of-type {\n",
       "        vertical-align: middle;\n",
       "    }\n",
       "\n",
       "    .dataframe tbody tr th {\n",
       "        vertical-align: top;\n",
       "    }\n",
       "\n",
       "    .dataframe thead th {\n",
       "        text-align: right;\n",
       "    }\n",
       "</style>\n",
       "<table border=\"1\" class=\"dataframe\">\n",
       "  <thead>\n",
       "    <tr style=\"text-align: right;\">\n",
       "      <th></th>\n",
       "      <th>Unnamed: 0</th>\n",
       "      <th>Intent</th>\n",
       "      <th>Gender</th>\n",
       "      <th>Age</th>\n",
       "      <th>Race</th>\n",
       "      <th>Deaths</th>\n",
       "      <th>Population</th>\n",
       "      <th>Rate</th>\n",
       "    </tr>\n",
       "  </thead>\n",
       "  <tbody>\n",
       "    <tr>\n",
       "      <th>0</th>\n",
       "      <td>1</td>\n",
       "      <td>None selected</td>\n",
       "      <td>None selected</td>\n",
       "      <td>None selected</td>\n",
       "      <td>None selected</td>\n",
       "      <td>33599</td>\n",
       "      <td>316299978</td>\n",
       "      <td>10.6</td>\n",
       "    </tr>\n",
       "    <tr>\n",
       "      <th>1</th>\n",
       "      <td>2</td>\n",
       "      <td>None selected</td>\n",
       "      <td>None selected</td>\n",
       "      <td>None selected</td>\n",
       "      <td>White</td>\n",
       "      <td>22079</td>\n",
       "      <td>197369634</td>\n",
       "      <td>11.2</td>\n",
       "    </tr>\n",
       "    <tr>\n",
       "      <th>2</th>\n",
       "      <td>3</td>\n",
       "      <td>None selected</td>\n",
       "      <td>None selected</td>\n",
       "      <td>None selected</td>\n",
       "      <td>Black</td>\n",
       "      <td>7765</td>\n",
       "      <td>38896382</td>\n",
       "      <td>20.0</td>\n",
       "    </tr>\n",
       "    <tr>\n",
       "      <th>3</th>\n",
       "      <td>4</td>\n",
       "      <td>None selected</td>\n",
       "      <td>None selected</td>\n",
       "      <td>None selected</td>\n",
       "      <td>Hispanic</td>\n",
       "      <td>3007</td>\n",
       "      <td>54049078</td>\n",
       "      <td>5.6</td>\n",
       "    </tr>\n",
       "    <tr>\n",
       "      <th>4</th>\n",
       "      <td>5</td>\n",
       "      <td>None selected</td>\n",
       "      <td>None selected</td>\n",
       "      <td>None selected</td>\n",
       "      <td>Asian/Pacific Islander</td>\n",
       "      <td>442</td>\n",
       "      <td>16315561</td>\n",
       "      <td>2.7</td>\n",
       "    </tr>\n",
       "  </tbody>\n",
       "</table>\n",
       "</div>"
      ],
      "text/plain": [
       "   Unnamed: 0         Intent         Gender            Age  \\\n",
       "0           1  None selected  None selected  None selected   \n",
       "1           2  None selected  None selected  None selected   \n",
       "2           3  None selected  None selected  None selected   \n",
       "3           4  None selected  None selected  None selected   \n",
       "4           5  None selected  None selected  None selected   \n",
       "\n",
       "                     Race  Deaths  Population  Rate  \n",
       "0           None selected   33599   316299978  10.6  \n",
       "1                   White   22079   197369634  11.2  \n",
       "2                   Black    7765    38896382  20.0  \n",
       "3                Hispanic    3007    54049078   5.6  \n",
       "4  Asian/Pacific Islander     442    16315561   2.7  "
      ]
     },
     "execution_count": 4,
     "metadata": {},
     "output_type": "execute_result"
    }
   ],
   "source": [
    "data=pd.read_csv(\"interactive_data.csv\")\n",
    "data.head(5)"
   ]
  },
  {
   "cell_type": "markdown",
   "id": "33193346",
   "metadata": {},
   "source": [
    "Filtering all the rows with at least one None selected"
   ]
  },
  {
   "cell_type": "code",
   "execution_count": 5,
   "id": "5a6aee38",
   "metadata": {},
   "outputs": [
    {
     "data": {
      "application/vnd.microsoft.datawrangler.viewer.v0+json": {
       "columns": [
        {
         "name": "index",
         "rawType": "int64",
         "type": "integer"
        },
        {
         "name": "Unnamed: 0",
         "rawType": "int64",
         "type": "integer"
        },
        {
         "name": "Intent",
         "rawType": "object",
         "type": "string"
        },
        {
         "name": "Gender",
         "rawType": "object",
         "type": "string"
        },
        {
         "name": "Age",
         "rawType": "object",
         "type": "string"
        },
        {
         "name": "Race",
         "rawType": "object",
         "type": "string"
        },
        {
         "name": "Deaths",
         "rawType": "int64",
         "type": "integer"
        },
        {
         "name": "Population",
         "rawType": "int64",
         "type": "integer"
        },
        {
         "name": "Rate",
         "rawType": "float64",
         "type": "float"
        }
       ],
       "ref": "67434b9c-242e-4473-8a9a-186319918799",
       "rows": [
        [
         "151",
         "152",
         "Suicide",
         "Female",
         "Under 15",
         "White",
         "19",
         "15355910",
         "0.1"
        ],
        [
         "152",
         "153",
         "Suicide",
         "Female",
         "Under 15",
         "Black",
         "1",
         "4095428",
         "0.0"
        ],
        [
         "153",
         "154",
         "Suicide",
         "Female",
         "Under 15",
         "Hispanic",
         "4",
         "7330024",
         "0.1"
        ],
        [
         "154",
         "155",
         "Suicide",
         "Female",
         "Under 15",
         "Asian/Pacific Islander",
         "1",
         "1393440",
         "0.1"
        ],
        [
         "155",
         "156",
         "Suicide",
         "Female",
         "Under 15",
         "Other",
         "0",
         "1661877",
         "0.0"
        ]
       ],
       "shape": {
        "columns": 8,
        "rows": 5
       }
      },
      "text/html": [
       "<div>\n",
       "<style scoped>\n",
       "    .dataframe tbody tr th:only-of-type {\n",
       "        vertical-align: middle;\n",
       "    }\n",
       "\n",
       "    .dataframe tbody tr th {\n",
       "        vertical-align: top;\n",
       "    }\n",
       "\n",
       "    .dataframe thead th {\n",
       "        text-align: right;\n",
       "    }\n",
       "</style>\n",
       "<table border=\"1\" class=\"dataframe\">\n",
       "  <thead>\n",
       "    <tr style=\"text-align: right;\">\n",
       "      <th></th>\n",
       "      <th>Unnamed: 0</th>\n",
       "      <th>Intent</th>\n",
       "      <th>Gender</th>\n",
       "      <th>Age</th>\n",
       "      <th>Race</th>\n",
       "      <th>Deaths</th>\n",
       "      <th>Population</th>\n",
       "      <th>Rate</th>\n",
       "    </tr>\n",
       "  </thead>\n",
       "  <tbody>\n",
       "    <tr>\n",
       "      <th>151</th>\n",
       "      <td>152</td>\n",
       "      <td>Suicide</td>\n",
       "      <td>Female</td>\n",
       "      <td>Under 15</td>\n",
       "      <td>White</td>\n",
       "      <td>19</td>\n",
       "      <td>15355910</td>\n",
       "      <td>0.1</td>\n",
       "    </tr>\n",
       "    <tr>\n",
       "      <th>152</th>\n",
       "      <td>153</td>\n",
       "      <td>Suicide</td>\n",
       "      <td>Female</td>\n",
       "      <td>Under 15</td>\n",
       "      <td>Black</td>\n",
       "      <td>1</td>\n",
       "      <td>4095428</td>\n",
       "      <td>0.0</td>\n",
       "    </tr>\n",
       "    <tr>\n",
       "      <th>153</th>\n",
       "      <td>154</td>\n",
       "      <td>Suicide</td>\n",
       "      <td>Female</td>\n",
       "      <td>Under 15</td>\n",
       "      <td>Hispanic</td>\n",
       "      <td>4</td>\n",
       "      <td>7330024</td>\n",
       "      <td>0.1</td>\n",
       "    </tr>\n",
       "    <tr>\n",
       "      <th>154</th>\n",
       "      <td>155</td>\n",
       "      <td>Suicide</td>\n",
       "      <td>Female</td>\n",
       "      <td>Under 15</td>\n",
       "      <td>Asian/Pacific Islander</td>\n",
       "      <td>1</td>\n",
       "      <td>1393440</td>\n",
       "      <td>0.1</td>\n",
       "    </tr>\n",
       "    <tr>\n",
       "      <th>155</th>\n",
       "      <td>156</td>\n",
       "      <td>Suicide</td>\n",
       "      <td>Female</td>\n",
       "      <td>Under 15</td>\n",
       "      <td>Other</td>\n",
       "      <td>0</td>\n",
       "      <td>1661877</td>\n",
       "      <td>0.0</td>\n",
       "    </tr>\n",
       "  </tbody>\n",
       "</table>\n",
       "</div>"
      ],
      "text/plain": [
       "     Unnamed: 0   Intent  Gender       Age                    Race  Deaths  \\\n",
       "151         152  Suicide  Female  Under 15                   White      19   \n",
       "152         153  Suicide  Female  Under 15                   Black       1   \n",
       "153         154  Suicide  Female  Under 15                Hispanic       4   \n",
       "154         155  Suicide  Female  Under 15  Asian/Pacific Islander       1   \n",
       "155         156  Suicide  Female  Under 15                   Other       0   \n",
       "\n",
       "     Population  Rate  \n",
       "151    15355910   0.1  \n",
       "152     4095428   0.0  \n",
       "153     7330024   0.1  \n",
       "154     1393440   0.1  \n",
       "155     1661877   0.0  "
      ]
     },
     "execution_count": 5,
     "metadata": {},
     "output_type": "execute_result"
    }
   ],
   "source": [
    "data_filtered=data.loc[~(data=='None selected').any(axis=1)]\n",
    "data_filtered.head(5)"
   ]
  },
  {
   "cell_type": "markdown",
   "id": "378aa2e4",
   "metadata": {},
   "source": []
  },
  {
   "cell_type": "markdown",
   "id": "1aa42f3b",
   "metadata": {},
   "source": [
    "Number of all deaths"
   ]
  },
  {
   "cell_type": "code",
   "execution_count": 6,
   "id": "9c778ac4",
   "metadata": {},
   "outputs": [
    {
     "data": {
      "text/plain": [
       "np.int64(33595)"
      ]
     },
     "execution_count": 6,
     "metadata": {},
     "output_type": "execute_result"
    }
   ],
   "source": [
    "all_deaths=data_filtered['Deaths'].sum()\n",
    "all_deaths"
   ]
  },
  {
   "cell_type": "markdown",
   "id": "90fc88d5",
   "metadata": {},
   "source": [
    "Number of suicides"
   ]
  },
  {
   "cell_type": "code",
   "execution_count": 7,
   "id": "cd414e27",
   "metadata": {},
   "outputs": [
    {
     "data": {
      "text/plain": [
       "np.int64(21058)"
      ]
     },
     "execution_count": 7,
     "metadata": {},
     "output_type": "execute_result"
    }
   ],
   "source": [
    "suicides_number=data_filtered[data_filtered['Intent']=='Suicide']['Deaths'].sum() #come righe prendo solo quelle True ottenute paragonando tutta la colonna Intent con la stringa Suicied e come colonne prendo solo quella di Deaths\n",
    "suicides_number"
   ]
  },
  {
   "cell_type": "code",
   "execution_count": 8,
   "id": "2cdd0972",
   "metadata": {},
   "outputs": [
    {
     "name": "stdout",
     "output_type": "stream",
     "text": [
      "Suicides ratio is 62.68194671826165 %\n"
     ]
    }
   ],
   "source": [
    "ratio_suicides=suicides_number/all_deaths\n",
    "print(f\"Suicides ratio is {ratio_suicides*100} %\")"
   ]
  },
  {
   "cell_type": "markdown",
   "id": "fe7fdb3a",
   "metadata": {},
   "source": [
    "It is true that almost **two third** of the death are *suicides*"
   ]
  },
  {
   "cell_type": "markdown",
   "id": "c4d50d24",
   "metadata": {},
   "source": [
    "Number of male suicides"
   ]
  },
  {
   "cell_type": "code",
   "execution_count": 9,
   "id": "845255c5",
   "metadata": {},
   "outputs": [
    {
     "name": "stdout",
     "output_type": "stream",
     "text": [
      "18161\n"
     ]
    }
   ],
   "source": [
    "number_male_suicides=data_filtered[(data_filtered['Intent']=='Suicide') & (data_filtered['Gender']=='Male')]['Deaths'].sum()\n",
    "print(number_male_suicides)"
   ]
  },
  {
   "cell_type": "code",
   "execution_count": 10,
   "id": "755ce614",
   "metadata": {},
   "outputs": [
    {
     "name": "stdout",
     "output_type": "stream",
     "text": [
      "Male suicides ratio is 86.24275809668535%\n"
     ]
    }
   ],
   "source": [
    "print(f\"Male suicides ratio is {100*number_male_suicides/suicides_number}%\")"
   ]
  },
  {
   "cell_type": "markdown",
   "id": "ad82fa32",
   "metadata": {},
   "source": [
    "True that more than **85%** of suicide victims are *male*."
   ]
  },
  {
   "cell_type": "code",
   "execution_count": 11,
   "id": "e407c972",
   "metadata": {},
   "outputs": [
    {
     "data": {
      "text/plain": [
       "array(['Suicide', 'Homicide', 'Accident', 'Unknown'], dtype=object)"
      ]
     },
     "execution_count": 11,
     "metadata": {},
     "output_type": "execute_result"
    }
   ],
   "source": [
    "data_filtered['Intent'].unique()"
   ]
  },
  {
   "cell_type": "markdown",
   "id": "389cb4ae",
   "metadata": {},
   "source": [
    "If they where just Suicide and Homicide was trivial"
   ]
  },
  {
   "cell_type": "code",
   "execution_count": 12,
   "id": "93d54368",
   "metadata": {},
   "outputs": [],
   "source": [
    "homicides_number=data_filtered[data_filtered['Intent']=='Homicide']['Deaths'].sum()"
   ]
  },
  {
   "cell_type": "code",
   "execution_count": 13,
   "id": "8d9feb9e",
   "metadata": {},
   "outputs": [
    {
     "name": "stdout",
     "output_type": "stream",
     "text": [
      "Homicide ratio is 34.906980205387704%\n"
     ]
    }
   ],
   "source": [
    "print(f\"Homicide ratio is {100*homicides_number/all_deaths}%\")"
   ]
  },
  {
   "cell_type": "code",
   "execution_count": 14,
   "id": "31d91cae",
   "metadata": {},
   "outputs": [
    {
     "data": {
      "text/plain": [
       "array(['Under 15', '15 - 34', '35 - 64', '65+', '5'], dtype=object)"
      ]
     },
     "execution_count": 14,
     "metadata": {},
     "output_type": "execute_result"
    }
   ],
   "source": [
    "data_filtered['Age'].unique()"
   ]
  },
  {
   "cell_type": "code",
   "execution_count": 15,
   "id": "3e55b0e8",
   "metadata": {},
   "outputs": [],
   "source": [
    "Age_15_34_male_homicides_number=data_filtered[(data_filtered['Intent']=='Homicide')&(data_filtered['Gender']=='Male')&(data_filtered['Age']=='15 - 34')]['Deaths'].sum()\n",
    "black_15_34_male_homicides_number=data_filtered[(data_filtered['Intent']=='Homicide')&(data_filtered['Gender']=='Male')&(data_filtered['Age']=='15 - 34')&(data_filtered['Race']=='Black')]['Deaths'].sum()"
   ]
  },
  {
   "cell_type": "code",
   "execution_count": 16,
   "id": "2c77813e",
   "metadata": {},
   "outputs": [
    {
     "name": "stdout",
     "output_type": "stream",
     "text": [
      "Black, between 15 and 34, male homicide ratio is 66.12482748044778%\n"
     ]
    }
   ],
   "source": [
    "print(f\"Black, between 15 and 34, male homicide ratio is {100*black_15_34_male_homicides_number/Age_15_34_male_homicides_number}%\")"
   ]
  },
  {
   "cell_type": "markdown",
   "id": "203c0389",
   "metadata": {},
   "source": [
    "It is true that around **two-thirds** of homicide victims who are *males* in the *age-group of 15--34* are *black*.\n"
   ]
  },
  {
   "cell_type": "code",
   "execution_count": 17,
   "id": "c62c9a0e",
   "metadata": {},
   "outputs": [],
   "source": [
    "female_homicides_number=data_filtered[(data_filtered['Intent']=='Homicide')&(data_filtered['Gender']=='Female')]['Deaths'].sum()\n",
    "homicides_number=data_filtered[data_filtered['Intent']=='Homicide']['Deaths'].sum()"
   ]
  },
  {
   "cell_type": "code",
   "execution_count": 18,
   "id": "e2020fd5",
   "metadata": {},
   "outputs": [
    {
     "name": "stdout",
     "output_type": "stream",
     "text": [
      "Female homicide ratio is 15.28950285665558%\n"
     ]
    }
   ],
   "source": [
    "print(f\"Female homicide ratio is {100*female_homicides_number/homicides_number}%\")"
   ]
  },
  {
   "cell_type": "markdown",
   "id": "3de687c1",
   "metadata": {},
   "source": [
    "It is true that *Women* constitue only **15%** of the total *homicide* victims"
   ]
  }
 ],
 "metadata": {
  "kernelspec": {
   "display_name": "ada",
   "language": "python",
   "name": "python3"
  },
  "language_info": {
   "codemirror_mode": {
    "name": "ipython",
    "version": 3
   },
   "file_extension": ".py",
   "mimetype": "text/x-python",
   "name": "python",
   "nbconvert_exporter": "python",
   "pygments_lexer": "ipython3",
   "version": "3.13.7"
  }
 },
 "nbformat": 4,
 "nbformat_minor": 5
}
